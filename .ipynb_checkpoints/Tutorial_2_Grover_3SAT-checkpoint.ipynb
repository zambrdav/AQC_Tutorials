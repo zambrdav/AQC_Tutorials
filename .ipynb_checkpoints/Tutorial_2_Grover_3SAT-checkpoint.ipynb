{
 "cells": [
  {
   "cell_type": "markdown",
   "metadata": {
    "id": "304-TlKqtKfO"
   },
   "source": [
    "# 3-SAT Problem Statement\n",
    "\n"
   ]
  },
  {
   "cell_type": "markdown",
   "metadata": {
    "id": "2Db989vntcDf"
   },
   "source": [
    "A SAT (satisfiability) problem has as input a boolean expression in conjunctive normal form. In particular, the 3-SAT problem restricts the input to expressions where each clause has 3 literals.\n",
    "\n",
    "Example:\n",
    "\n",
    "F($x_1, x_2, x_3$) = ($x_1$ OR $x_2$ OR NOT($x_3$)) AND (NOT($x_1$) OR $x_2$ OR NOT($x_3$))\n",
    "\n",
    "Possible solutions for this instance of a 3-SAT problem are: ($x_1, x_2, x_3$) $\\in$ {(0, 0, 0), (0, 1, 0),..., (1, 1, 1)}. For example (0, 0, 1) is not a viable solution, because it does not respect the first clause: 0 OR 0 OR NOT(1) = 0 (false), and a false clause in an \"AND\" automatically leads to the final result of false.\n",
    "\n",
    "We will now use Grover's algorithm to solve the \"Exactly-One\" variant of the 3-SAT problem quadratically faster than the classical algorithm. Let N be the number of all possible solutions. Then the classical algorithm requires O(N) iterations to try them all, whereas the quantum approach only needs O($\\sqrt{N}$) iterations. The \"Exactly-One\" variation imposes only one restriction, that only one of the literals in each clause is true. So, for the example above, we cannot have $x_1$ true, $x_2$ true and $x_3$ false at the same time. Same applies to having $x_1$ false, $x_2$ true and $x_3$ false at the same time, in the case of the second clause."
   ]
  },
  {
   "cell_type": "markdown",
   "metadata": {
    "id": "rW57COphtSkl"
   },
   "source": [
    "## Importing the necessary libraries"
   ]
  },
  {
   "cell_type": "code",
   "execution_count": null,
   "metadata": {
    "colab": {
     "base_uri": "https://localhost:8080/"
    },
    "id": "_x61SccV88eO",
    "outputId": "b4f70a9c-f53f-4728-cfac-0ee8681818fa"
   },
   "outputs": [],
   "source": [
    "# Uncomment the 2 lines below to install the libraries from the notebook, if necessary\n",
    "# !pip install qiskit\n",
    "# !pip install pylatexenc\n",
    "from qiskit import QuantumCircuit, assemble, ClassicalRegister, QuantumRegister, BasicAer, execute\n",
    "from qiskit.visualization import plot_histogram\n",
    "%matplotlib inline"
   ]
  },
  {
   "cell_type": "markdown",
   "metadata": {
    "id": "75X2D1R3fbJ4"
   },
   "source": [
    "## Step 0: Preparing the input"
   ]
  },
  {
   "cell_type": "code",
   "execution_count": null,
   "metadata": {
    "id": "_wPnxJbGfaXv"
   },
   "outputs": [],
   "source": [
    "def input_state(circuit, circuit_input, circuit_output, n):\n",
    "    \"\"\"(n+1)-qubit input state for Grover search.\"\"\"\n",
    "\n",
    "    # With Hadamard gates on all input qubits, we create\n",
    "    # an equal superposition of all possible solution states\n",
    "    for j in range(n):\n",
    "        circuit.h(circuit_input[j])\n",
    "\n",
    "    # This is to initialize the ancillary qubit from |0> to |-> = (|0> - |1>)/ sqrt(2)\n",
    "    circuit.x(circuit_output)\n",
    "    circuit.h(circuit_output)"
   ]
  },
  {
   "cell_type": "markdown",
   "metadata": {
    "id": "Bpkd7CQU8Yz2"
   },
   "source": [
    "## Step 1: the Oracle"
   ]
  },
  {
   "cell_type": "code",
   "execution_count": null,
   "metadata": {
    "id": "VY46riYT6BzS"
   },
   "outputs": [],
   "source": [
    "def oracle(circuit, circuit_input, circuit_output, aux, n, exactly_1_3_sat_formula):\n",
    "    \"\"\"\n",
    "    Creates a circuit that verifies whether a given exactly-1 3-SAT\n",
    "    formula is satisfied by the input circuit_input. The exactly-1 version\n",
    "    requires exactly one literal out of every clause to be satisfied.\n",
    "    \"\"\"\n",
    "    num_clauses = len(exactly_1_3_sat_formula)\n",
    "    for (k, clause) in enumerate(exactly_1_3_sat_formula):\n",
    "        # This loop ensures aux[k] is 1 if an odd number of literals\n",
    "        # are true, where aux are the qubits that retain if each\n",
    "        # clause is true or false\n",
    "        for literal in clause:\n",
    "            # if the literal is positive (not negated), it controls the \n",
    "            # negation of the clause as it is\n",
    "            if literal > 0:\n",
    "                circuit.cx(circuit_input[literal-1], aux[k])\n",
    "            else:\n",
    "            # If the literal is negative (and thus negated -- e.g. NOT(a)), it has\n",
    "            # to be first flipped by an x gate\n",
    "                circuit.x(circuit_input[-literal-1])\n",
    "                circuit.cx(circuit_input[-literal-1], aux[k])\n",
    "\n",
    "        # Flip aux[k] if all literals are true, using auxiliary qubit\n",
    "        # (ancilla) aux[num_clauses]\n",
    "        circuit.ccx(circuit_input[0], circuit_input[1], aux[num_clauses])\n",
    "        circuit.ccx(circuit_input[2], aux[num_clauses], aux[k])\n",
    "        # Flip back to reverse state of negative literals and ancilla\n",
    "        circuit.ccx(circuit_input[0], circuit_input[1], aux[num_clauses])\n",
    "        for literal in clause:\n",
    "            if literal < 0:\n",
    "                circuit.x(circuit_input[-literal-1])\n",
    "\n",
    "    # The formula is satisfied if and only if all auxiliary qubits\n",
    "    # except aux[num_clauses] are 1\n",
    "    if (num_clauses == 1):\n",
    "        circuit.cx(aux[0], circuit_output[0])\n",
    "    elif (num_clauses == 2):\n",
    "        circuit.ccx(aux[0], aux[1], circuit_output[0])\n",
    "    elif (num_clauses == 3):\n",
    "        circuit.ccx(aux[0], aux[1], aux[num_clauses])\n",
    "        circuit.ccx(aux[2], aux[num_clauses], circuit_output[0])\n",
    "        circuit.ccx(aux[0], aux[1], aux[num_clauses])\n",
    "    else:\n",
    "        raise ValueError('We only allow at most 3 clauses')\n",
    "\n",
    "    # Flip back any auxiliary qubits to make sure state is consistent\n",
    "    # for the next iterations of the oracle + phase-amplification\n",
    "    # stages of the circuit\n",
    "    for (k, clause) in enumerate(exactly_1_3_sat_formula):\n",
    "        for literal in clause:\n",
    "            if literal > 0:\n",
    "                circuit.cx(circuit_input[literal-1], aux[k])\n",
    "            else:\n",
    "                circuit.x(circuit_input[-literal-1])\n",
    "                circuit.cx(circuit_input[-literal-1], aux[k])\n",
    "        circuit.ccx(circuit_input[0], circuit_input[1], aux[num_clauses])\n",
    "        circuit.ccx(circuit_input[2], aux[num_clauses], aux[k])\n",
    "        circuit.ccx(circuit_input[0], circuit_input[1], aux[num_clauses])\n",
    "        for literal in clause:\n",
    "            if literal < 0:\n",
    "                circuit.x(circuit_input[-literal-1])"
   ]
  },
  {
   "cell_type": "code",
   "execution_count": null,
   "metadata": {
    "colab": {
     "base_uri": "https://localhost:8080/"
    },
    "id": "N3GnS2Ln0Nyj",
    "outputId": "50881e03-3a85-4354-ff9f-b9988fa4afc5"
   },
   "outputs": [],
   "source": [
    "# How does this oracle circuit look like?\n",
    "n = 3\n",
    "exactly_1_3_sat_formula = [[1, 2, -3], [-1, -2, -3], [-1, 2, 3]]\n",
    "oracle_circuit = QuantumCircuit()\n",
    "circuit_input = QuantumRegister(n)\n",
    "circuit_output = QuantumRegister(1)\n",
    "aux = QuantumRegister(len(exactly_1_3_sat_formula) + 1)\n",
    "oracle_circuit.add_register(circuit_input)\n",
    "oracle_circuit.add_register(circuit_output)\n",
    "oracle_circuit.add_register(aux)\n",
    "\n",
    "oracle(oracle_circuit, circuit_input, circuit_output, aux, n, exactly_1_3_sat_formula)\n",
    "\n",
    "# How many gates are inside ? \n",
    "print(oracle_circuit.count_ops())\n",
    "\n",
    "# Let's see the circuit\n",
    "print(oracle_circuit.draw())"
   ]
  },
  {
   "cell_type": "markdown",
   "metadata": {
    "id": "XOscUJwbS3EG"
   },
   "source": [
    "## Step 2: the Phase Amplification"
   ]
  },
  {
   "cell_type": "code",
   "execution_count": null,
   "metadata": {
    "id": "kAYFMnI76JLJ"
   },
   "outputs": [],
   "source": [
    "# We need the 2-controlled-Z gate to change the phase of the quantum state\n",
    "# if it is a solution for our 3-SAT problem, which \n",
    "# Qiskit does not yet offer\n",
    "def n_controlled_Z(circuit, controls, target):\n",
    "    if (len(controls) > 2):\n",
    "        raise ValueError('The controlled Z with more than 2 ' +\n",
    "                         'controls is not implemented')\n",
    "    elif (len(controls) == 1):\n",
    "        circuit.h(target)\n",
    "        circuit.cx(controls[0], target)\n",
    "        circuit.h(target)\n",
    "    elif (len(controls) == 2):\n",
    "        circuit.h(target)\n",
    "        circuit.ccx(controls[0], controls[1], target)\n",
    "        circuit.h(target)\n",
    "\n",
    "def phase_amplification(circuit, circuit_input, n):\n",
    "    # Hadamards everywhere\n",
    "    for j in range(n):\n",
    "        circuit.h(circuit_input[j])\n",
    "    # D matrix: flips the sign of the state |000> only\n",
    "    for j in range(n):\n",
    "        circuit.x(circuit_input[j])\n",
    "    n_controlled_Z(circuit, [circuit_input[j] for j in range(n-1)], circuit_input[n-1])\n",
    "    for j in range(n):\n",
    "        circuit.x(circuit_input[j])\n",
    "    # Hadamards everywhere again\n",
    "    for j in range(n):\n",
    "        circuit.h(circuit_input[j])"
   ]
  },
  {
   "cell_type": "code",
   "execution_count": null,
   "metadata": {
    "colab": {
     "base_uri": "https://localhost:8080/",
     "height": 125
    },
    "id": "wTkAu0TTy4ZU",
    "outputId": "188535f0-3a47-4485-a9f3-7ea49b6f4829"
   },
   "outputs": [],
   "source": [
    "# Let's see how the phase amplification circuit looks like\n",
    "# for 3 qubits\n",
    "n = 3\n",
    "phase_amplification_circuit = QuantumCircuit()\n",
    "circuit_input = QuantumRegister(n)\n",
    "phase_amplification_circuit.add_register(circuit_input)\n",
    "phase_amplification(phase_amplification_circuit, circuit_input, n)\n",
    "phase_amplification_circuit.draw()"
   ]
  },
  {
   "cell_type": "markdown",
   "metadata": {
    "id": "4FDyuCHBfRzZ"
   },
   "source": [
    "## Finally: let's put it all together and solve the Exactly-One 3-SAT"
   ]
  },
  {
   "cell_type": "code",
   "execution_count": null,
   "metadata": {
    "colab": {
     "base_uri": "https://localhost:8080/",
     "height": 340
    },
    "id": "vXTKj6qL5qP2",
    "outputId": "b8d2b50a-662c-4b3f-d7f4-42cd01b68c10"
   },
   "outputs": [],
   "source": [
    "# Now w will make a quantum program for the n-bit Grover search.\n",
    "# In this particular instance, we chose n=3 so we have 3 input variables\n",
    "n = 3\n",
    "\n",
    "# Only ONE literal is true in each clause\n",
    "# Exactly-1 3-SAT formula to be satisfied, in conjunctive\n",
    "# normal form. We represent literals with integers, positive or\n",
    "# negative, to indicate a Boolean variable or its negation.\n",
    "exactly_1_3_sat_formula = [[1, 2, -3], [-1, -2, -3], [-1, 2, 3]]\n",
    "\n",
    "# Define three quantum registers: 'circuit_input' is the search space (input\n",
    "# to the function f), 'circuit_output' is bit used for the output of function\n",
    "# f, aux are the auxiliary bits used by f to perform its\n",
    "# computation.\n",
    "circuit_input = QuantumRegister(n)\n",
    "circuit_output = QuantumRegister(1)\n",
    "aux = QuantumRegister(len(exactly_1_3_sat_formula) + 1)\n",
    "\n",
    "# Define classical register for algorithm result\n",
    "ans = ClassicalRegister(n)\n",
    "\n",
    "# Add to the quantum circuit the above quantum and classical registers\n",
    "grover = QuantumCircuit()\n",
    "grover.add_register(circuit_input)\n",
    "grover.add_register(circuit_output)\n",
    "grover.add_register(aux)\n",
    "grover.add_register(ans)\n",
    "\n",
    "# Prepare the input state for Grover search: the equal superposition\n",
    "# and the |-> state\n",
    "input_state(grover, circuit_input, circuit_output, n)\n",
    "\n",
    "# Define how many iteration one uses\n",
    "# Formula is T ~ O(sqrt(N/M)), where N is the number of all possible solutions\n",
    "# and M is the number of actual solutions\n",
    "# In our case, N = 2^3 = 8 and M = 1\n",
    "T = 3 # Should be enough iterations to spot a solution\n",
    "for t in range(T):\n",
    "    # Apply T full iterations\n",
    "    oracle(grover, circuit_input, circuit_output, aux, n, exactly_1_3_sat_formula)\n",
    "    phase_amplification(grover, circuit_input, n)\n",
    "\n",
    "# Measure the output register in the computational basis\n",
    "for j in range(n):\n",
    "    grover.measure(circuit_input[j], ans[j])\n",
    "\n",
    "# Execute circuit\n",
    "backend = BasicAer.get_backend('qasm_simulator')\n",
    "job = execute([grover], backend=backend, shots=1024)\n",
    "result = job.result()\n",
    "\n",
    "# Get counts and plot histogram\n",
    "counts = result.get_counts(grover)\n",
    "plot_histogram(counts)"
   ]
  },
  {
   "cell_type": "markdown",
   "metadata": {
    "id": "M1EbA90-ZYrc"
   },
   "source": [
    "## Let's see what the circuit and solution would look like for a more realistic problem.\n",
    "\n",
    "In this example, there are 19 possible variables: $x_0$, $x_1$,...,$x_{18}$ -- not more because more than 24 qubits are not possible to have in the simulator.\n",
    "We kept 3 clauses for practicality."
   ]
  },
  {
   "cell_type": "code",
   "execution_count": null,
   "metadata": {
    "colab": {
     "base_uri": "https://localhost:8080/",
     "height": 619
    },
    "id": "xlBWqFF51eTL",
    "outputId": "b55d7d11-e3c3-4dcc-bf4a-6e34686c209f"
   },
   "outputs": [],
   "source": [
    "# Redefined the phase amplification, excluding the n-controlled-Z gate\n",
    "def pseudo_phase_amplification(circuit, circuit_input, n):\n",
    "    # Hadamards everywhere\n",
    "    for j in range(n):\n",
    "        circuit.h(circuit_input[j])\n",
    "    # D matrix: flips the sign of the state |000> only\n",
    "    for j in range(n):\n",
    "        circuit.x(circuit_input[j])\n",
    "    # n_controlled_Z(circuit, [circuit_input[j] for j in range(n-1)], circuit_input[n-1])\n",
    "    for j in range(n):\n",
    "        circuit.x(circuit_input[j])\n",
    "    # Hadamards everywhere again\n",
    "    for j in range(n):\n",
    "        circuit.h(circuit_input[j])\n",
    "\n",
    "# Let's see\n",
    "n = 19\n",
    "\n",
    "# Only ONE literal is true in each clause\n",
    "# Exactly-1 3-SAT formula to be satisfied, in conjunctive\n",
    "# normal form. We represent literals with integers, positive or\n",
    "# negative, to indicate a Boolean variable or its negation.\n",
    "exactly_1_3_sat_formula = [[1, 2, -3], [-1, -2, -3], [-1, 2, 3]]\n",
    "\n",
    "# Define three quantum registers: 'circuit_input' is the search space (input\n",
    "# to the function f), 'circuit_output' is bit used for the output of function\n",
    "# f, aux are the auxiliary bits used by f to perform its\n",
    "# computation.\n",
    "circuit_input = QuantumRegister(n)\n",
    "circuit_output = QuantumRegister(1)\n",
    "aux = QuantumRegister(len(exactly_1_3_sat_formula) + 1)\n",
    "\n",
    "# Define classical register for algorithm result\n",
    "ans = ClassicalRegister(n)\n",
    "\n",
    "# Add to the quantum circuit the above quantum and classical registers\n",
    "grover = QuantumCircuit()\n",
    "grover.add_register(circuit_input)\n",
    "grover.add_register(circuit_output)\n",
    "grover.add_register(aux)\n",
    "grover.add_register(ans)\n",
    "\n",
    "# Prepare the input state for Grover search: the equal superposition\n",
    "# and the |-> state\n",
    "# input_state(grover, circuit_input, circuit_output, n)\n",
    "# skipped because it would be an 100-controlled z gate\n",
    "\n",
    "# Define how many iteration one uses\n",
    "# Formula is T ~ O(sqrt(N/M)), where N is the number of all possible solutions\n",
    "# and M is the number of actual solutions\n",
    "# In our case, N = 2^20 = 10^6. If the clause only has 1 solution,\n",
    "# we could need a million times the oracle + phase circuit\n",
    "\n",
    "T = 100 # Should be enough iterations to spot a solution\n",
    "for t in range(T):\n",
    "    # Apply T full iterations\n",
    "    oracle(grover, circuit_input, circuit_output, aux, n, exactly_1_3_sat_formula)\n",
    "    pseudo_phase_amplification(grover, circuit_input, n)\n",
    "\n",
    "# Measure the output register in the computational basis\n",
    "for j in range(n):\n",
    "    grover.measure(circuit_input[j], ans[j])\n",
    "\n",
    "print(grover.count_ops())\n",
    "\n",
    "# Try to show your circuit\n",
    "# (Will not work on google colab)\n",
    "print(grover.draw())\n",
    "\n",
    "# Try to execute the circuit\n",
    "backend = BasicAer.get_backend('qasm_simulator')\n",
    "job = execute([grover], backend=backend, shots=1024)\n",
    "result = job.result()\n",
    "\n",
    "# Get counts and plot histogram\n",
    "counts = result.get_counts(grover)\n",
    "plot_histogram(counts)"
   ]
  },
  {
   "cell_type": "markdown",
   "metadata": {
    "id": "tzSGT8kKsqgv"
   },
   "source": [
    "Solution above is taken from:\n",
    "https://github.com/qiskit-community/qiskit-community-tutorials/blob/2a5559bbd1b98fee7cf316bfd2fa86e427a4ef5d/algorithms/grover_algorithm.ipynb,\n",
    "which is the code basis of the following paper: https://arxiv.org/pdf/1708.03684.pdf .\n",
    "\n",
    "Further Reading:\n",
    "*   \"Complete 3-Qubit Grover search on a programmable quantum computer\": https://www.nature.com/articles/s41467-017-01904-7\n",
    "*   A tutorial using Qiskit's out-of-the-box solution for the 3-SAT problem: https://github.com/Qiskit/qiskit-tutorials/blob/master/tutorials/algorithms/07_grover_examples.ipynb\n",
    "\n",
    "Homework:\n",
    "* Think how the circuit would look like to solve the general 3-SAT problem\n",
    "\n",
    "\n",
    "\n"
   ]
  }
 ],
 "metadata": {
  "colab": {
   "collapsed_sections": [],
   "provenance": []
  },
  "kernelspec": {
   "display_name": "Python 3 (ipykernel)",
   "language": "python",
   "name": "python3"
  },
  "language_info": {
   "codemirror_mode": {
    "name": "ipython",
    "version": 3
   },
   "file_extension": ".py",
   "mimetype": "text/x-python",
   "name": "python",
   "nbconvert_exporter": "python",
   "pygments_lexer": "ipython3",
   "version": "3.9.7"
  }
 },
 "nbformat": 4,
 "nbformat_minor": 1
}
