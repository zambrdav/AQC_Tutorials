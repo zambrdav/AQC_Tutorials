{
 "cells": [
  {
   "cell_type": "markdown",
   "id": "8JZGG9Wlqjmr",
   "metadata": {
    "id": "8JZGG9Wlqjmr"
   },
   "source": [
    "# Tutorial 7: Financial Time Series Data\n",
    "\n",
    "In this tutorial, we will look at financial time series - namely, the evolution of stock prices at the stock market. There is a naturally high interest in the analysis of this kind of data, and an even higher interest in predicting the evolution of these prices. If one correctly predicts the evolution of prices for several stocks, one can buy and sell at the right times and obtain "
   ]
  },
  {
   "cell_type": "code",
   "execution_count": 1,
   "id": "-GRzenLbTDJM",
   "metadata": {
    "id": "-GRzenLbTDJM"
   },
   "outputs": [
    {
     "name": "stdout",
     "output_type": "stream",
     "text": [
      "Requirement already satisfied: matplotlib in /home/theodora.dragan/.local/lib/python3.8/site-packages (3.4.2)\n",
      "Requirement already satisfied: kiwisolver>=1.0.1 in /home/theodora.dragan/.local/lib/python3.8/site-packages (from matplotlib) (1.3.2)\n",
      "Requirement already satisfied: numpy>=1.16 in /home/theodora.dragan/.local/lib/python3.8/site-packages (from matplotlib) (1.21.5)\n",
      "Requirement already satisfied: cycler>=0.10 in /home/theodora.dragan/.local/lib/python3.8/site-packages (from matplotlib) (0.11.0)\n",
      "Requirement already satisfied: pillow>=6.2.0 in /home/theodora.dragan/.local/lib/python3.8/site-packages (from matplotlib) (8.2.0)\n",
      "Requirement already satisfied: pyparsing>=2.2.1 in /home/theodora.dragan/.local/lib/python3.8/site-packages (from matplotlib) (2.4.7)\n",
      "Requirement already satisfied: python-dateutil>=2.7 in /home/theodora.dragan/.local/lib/python3.8/site-packages (from matplotlib) (2.8.2)\n",
      "Requirement already satisfied: six>=1.5 in /home/theodora.dragan/.local/lib/python3.8/site-packages (from python-dateutil>=2.7->matplotlib) (1.15.0)\n",
      "Requirement already satisfied: qiskit in /home/theodora.dragan/.local/lib/python3.8/site-packages (0.39.5)\n",
      "Requirement already satisfied: qiskit-aer==0.11.2 in /home/theodora.dragan/.local/lib/python3.8/site-packages (from qiskit) (0.11.2)\n",
      "Requirement already satisfied: qiskit-terra==0.22.4 in /home/theodora.dragan/.local/lib/python3.8/site-packages (from qiskit) (0.22.4)\n",
      "Requirement already satisfied: qiskit-ibmq-provider==0.19.2 in /home/theodora.dragan/.local/lib/python3.8/site-packages (from qiskit) (0.19.2)\n",
      "Requirement already satisfied: numpy>=1.16.3 in /home/theodora.dragan/.local/lib/python3.8/site-packages (from qiskit-aer==0.11.2->qiskit) (1.21.5)\n",
      "Requirement already satisfied: scipy>=1.0 in /home/theodora.dragan/.local/lib/python3.8/site-packages (from qiskit-aer==0.11.2->qiskit) (1.6.3)\n",
      "Requirement already satisfied: sympy>=1.3 in /home/theodora.dragan/.local/lib/python3.8/site-packages (from qiskit-terra==0.22.4->qiskit) (1.5)\n",
      "Requirement already satisfied: python-dateutil>=2.8.0 in /home/theodora.dragan/.local/lib/python3.8/site-packages (from qiskit-terra==0.22.4->qiskit) (2.8.2)\n",
      "Requirement already satisfied: ply>=3.10 in /home/theodora.dragan/.local/lib/python3.8/site-packages (from qiskit-terra==0.22.4->qiskit) (3.11)\n",
      "Requirement already satisfied: psutil>=5 in /home/theodora.dragan/.local/lib/python3.8/site-packages (from qiskit-terra==0.22.4->qiskit) (5.8.0)\n",
      "Requirement already satisfied: dill>=0.3 in /home/theodora.dragan/.local/lib/python3.8/site-packages (from qiskit-terra==0.22.4->qiskit) (0.3.4)\n",
      "Requirement already satisfied: symengine>=0.9; platform_machine == \"x86_64\" or platform_machine == \"aarch64\" or platform_machine == \"ppc64le\" or platform_machine == \"amd64\" or platform_machine == \"arm64\" in /home/theodora.dragan/.local/lib/python3.8/site-packages (from qiskit-terra==0.22.4->qiskit) (0.9.2)\n",
      "Requirement already satisfied: tweedledum<2.0,>=1.1; python_version < \"3.11\" and (platform_machine != \"arm64\" or sys_platform != \"darwin\") in /home/theodora.dragan/.local/lib/python3.8/site-packages (from qiskit-terra==0.22.4->qiskit) (1.1.1)\n",
      "Requirement already satisfied: stevedore>=3.0.0 in /home/theodora.dragan/.local/lib/python3.8/site-packages (from qiskit-terra==0.22.4->qiskit) (3.5.0)\n",
      "Requirement already satisfied: retworkx>=0.11.0 in /home/theodora.dragan/.local/lib/python3.8/site-packages (from qiskit-terra==0.22.4->qiskit) (0.11.0)\n",
      "Requirement already satisfied: urllib3>=1.21.1 in /home/theodora.dragan/.local/lib/python3.8/site-packages (from qiskit-ibmq-provider==0.19.2->qiskit) (1.26.14)\n",
      "Requirement already satisfied: websocket-client>=1.0.1 in /home/theodora.dragan/.local/lib/python3.8/site-packages (from qiskit-ibmq-provider==0.19.2->qiskit) (1.2.1)\n",
      "Requirement already satisfied: requests-ntlm>=1.1.0 in /home/theodora.dragan/.local/lib/python3.8/site-packages (from qiskit-ibmq-provider==0.19.2->qiskit) (1.1.0)\n",
      "Requirement already satisfied: websockets>=10.0; python_version >= \"3.7\" in /home/theodora.dragan/.local/lib/python3.8/site-packages (from qiskit-ibmq-provider==0.19.2->qiskit) (10.2)\n",
      "Requirement already satisfied: requests>=2.19 in /usr/lib/python3/dist-packages (from qiskit-ibmq-provider==0.19.2->qiskit) (2.22.0)\n",
      "Requirement already satisfied: mpmath>=0.19 in /home/theodora.dragan/.local/lib/python3.8/site-packages (from sympy>=1.3->qiskit-terra==0.22.4->qiskit) (1.2.1)\n",
      "Requirement already satisfied: six>=1.5 in /home/theodora.dragan/.local/lib/python3.8/site-packages (from python-dateutil>=2.8.0->qiskit-terra==0.22.4->qiskit) (1.15.0)\n",
      "Requirement already satisfied: pbr!=2.1.0,>=2.0.0 in /home/theodora.dragan/.local/lib/python3.8/site-packages (from stevedore>=3.0.0->qiskit-terra==0.22.4->qiskit) (5.8.0)\n",
      "Requirement already satisfied: cryptography>=1.3 in /usr/lib/python3/dist-packages (from requests-ntlm>=1.1.0->qiskit-ibmq-provider==0.19.2->qiskit) (2.8)\n",
      "Requirement already satisfied: ntlm-auth>=1.0.2 in /home/theodora.dragan/.local/lib/python3.8/site-packages (from requests-ntlm>=1.1.0->qiskit-ibmq-provider==0.19.2->qiskit) (1.5.0)\n",
      "Collecting qiskit-finance\n",
      "  Downloading qiskit_finance-0.3.4-py3-none-any.whl (50 kB)\n",
      "\u001b[K     |████████████████████████████████| 50 kB 4.1 MB/s eta 0:00:011\n",
      "\u001b[?25hRequirement already satisfied: setuptools>=40.1.0 in /usr/lib/python3/dist-packages (from qiskit-finance) (45.2.0)\n",
      "Requirement already satisfied: scipy>=1.4 in /home/theodora.dragan/.local/lib/python3.8/site-packages (from qiskit-finance) (1.6.3)\n",
      "Requirement already satisfied: certifi in /usr/lib/python3/dist-packages (from qiskit-finance) (2019.11.28)\n",
      "Requirement already satisfied: urllib3 in /home/theodora.dragan/.local/lib/python3.8/site-packages (from qiskit-finance) (1.26.14)\n",
      "Collecting nasdaq-data-link\n",
      "  Downloading Nasdaq_Data_Link-1.0.4-py2.py3-none-any.whl (28 kB)\n",
      "Requirement already satisfied: numpy>=1.17 in /home/theodora.dragan/.local/lib/python3.8/site-packages (from qiskit-finance) (1.21.5)\n",
      "Requirement already satisfied: qiskit-terra>=0.20.0 in /home/theodora.dragan/.local/lib/python3.8/site-packages (from qiskit-finance) (0.22.4)\n",
      "Requirement already satisfied: fastdtw in /home/theodora.dragan/.local/lib/python3.8/site-packages (from qiskit-finance) (0.3.4)\n",
      "Requirement already satisfied: psutil>=5 in /home/theodora.dragan/.local/lib/python3.8/site-packages (from qiskit-finance) (5.8.0)\n",
      "Requirement already satisfied: yfinance>=0.1.70 in /home/theodora.dragan/.local/lib/python3.8/site-packages (from qiskit-finance) (0.1.70)\n",
      "Collecting qiskit-optimization>=0.2.0\n",
      "  Downloading qiskit_optimization-0.4.0-py3-none-any.whl (159 kB)\n",
      "\u001b[K     |████████████████████████████████| 159 kB 10.7 MB/s eta 0:00:01\n",
      "\u001b[?25hRequirement already satisfied: pandas in /home/theodora.dragan/.local/lib/python3.8/site-packages (from qiskit-finance) (1.5.3)\n",
      "Requirement already satisfied: requests>=2.7.0 in /usr/lib/python3/dist-packages (from nasdaq-data-link->qiskit-finance) (2.22.0)\n",
      "Requirement already satisfied: six in /home/theodora.dragan/.local/lib/python3.8/site-packages (from nasdaq-data-link->qiskit-finance) (1.15.0)\n",
      "Requirement already satisfied: more-itertools in /usr/lib/python3/dist-packages (from nasdaq-data-link->qiskit-finance) (4.2.0)\n",
      "Requirement already satisfied: inflection>=0.3.1 in /home/theodora.dragan/.local/lib/python3.8/site-packages (from nasdaq-data-link->qiskit-finance) (0.5.1)\n",
      "Requirement already satisfied: python-dateutil in /home/theodora.dragan/.local/lib/python3.8/site-packages (from nasdaq-data-link->qiskit-finance) (2.8.2)\n",
      "Requirement already satisfied: sympy>=1.3 in /home/theodora.dragan/.local/lib/python3.8/site-packages (from qiskit-terra>=0.20.0->qiskit-finance) (1.5)\n",
      "Requirement already satisfied: ply>=3.10 in /home/theodora.dragan/.local/lib/python3.8/site-packages (from qiskit-terra>=0.20.0->qiskit-finance) (3.11)\n",
      "Requirement already satisfied: dill>=0.3 in /home/theodora.dragan/.local/lib/python3.8/site-packages (from qiskit-terra>=0.20.0->qiskit-finance) (0.3.4)\n",
      "Requirement already satisfied: symengine>=0.9; platform_machine == \"x86_64\" or platform_machine == \"aarch64\" or platform_machine == \"ppc64le\" or platform_machine == \"amd64\" or platform_machine == \"arm64\" in /home/theodora.dragan/.local/lib/python3.8/site-packages (from qiskit-terra>=0.20.0->qiskit-finance) (0.9.2)\n",
      "Requirement already satisfied: tweedledum<2.0,>=1.1; python_version < \"3.11\" and (platform_machine != \"arm64\" or sys_platform != \"darwin\") in /home/theodora.dragan/.local/lib/python3.8/site-packages (from qiskit-terra>=0.20.0->qiskit-finance) (1.1.1)\n",
      "Requirement already satisfied: stevedore>=3.0.0 in /home/theodora.dragan/.local/lib/python3.8/site-packages (from qiskit-terra>=0.20.0->qiskit-finance) (3.5.0)\n",
      "Requirement already satisfied: retworkx>=0.11.0 in /home/theodora.dragan/.local/lib/python3.8/site-packages (from qiskit-terra>=0.20.0->qiskit-finance) (0.11.0)\n",
      "Requirement already satisfied: multitasking>=0.0.7 in /home/theodora.dragan/.local/lib/python3.8/site-packages (from yfinance>=0.1.70->qiskit-finance) (0.0.10)\n",
      "Requirement already satisfied: lxml>=4.5.1 in /home/theodora.dragan/.local/lib/python3.8/site-packages (from yfinance>=0.1.70->qiskit-finance) (4.6.4)\n",
      "Requirement already satisfied: networkx>=2.2 in /home/theodora.dragan/.local/lib/python3.8/site-packages (from qiskit-optimization>=0.2.0->qiskit-finance) (2.6.3)\n",
      "Requirement already satisfied: docplex>=2.21.207 in /home/theodora.dragan/.local/lib/python3.8/site-packages (from qiskit-optimization>=0.2.0->qiskit-finance) (2.25.236)\n",
      "Requirement already satisfied: pytz>=2020.1 in /home/theodora.dragan/.local/lib/python3.8/site-packages (from pandas->qiskit-finance) (2021.3)\n",
      "Requirement already satisfied: mpmath>=0.19 in /home/theodora.dragan/.local/lib/python3.8/site-packages (from sympy>=1.3->qiskit-terra>=0.20.0->qiskit-finance) (1.2.1)\n",
      "Requirement already satisfied: pbr!=2.1.0,>=2.0.0 in /home/theodora.dragan/.local/lib/python3.8/site-packages (from stevedore>=3.0.0->qiskit-terra>=0.20.0->qiskit-finance) (5.8.0)\n",
      "Installing collected packages: nasdaq-data-link, qiskit-optimization, qiskit-finance\n",
      "Successfully installed nasdaq-data-link-1.0.4 qiskit-finance-0.3.4 qiskit-optimization-0.4.0\n"
     ]
    }
   ],
   "source": [
    "!pip install matplotlib\n",
    "!pip install qiskit\n",
    "!pip install qiskit-finance"
   ]
  },
  {
   "cell_type": "code",
   "execution_count": 1,
   "id": "61c27b89-a9f9-486f-90e7-40a8a69a6cce",
   "metadata": {
    "id": "61c27b89-a9f9-486f-90e7-40a8a69a6cce"
   },
   "outputs": [],
   "source": [
    "%matplotlib inline\n",
    "from qiskit_finance import QiskitFinanceError\n",
    "from qiskit_finance.data_providers import *\n",
    "import datetime\n",
    "import matplotlib.pyplot as plt\n",
    "from pandas.plotting import register_matplotlib_converters\n",
    "\n",
    "register_matplotlib_converters()\n",
    "\n",
    "# TODO: Let us first work with randomly generated fake stock market data\n",
    "# generated for 2 stocks (tickers) between 01.01.2022 and 30.01.2022\n",
    "data = RandomDataProvider(\n",
    "    tickers=[\"TICKER1\", \"TICKER2\"],\n",
    "    start=datetime.datetime(2022, 1, 1),\n",
    "    end=datetime.datetime(2022, 1, 30),\n",
    "    seed=1,\n",
    ")\n",
    "\n",
    "# TODO: find the function that loads the data into a RandomDataProvider\n",
    "data.run()"
   ]
  },
  {
   "cell_type": "code",
   "execution_count": 2,
   "id": "a1560679-c602-4876-a326-473a98a8db26",
   "metadata": {
    "id": "a1560679-c602-4876-a326-473a98a8db26"
   },
   "outputs": [
    {
     "name": "stdout",
     "output_type": "stream",
     "text": [
      "The underlying evolution of stock prices:\n"
     ]
    },
    {
     "data": {
      "image/png": "[encoded data removed]",
      "text/plain": [
       "<Figure size 640x480 with 1 Axes>"
      ]
     },
     "metadata": {},
     "output_type": "display_data"
    },
    {
     "name": "stdout",
     "output_type": "stream",
     "text": [
      "TICKER1\n",
      "[33.345584192064784, 34.167202335565946, 34.49763941174933, 33.19448218014497, 34.099838046818086, 34.5462126191821, 34.009259383821814, 34.59037748801817, 34.95494988420424, 35.24908238085977, 35.27750462217556, 35.82421760878801, 35.08776352178634, 34.92485357379329, 34.442734261113316, 35.04158047374794, 35.0813025812296, 34.78884583026451, 34.00693736790767, 33.7497451272888, 33.757887307807145, 33.48228440250777, 34.77634821690598, 35.783072532211776, 33.07191005324581, 31.182896807278134, 31.008124715222973, 30.585934303646617, 30.799577301145227]\n",
      "TICKER2\n",
      "[96.8774156647853, 98.99525441983634, 97.88323365714406, 97.50562865001707, 99.5484002575094, 100.19510325371124, 100.85816662608751, 100.34416025440004, 98.69608508354439, 98.86354982776713, 98.97256391558868, 97.7452118613441, 97.06198519956354, 96.98994151983632, 96.04518989677554, 95.94691992892332, 96.04240295639278, 96.07798919344826, 95.57169753513395, 96.16544560691977, 97.0566125612021, 97.37746086576867, 96.55923063837835, 97.29088292216379, 96.78944290369674, 97.66860352198472, 96.59681610510728, 97.51128330823606, 97.49121985362058]\n"
     ]
    }
   ],
   "source": [
    "# TODO: \n",
    "# Use simple printing and then matplotlib to visualize\n",
    "# the evolution of the underlying data inside the \"data\" RandomDataProvider\n",
    "print(\"The underlying evolution of stock prices:\")\n",
    "for (cnt, s) in enumerate(data._tickers):\n",
    "    plt.plot(data._data[cnt], label=s)\n",
    "plt.legend()\n",
    "plt.xticks(rotation=90)\n",
    "plt.show()\n",
    "\n",
    "for (cnt, s) in enumerate(data._tickers):\n",
    "    print(s)\n",
    "    print(data._data[cnt])"
   ]
  },
  {
   "cell_type": "code",
   "execution_count": 3,
   "id": "6e024c7c-499a-4cdc-8792-99e95ace22e2",
   "metadata": {
    "id": "6e024c7c-499a-4cdc-8792-99e95ace22e2"
   },
   "outputs": [
    {
     "name": "stdout",
     "output_type": "stream",
     "text": [
      "Means:\n",
      "[33.97683271 97.61130683]\n",
      "A time-series similarity measure:\n",
      "[[1.00000000e+00 5.41888011e-04]\n",
      " [5.41888011e-04 1.00000000e+00]]\n",
      "A covariance matrix:\n",
      "[[2.08413157 0.20842107]\n",
      " [0.20842107 1.99542187]]\n"
     ]
    }
   ],
   "source": [
    "# TODO: Let's get some statistical metrics on the data\n",
    "# Namely: the mean of each stock, the similarity matrix between the stocks\n",
    "# And the covariance matrix\n",
    "# Hint: no need to create new code for that, they are already defined for\n",
    "# any qiskit-finance (Random)DataProvider\n",
    "\n",
    "means = data.get_mean_vector() # TODO\n",
    "print(\"Means:\")\n",
    "print(means)\n",
    "\n",
    "rho = data.get_similarity_matrix() # TODO\n",
    "print(\"A time-series similarity measure:\")\n",
    "print(rho)\n",
    "# TODO : display the similarity matrix using matplotlib\n",
    "\n",
    "cov = data.get_covariance_matrix() # TODO\n",
    "print(\"A covariance matrix:\")\n",
    "print(cov)\n",
    "# TODO : display the covariance matrix using matplotlib"
   ]
  },
  {
   "cell_type": "code",
   "execution_count": 4,
   "id": "2f2151e7-31fd-45b7-89be-dfbe39246305",
   "metadata": {
    "id": "2f2151e7-31fd-45b7-89be-dfbe39246305"
   },
   "outputs": [],
   "source": [
    "stocks = [\"GOOG\", \"AAPL\", \"MSFT\", \"TWTR\"]\n",
    "\n",
    "# TODO: To get this access token, go to\n",
    "# https://data.nasdaq.com/sign-up\n",
    "# and create a free student account\n",
    "\n",
    "token = \"ubjjiV8S5aAEcU1yWjQX\" # TODO: copy-paste your own token here\n",
    "\n",
    "try:\n",
    "    wiki = WikipediaDataProvider(\n",
    "        # TODO : add the necessary parameters here\n",
    "        # To extract data between 01.01.2018 and 30.01.2018\n",
    "        token=token,\n",
    "        tickers=stocks,\n",
    "        start=datetime.datetime(2018, 1, 1),\n",
    "        end=datetime.datetime(2018, 1, 30)\n",
    "    )\n",
    "    \n",
    "    # TODO : call the necessary function to actually load the data\n",
    "    wiki.run()\n",
    "except QiskitFinanceError as ex:\n",
    "    print(ex)\n",
    "    print(\"Error retrieving data.\")"
   ]
  },
  {
   "cell_type": "code",
   "execution_count": 5,
   "id": "fVZIs3hYkvnG",
   "metadata": {
    "id": "fVZIs3hYkvnG"
   },
   "outputs": [
    {
     "name": "stdout",
     "output_type": "stream",
     "text": [
      "The time-series similarity measure:\n",
      "[[1.00000000e+00 5.41888011e-04]\n",
      " [5.41888011e-04 1.00000000e+00]]\n",
      "The covariance matrix:\n",
      "[[2.08413157 0.20842107]\n",
      " [0.20842107 1.99542187]]\n"
     ]
    }
   ],
   "source": [
    "if wiki._data:\n",
    "  # TODO: same exercise as above, compute the \n",
    "  # statistical metrics to get some insight on your data\n",
    "  # and then display them using matplotlib\n",
    "\n",
    "  rho = data.get_similarity_matrix()\n",
    "  print(\"The time-series similarity measure:\")\n",
    "  print(rho)\n",
    "\n",
    "  cov = data.get_covariance_matrix()\n",
    "  print(\"The covariance matrix:\")\n",
    "  print(cov)\n",
    "\n",
    "else:\n",
    "    print(\"Wiki data provider is empty.\")"
   ]
  },
  {
   "cell_type": "code",
   "execution_count": 6,
   "id": "w8P57A8Mk1-R",
   "metadata": {
    "id": "w8P57A8Mk1-R"
   },
   "outputs": [
    {
     "name": "stdout",
     "output_type": "stream",
     "text": [
      "The underlying evolution of stock prices:\n"
     ]
    },
    {
     "data": {
      "image/png": "[encoded data removed]",
      "text/plain": [
       "<Figure size 640x480 with 1 Axes>"
      ]
     },
     "metadata": {},
     "output_type": "display_data"
    },
    {
     "name": "stdout",
     "output_type": "stream",
     "text": [
      "GOOG\n",
      "Date\n",
      "2018-01-02    1065.00\n",
      "2018-01-03    1082.48\n",
      "2018-01-04    1086.40\n",
      "2018-01-05    1102.23\n",
      "2018-01-08    1106.94\n",
      "2018-01-09    1106.26\n",
      "2018-01-10    1102.61\n",
      "2018-01-11    1105.52\n",
      "2018-01-12    1122.26\n",
      "2018-01-16    1121.76\n",
      "2018-01-17    1131.98\n",
      "2018-01-18    1129.79\n",
      "2018-01-19    1137.51\n",
      "2018-01-22    1155.81\n",
      "2018-01-23    1169.97\n",
      "2018-01-24    1164.24\n",
      "2018-01-25    1170.37\n",
      "2018-01-26    1175.84\n",
      "2018-01-29    1175.58\n",
      "2018-01-30    1163.69\n",
      "Name: Adj. Close, dtype: float64\n",
      "AAPL\n",
      "Date\n",
      "2018-01-02    172.26\n",
      "2018-01-03    172.23\n",
      "2018-01-04    173.03\n",
      "2018-01-05    175.00\n",
      "2018-01-08    174.35\n",
      "2018-01-09    174.33\n",
      "2018-01-10    174.29\n",
      "2018-01-11    175.28\n",
      "2018-01-12    177.09\n",
      "2018-01-16    176.19\n",
      "2018-01-17    179.10\n",
      "2018-01-18    179.26\n",
      "2018-01-19    178.46\n",
      "2018-01-22    177.00\n",
      "2018-01-23    177.04\n",
      "2018-01-24    174.22\n",
      "2018-01-25    171.11\n",
      "2018-01-26    171.51\n",
      "2018-01-29    167.96\n",
      "2018-01-30    166.97\n",
      "Name: Adj. Close, dtype: float64\n",
      "MSFT\n",
      "Date\n",
      "2018-01-02    85.95\n",
      "2018-01-03    86.35\n",
      "2018-01-04    87.11\n",
      "2018-01-05    88.19\n",
      "2018-01-08    88.28\n",
      "2018-01-09    88.22\n",
      "2018-01-10    87.82\n",
      "2018-01-11    88.08\n",
      "2018-01-12    89.58\n",
      "2018-01-16    88.35\n",
      "2018-01-17    90.14\n",
      "2018-01-18    90.10\n",
      "2018-01-19    90.00\n",
      "2018-01-22    91.61\n",
      "2018-01-23    91.90\n",
      "2018-01-24    91.82\n",
      "2018-01-25    92.33\n",
      "2018-01-26    94.06\n",
      "2018-01-29    93.92\n",
      "2018-01-30    92.74\n",
      "Name: Adj. Close, dtype: float64\n",
      "TWTR\n",
      "Date\n",
      "2018-01-02    24.51\n",
      "2018-01-03    24.45\n",
      "2018-01-04    23.99\n",
      "2018-01-05    24.32\n",
      "2018-01-08    24.59\n",
      "2018-01-09    24.17\n",
      "2018-01-10    24.25\n",
      "2018-01-11    24.35\n",
      "2018-01-12    25.41\n",
      "2018-01-16    24.66\n",
      "2018-01-17    24.56\n",
      "2018-01-18    24.04\n",
      "2018-01-19    23.66\n",
      "2018-01-22    23.32\n",
      "2018-01-23    22.75\n",
      "2018-01-24    22.37\n",
      "2018-01-25    22.16\n",
      "2018-01-26    24.27\n",
      "2018-01-29    25.18\n",
      "2018-01-30    25.62\n",
      "Name: Adj. Close, dtype: float64\n"
     ]
    }
   ],
   "source": [
    "if wiki._data:\n",
    "    print(\"The underlying evolution of stock prices:\")\n",
    "    # TODO: identically as before, plot the evolution\n",
    "    # of the stocks in the wiki dataloader\n",
    "    for (cnt, s) in enumerate(stocks):\n",
    "        plt.plot(wiki._data[cnt], label=s)\n",
    "    plt.legend()\n",
    "    plt.xticks(rotation=90)\n",
    "    plt.show()\n",
    "\n",
    "    for (cnt, s) in enumerate(stocks):\n",
    "        print(s)\n",
    "        print(wiki._data[cnt])\n",
    "else:\n",
    "    print(\"No wiki data loaded.\")"
   ]
  },
  {
   "cell_type": "markdown",
   "id": "p7VXKhI0tn69",
   "metadata": {
    "id": "p7VXKhI0tn69"
   },
   "source": [
    "Homework: \n",
    "\n",
    "Could you use quantum to predict how these prices fluctuate?\n",
    "If so, how?"
   ]
  }
 ],
 "metadata": {
  "colab": {
   "provenance": []
  },
  "kernelspec": {
   "display_name": "Python 3 (ipykernel)",
   "language": "python",
   "name": "python3"
  },
  "language_info": {
   "codemirror_mode": {
    "name": "ipython",
    "version": 3
   },
   "file_extension": ".py",
   "mimetype": "text/x-python",
   "name": "python",
   "nbconvert_exporter": "python",
   "pygments_lexer": "ipython3",
   "version": "3.9.13"
  }
 },
 "nbformat": 4,
 "nbformat_minor": 5
}
