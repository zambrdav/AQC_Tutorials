{
 "cells": [
  {
   "cell_type": "markdown",
   "id": "8JZGG9Wlqjmr",
   "metadata": {
    "id": "8JZGG9Wlqjmr"
   },
   "source": [
    "# Tutorial 7: Financial Time Series Data\n",
    "\n",
    "In this tutorial, we will look at financial time series - namely, the evolution of stock prices at the stock market. There is a naturally high interest in the analysis of this kind of data, and an even higher interest in predicting the evolution of these prices. If one correctly predicts the evolution of prices for several stocks, one can buy and sell at the right times and obtain "
   ]
  },
  {
   "cell_type": "code",
   "execution_count": null,
   "id": "-GRzenLbTDJM",
   "metadata": {
    "id": "-GRzenLbTDJM"
   },
   "outputs": [],
   "source": [
    "!pip install matplotlib\n",
    "!pip install qiskit\n",
    "!pip install qiskit-finance"
   ]
  },
  {
   "cell_type": "code",
   "execution_count": 12,
   "id": "61c27b89-a9f9-486f-90e7-40a8a69a6cce",
   "metadata": {
    "id": "61c27b89-a9f9-486f-90e7-40a8a69a6cce"
   },
   "outputs": [],
   "source": [
    "%matplotlib inline\n",
    "from qiskit_finance import QiskitFinanceError\n",
    "from qiskit_finance.data_providers import *\n",
    "import datetime\n",
    "import matplotlib.pyplot as plt\n",
    "from pandas.plotting import register_matplotlib_converters\n",
    "\n",
    "register_matplotlib_converters()\n",
    "\n",
    "# TODO: Let us first work with randomly generated fake stock market data\n",
    "# generated for 2 stocks (tickers) between 01.01.2022 and 30.01.2022\n",
    "data = RandomDataProvider(\n",
    "    #\n",
    "    #\n",
    "    #\n",
    "    #\n",
    ")\n",
    "\n",
    "# TODO: find the function that loads the data into a RandomDataProvider"
   ]
  },
  {
   "cell_type": "code",
   "execution_count": null,
   "id": "a1560679-c602-4876-a326-473a98a8db26",
   "metadata": {
    "id": "a1560679-c602-4876-a326-473a98a8db26"
   },
   "outputs": [],
   "source": [
    "# TODO: \n",
    "# Use simple printing and then matplotlib to visualize\n",
    "# the evolution of the underlying data inside the \"data\" RandomDataProvider"
   ]
  },
  {
   "cell_type": "code",
   "execution_count": null,
   "id": "6e024c7c-499a-4cdc-8792-99e95ace22e2",
   "metadata": {
    "id": "6e024c7c-499a-4cdc-8792-99e95ace22e2"
   },
   "outputs": [],
   "source": [
    "# TODO: Let's get some statistical metrics on the data\n",
    "# Namely: the mean of each stock, the similarity matrix between the stocks\n",
    "# And the covariance matrix\n",
    "# Hint: no need to create new code for that, they are already defined for\n",
    "# any qiskit-finance (Random)DataProvider\n",
    "\n",
    "means = # TODO\n",
    "print(\"Means:\")\n",
    "print(means)\n",
    "\n",
    "rho = # TODO\n",
    "print(\"A time-series similarity measure:\")\n",
    "print(rho)\n",
    "# TODO : display the similarity matrix using matplotlib\n",
    "\n",
    "cov = # TODO\n",
    "print(\"A covariance matrix:\")\n",
    "print(cov)\n",
    "# TODO : display the covariance matrix using matplotlib"
   ]
  },
  {
   "cell_type": "code",
   "execution_count": 35,
   "id": "2f2151e7-31fd-45b7-89be-dfbe39246305",
   "metadata": {
    "id": "2f2151e7-31fd-45b7-89be-dfbe39246305"
   },
   "outputs": [],
   "source": [
    "stocks = [\"GOOG\", \"AAPL\", \"MSFT\", \"TWTR\"]\n",
    "\n",
    "# TODO: To get this access token, go to\n",
    "# https://data.nasdaq.com/sign-up\n",
    "# and create a free student account\n",
    "\n",
    "token = # TODO: copy-paste your own token here\n",
    "\n",
    "try:\n",
    "    wiki = WikipediaDataProvider(\n",
    "        # TODO : add the necessary parameters here\n",
    "        # To extract data between 01.01.2018 and 30.01.2018\n",
    "    )\n",
    "    # TODO : call the necessary function to actually load the data\n",
    "except QiskitFinanceError as ex:\n",
    "    print(ex)\n",
    "    print(\"Error retrieving data.\")"
   ]
  },
  {
   "cell_type": "code",
   "execution_count": null,
   "id": "fVZIs3hYkvnG",
   "metadata": {
    "id": "fVZIs3hYkvnG"
   },
   "outputs": [],
   "source": [
    "if wiki._data:\n",
    "  # TODO: same exercise as above, compute the \n",
    "  # statistical metrics to get some insight on your data\n",
    "  # and then display them using matplotlib\n",
    "\n",
    "  rho = #\n",
    "  print(\"The time-series similarity measure:\")\n",
    "  print(rho)\n",
    "\n",
    "  cov = #\n",
    "  print(\"The covariance matrix:\")\n",
    "  print(cov)\n",
    "\n",
    "else:\n",
    "    print(\"Wiki data provider is empty.\")"
   ]
  },
  {
   "cell_type": "code",
   "execution_count": 20,
   "id": "w8P57A8Mk1-R",
   "metadata": {
    "id": "w8P57A8Mk1-R"
   },
   "outputs": [],
   "source": [
    "if wiki._data:\n",
    "    print(\"The underlying evolution of stock prices:\")\n",
    "    # TODO: identically as before, plot the evolution\n",
    "    # of the stocks in the wiki dataloader\n",
    "else:\n",
    "    print(\"No wiki data loaded.\")"
   ]
  },
  {
   "cell_type": "markdown",
   "id": "p7VXKhI0tn69",
   "metadata": {
    "id": "p7VXKhI0tn69"
   },
   "source": [
    "Homework: \n",
    "\n",
    "Could you use quantum to predict how these prices fluctuate?\n",
    "If so, how?"
   ]
  }
 ],
 "metadata": {
  "colab": {
   "provenance": []
  },
  "kernelspec": {
   "display_name": "Python 3 (ipykernel)",
   "language": "python",
   "name": "python3"
  },
  "language_info": {
   "codemirror_mode": {
    "name": "ipython",
    "version": 3
   },
   "file_extension": ".py",
   "mimetype": "text/x-python",
   "name": "python",
   "nbconvert_exporter": "python",
   "pygments_lexer": "ipython3",
   "version": "3.9.13"
  }
 },
 "nbformat": 4,
 "nbformat_minor": 5
}
