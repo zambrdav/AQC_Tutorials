{
 "cells": [
  {
   "cell_type": "code",
   "execution_count": 4,
   "id": "c7e23eb2-03ae-4cd7-8495-f4726ba82569",
   "metadata": {},
   "outputs": [],
   "source": [
    "# Installing and importing the necessary libraries\n",
    "# !pip install qiskit-optimization[cplex]\n",
    "\n",
    "import copy\n",
    "import matplotlib.pyplot as plt\n",
    "import numpy as np\n",
    "import networkx as nx\n",
    "\n",
    "from ibm_quantum_widgets import *\n",
    "from itertools import permutations\n",
    "\n",
    "from qiskit import QuantumCircuit, ClassicalRegister, QuantumRegister, transpile, BasicAer, IBMQ, execute\n",
    "from qiskit.algorithms import QAOA, NumPyMinimumEigensolver\n",
    "from qiskit.circuit import Parameter\n",
    "from qiskit_optimization import QuadraticProgram\n",
    "from qiskit_optimization.algorithms import MinimumEigenOptimizer, CplexOptimizer\n",
    "from qiskit_optimization.applications import Tsp\n",
    "from qiskit_optimization.converters import QuadraticProgramToQubo\n",
    "from qiskit_optimization.problems.variable import VarType\n",
    "from qiskit.providers.aer import QasmSimulator\n",
    "from qiskit.tools.jupyter import *\n",
    "from qiskit.utils import QuantumInstance\n",
    "from qiskit.utils.algorithm_globals import algorithm_globals\n",
    "from qiskit.visualization import *\n",
    "\n",
    "# Loading our IBM Quantum account\n",
    "#provider = IBMQ.load_account()"
   ]
  },
  {
   "cell_type": "code",
   "execution_count": 5,
   "id": "6d30d778-1b45-48ef-9206-3b9cf35cb384",
   "metadata": {},
   "outputs": [
    {
     "data": {
      "text/plain": [
       "{(0, 1): Text(0.5, 1.0, '5'),\n",
       " (0, 3): Text(0.0, 0.5, '5'),\n",
       " (0, 2): Text(0.5, 0.5, '2'),\n",
       " (1, 2): Text(1.0, 0.5, '5'),\n",
       " (1, 3): Text(0.5, 0.5, '2'),\n",
       " (2, 3): Text(0.5, 0.0, '5')}"
      ]
     },
     "execution_count": 5,
     "metadata": {},
     "output_type": "execute_result"
    },
    {
     "data": {
      "image/png": "[encoded data removed]",
      "text/plain": [
       "<Figure size 640x480 with 1 Axes>"
      ]
     },
     "metadata": {},
     "output_type": "display_data"
    }
   ],
   "source": [
    "# Below we create the graph formulation of our Travelling Salesman Problem (TSP) instance.\n",
    "\n",
    "G = nx.Graph()\n",
    "G.add_node(0,pos=(0,1))\n",
    "G.add_node(1,pos=(1,1))\n",
    "G.add_node(2,pos=(1,0))\n",
    "G.add_node(3,pos=(0,0))\n",
    "\n",
    "G.add_edge(0, 1, weight=5)\n",
    "G.add_edge(1, 2, weight=5)\n",
    "G.add_edge(2, 3, weight=5)\n",
    "G.add_edge(3, 0, weight=5)\n",
    "G.add_edge(0, 2, weight=2)\n",
    "G.add_edge(1, 3, weight=2)\n",
    "\n",
    "pos = nx.get_node_attributes(G,'pos')\n",
    "nx.draw(G, pos, with_labels=True, alpha=0.8)\n",
    "labels = nx.get_edge_attributes(G,'weight')\n",
    "nx.draw_networkx_edge_labels(G, alpha=0.8, pos=pos, edge_labels=labels)"
   ]
  },
  {
   "cell_type": "code",
   "execution_count": 6,
   "id": "6e16bcf7-306a-4502-836e-bc71c85e6d17",
   "metadata": {},
   "outputs": [
    {
     "name": "stdout",
     "output_type": "stream",
     "text": [
      "Problem name: TSP\n",
      "\n",
      "Minimize\n",
      "  5*x_0_0*x_1_1 + 5*x_0_0*x_1_3 + 2*x_0_0*x_2_1 + 2*x_0_0*x_2_3 + 5*x_0_0*x_3_1\n",
      "  + 5*x_0_0*x_3_3 + 5*x_0_1*x_1_0 + 5*x_0_1*x_1_2 + 2*x_0_1*x_2_0\n",
      "  + 2*x_0_1*x_2_2 + 5*x_0_1*x_3_0 + 5*x_0_1*x_3_2 + 5*x_0_2*x_1_1\n",
      "  + 5*x_0_2*x_1_3 + 2*x_0_2*x_2_1 + 2*x_0_2*x_2_3 + 5*x_0_2*x_3_1\n",
      "  + 5*x_0_2*x_3_3 + 5*x_0_3*x_1_0 + 5*x_0_3*x_1_2 + 2*x_0_3*x_2_0\n",
      "  + 2*x_0_3*x_2_2 + 5*x_0_3*x_3_0 + 5*x_0_3*x_3_2 + 5*x_1_0*x_2_1\n",
      "  + 5*x_1_0*x_2_3 + 2*x_1_0*x_3_1 + 2*x_1_0*x_3_3 + 5*x_1_1*x_2_0\n",
      "  + 5*x_1_1*x_2_2 + 2*x_1_1*x_3_0 + 2*x_1_1*x_3_2 + 5*x_1_2*x_2_1\n",
      "  + 5*x_1_2*x_2_3 + 2*x_1_2*x_3_1 + 2*x_1_2*x_3_3 + 5*x_1_3*x_2_0\n",
      "  + 5*x_1_3*x_2_2 + 2*x_1_3*x_3_0 + 2*x_1_3*x_3_2 + 5*x_2_0*x_3_1\n",
      "  + 5*x_2_0*x_3_3 + 5*x_2_1*x_3_0 + 5*x_2_1*x_3_2 + 5*x_2_2*x_3_1\n",
      "  + 5*x_2_2*x_3_3 + 5*x_2_3*x_3_0 + 5*x_2_3*x_3_2\n",
      "\n",
      "Subject to\n",
      "  Linear constraints (8)\n",
      "    x_0_0 + x_0_1 + x_0_2 + x_0_3 == 1  'c0'\n",
      "    x_1_0 + x_1_1 + x_1_2 + x_1_3 == 1  'c1'\n",
      "    x_2_0 + x_2_1 + x_2_2 + x_2_3 == 1  'c2'\n",
      "    x_3_0 + x_3_1 + x_3_2 + x_3_3 == 1  'c3'\n",
      "    x_0_0 + x_1_0 + x_2_0 + x_3_0 == 1  'c4'\n",
      "    x_0_1 + x_1_1 + x_2_1 + x_3_1 == 1  'c5'\n",
      "    x_0_2 + x_1_2 + x_2_2 + x_3_2 == 1  'c6'\n",
      "    x_0_3 + x_1_3 + x_2_3 + x_3_3 == 1  'c7'\n",
      "\n",
      "  Binary variables (16)\n",
      "    x_0_0 x_0_1 x_0_2 x_0_3 x_1_0 x_1_1 x_1_2 x_1_3 x_2_0 x_2_1 x_2_2 x_2_3\n",
      "    x_3_0 x_3_1 x_3_2 x_3_3\n",
      "\n"
     ]
    }
   ],
   "source": [
    "# This converts the TSP of the graph above\n",
    "# into a quadratic optimization problem\n",
    "\n",
    "tsp = Tsp(G)\n",
    "qp = tsp.to_quadratic_program()\n",
    "print(qp.prettyprint())"
   ]
  },
  {
   "cell_type": "code",
   "execution_count": 7,
   "id": "b28c9649-4ad5-4393-a3ef-b9f73b49f96c",
   "metadata": {},
   "outputs": [
    {
     "name": "stdout",
     "output_type": "stream",
     "text": [
      "Problem name: TSP\n",
      "\n",
      "Minimize\n",
      "  386*x_0_0^2 + 386*x_0_0*x_0_1 + 386*x_0_0*x_0_2 + 386*x_0_0*x_0_3\n",
      "  + 386*x_0_0*x_1_0 + 5*x_0_0*x_1_1 + 5*x_0_0*x_1_3 + 386*x_0_0*x_2_0\n",
      "  + 2*x_0_0*x_2_1 + 2*x_0_0*x_2_3 + 386*x_0_0*x_3_0 + 5*x_0_0*x_3_1\n",
      "  + 5*x_0_0*x_3_3 + 386*x_0_1^2 + 386*x_0_1*x_0_2 + 386*x_0_1*x_0_3\n",
      "  + 5*x_0_1*x_1_0 + 386*x_0_1*x_1_1 + 5*x_0_1*x_1_2 + 2*x_0_1*x_2_0\n",
      "  + 386*x_0_1*x_2_1 + 2*x_0_1*x_2_2 + 5*x_0_1*x_3_0 + 386*x_0_1*x_3_1\n",
      "  + 5*x_0_1*x_3_2 + 386*x_0_2^2 + 386*x_0_2*x_0_3 + 5*x_0_2*x_1_1\n",
      "  + 386*x_0_2*x_1_2 + 5*x_0_2*x_1_3 + 2*x_0_2*x_2_1 + 386*x_0_2*x_2_2\n",
      "  + 2*x_0_2*x_2_3 + 5*x_0_2*x_3_1 + 386*x_0_2*x_3_2 + 5*x_0_2*x_3_3\n",
      "  + 386*x_0_3^2 + 5*x_0_3*x_1_0 + 5*x_0_3*x_1_2 + 386*x_0_3*x_1_3\n",
      "  + 2*x_0_3*x_2_0 + 2*x_0_3*x_2_2 + 386*x_0_3*x_2_3 + 5*x_0_3*x_3_0\n",
      "  + 5*x_0_3*x_3_2 + 386*x_0_3*x_3_3 + 386*x_1_0^2 + 386*x_1_0*x_1_1\n",
      "  + 386*x_1_0*x_1_2 + 386*x_1_0*x_1_3 + 386*x_1_0*x_2_0 + 5*x_1_0*x_2_1\n",
      "  + 5*x_1_0*x_2_3 + 386*x_1_0*x_3_0 + 2*x_1_0*x_3_1 + 2*x_1_0*x_3_3\n",
      "  + 386*x_1_1^2 + 386*x_1_1*x_1_2 + 386*x_1_1*x_1_3 + 5*x_1_1*x_2_0\n",
      "  + 386*x_1_1*x_2_1 + 5*x_1_1*x_2_2 + 2*x_1_1*x_3_0 + 386*x_1_1*x_3_1\n",
      "  + 2*x_1_1*x_3_2 + 386*x_1_2^2 + 386*x_1_2*x_1_3 + 5*x_1_2*x_2_1\n",
      "  + 386*x_1_2*x_2_2 + 5*x_1_2*x_2_3 + 2*x_1_2*x_3_1 + 386*x_1_2*x_3_2\n",
      "  + 2*x_1_2*x_3_3 + 386*x_1_3^2 + 5*x_1_3*x_2_0 + 5*x_1_3*x_2_2\n",
      "  + 386*x_1_3*x_2_3 + 2*x_1_3*x_3_0 + 2*x_1_3*x_3_2 + 386*x_1_3*x_3_3\n",
      "  + 386*x_2_0^2 + 386*x_2_0*x_2_1 + 386*x_2_0*x_2_2 + 386*x_2_0*x_2_3\n",
      "  + 386*x_2_0*x_3_0 + 5*x_2_0*x_3_1 + 5*x_2_0*x_3_3 + 386*x_2_1^2\n",
      "  + 386*x_2_1*x_2_2 + 386*x_2_1*x_2_3 + 5*x_2_1*x_3_0 + 386*x_2_1*x_3_1\n",
      "  + 5*x_2_1*x_3_2 + 386*x_2_2^2 + 386*x_2_2*x_2_3 + 5*x_2_2*x_3_1\n",
      "  + 386*x_2_2*x_3_2 + 5*x_2_2*x_3_3 + 386*x_2_3^2 + 5*x_2_3*x_3_0\n",
      "  + 5*x_2_3*x_3_2 + 386*x_2_3*x_3_3 + 386*x_3_0^2 + 386*x_3_0*x_3_1\n",
      "  + 386*x_3_0*x_3_2 + 386*x_3_0*x_3_3 + 386*x_3_1^2 + 386*x_3_1*x_3_2\n",
      "  + 386*x_3_1*x_3_3 + 386*x_3_2^2 + 386*x_3_2*x_3_3 + 386*x_3_3^2 - 772*x_0_0\n",
      "  - 772*x_0_1 - 772*x_0_2 - 772*x_0_3 - 772*x_1_0 - 772*x_1_1 - 772*x_1_2\n",
      "  - 772*x_1_3 - 772*x_2_0 - 772*x_2_1 - 772*x_2_2 - 772*x_2_3 - 772*x_3_0\n",
      "  - 772*x_3_1 - 772*x_3_2 - 772*x_3_3 + 1544\n",
      "\n",
      "Subject to\n",
      "  No constraints\n",
      "\n",
      "  Binary variables (16)\n",
      "    x_0_0 x_0_1 x_0_2 x_0_3 x_1_0 x_1_1 x_1_2 x_1_3 x_2_0 x_2_1 x_2_2 x_2_3\n",
      "    x_3_0 x_3_1 x_3_2 x_3_3\n",
      "\n"
     ]
    }
   ],
   "source": [
    "# Continuing, we concert the quadratic problem to a \n",
    "# QUBO (Quadratic Unconstrained Binary Optimization) problem\n",
    "# to remove the linear constraints above\n",
    "# (which essentially make us visit each node exactly once and not visit 2 nodes\n",
    "# at the same time)\n",
    "\n",
    "qp2qubo = QuadraticProgramToQubo()\n",
    "qubo = qp2qubo.convert(qp)\n",
    "\n",
    "print(qubo.prettyprint())"
   ]
  },
  {
   "cell_type": "code",
   "execution_count": 8,
   "id": "9d7c2c13-d5c8-4f51-a2b7-2a45891ca265",
   "metadata": {},
   "outputs": [
    {
     "ename": "MissingOptionalLibraryError",
     "evalue": "\"The 'CPLEX' library is required to use 'CplexOptimizer'. You can install it with 'pip install 'qiskit-optimization[cplex]''.\"",
     "output_type": "error",
     "traceback": [
      "\u001b[0;31m---------------------------------------------------------------------------\u001b[0m",
      "\u001b[0;31mMissingOptionalLibraryError\u001b[0m               Traceback (most recent call last)",
      "\u001b[0;32m/tmp/ipykernel_4701/917900193.py\u001b[0m in \u001b[0;36m<module>\u001b[0;34m\u001b[0m\n\u001b[1;32m      1\u001b[0m \u001b[0;31m# This is the solution of the non-constrained problem\u001b[0m\u001b[0;34m\u001b[0m\u001b[0;34m\u001b[0m\u001b[0m\n\u001b[0;32m----> 2\u001b[0;31m \u001b[0mresult\u001b[0m \u001b[0;34m=\u001b[0m \u001b[0mCplexOptimizer\u001b[0m\u001b[0;34m(\u001b[0m\u001b[0;34m)\u001b[0m\u001b[0;34m.\u001b[0m\u001b[0msolve\u001b[0m\u001b[0;34m(\u001b[0m\u001b[0mqubo\u001b[0m\u001b[0;34m)\u001b[0m\u001b[0;34m\u001b[0m\u001b[0;34m\u001b[0m\u001b[0m\n\u001b[0m\u001b[1;32m      3\u001b[0m \u001b[0mprint\u001b[0m\u001b[0;34m(\u001b[0m\u001b[0mresult\u001b[0m\u001b[0;34m.\u001b[0m\u001b[0mprettyprint\u001b[0m\u001b[0;34m(\u001b[0m\u001b[0;34m)\u001b[0m\u001b[0;34m)\u001b[0m\u001b[0;34m\u001b[0m\u001b[0;34m\u001b[0m\u001b[0m\n",
      "\u001b[0;32m~/anaconda3/envs/App_q_comp/lib/python3.9/site-packages/qiskit/utils/classtools.py\u001b[0m in \u001b[0;36mout\u001b[0;34m(*args, **kwargs)\u001b[0m\n\u001b[1;32m    114\u001b[0m         \u001b[0;32mdef\u001b[0m \u001b[0mout\u001b[0m\u001b[0;34m(\u001b[0m\u001b[0;34m*\u001b[0m\u001b[0margs\u001b[0m\u001b[0;34m,\u001b[0m \u001b[0;34m**\u001b[0m\u001b[0mkwargs\u001b[0m\u001b[0;34m)\u001b[0m\u001b[0;34m:\u001b[0m\u001b[0;34m\u001b[0m\u001b[0;34m\u001b[0m\u001b[0m\n\u001b[1;32m    115\u001b[0m             \u001b[0;32mfor\u001b[0m \u001b[0mcallback\u001b[0m \u001b[0;32min\u001b[0m \u001b[0mself\u001b[0m\u001b[0;34m.\u001b[0m\u001b[0m_before\u001b[0m\u001b[0;34m:\u001b[0m\u001b[0;34m\u001b[0m\u001b[0;34m\u001b[0m\u001b[0m\n\u001b[0;32m--> 116\u001b[0;31m                 \u001b[0mcallback\u001b[0m\u001b[0;34m.\u001b[0m\u001b[0m__get__\u001b[0m\u001b[0;34m(\u001b[0m\u001b[0mobj\u001b[0m\u001b[0;34m,\u001b[0m \u001b[0mobjtype\u001b[0m\u001b[0;34m)\u001b[0m\u001b[0;34m(\u001b[0m\u001b[0;34m*\u001b[0m\u001b[0margs\u001b[0m\u001b[0;34m,\u001b[0m \u001b[0;34m**\u001b[0m\u001b[0mkwargs\u001b[0m\u001b[0;34m)\u001b[0m\u001b[0;34m\u001b[0m\u001b[0;34m\u001b[0m\u001b[0m\n\u001b[0m\u001b[1;32m    117\u001b[0m             \u001b[0mretval\u001b[0m \u001b[0;34m=\u001b[0m \u001b[0mmethod\u001b[0m\u001b[0;34m(\u001b[0m\u001b[0;34m*\u001b[0m\u001b[0margs\u001b[0m\u001b[0;34m,\u001b[0m \u001b[0;34m**\u001b[0m\u001b[0mkwargs\u001b[0m\u001b[0;34m)\u001b[0m\u001b[0;34m\u001b[0m\u001b[0;34m\u001b[0m\u001b[0m\n\u001b[1;32m    118\u001b[0m             \u001b[0;32mfor\u001b[0m \u001b[0mcallback\u001b[0m \u001b[0;32min\u001b[0m \u001b[0mself\u001b[0m\u001b[0;34m.\u001b[0m\u001b[0m_after\u001b[0m\u001b[0;34m:\u001b[0m\u001b[0;34m\u001b[0m\u001b[0;34m\u001b[0m\u001b[0m\n",
      "\u001b[0;32m~/anaconda3/envs/App_q_comp/lib/python3.9/site-packages/qiskit/utils/lazy_tester.py\u001b[0m in \u001b[0;36m__call__\u001b[0;34m(self, *_args, **_kwargs)\u001b[0m\n\u001b[1;32m     37\u001b[0m \u001b[0;34m\u001b[0m\u001b[0m\n\u001b[1;32m     38\u001b[0m     \u001b[0;32mdef\u001b[0m \u001b[0m__call__\u001b[0m\u001b[0;34m(\u001b[0m\u001b[0mself\u001b[0m\u001b[0;34m,\u001b[0m \u001b[0;34m*\u001b[0m\u001b[0m_args\u001b[0m\u001b[0;34m,\u001b[0m \u001b[0;34m**\u001b[0m\u001b[0m_kwargs\u001b[0m\u001b[0;34m)\u001b[0m\u001b[0;34m:\u001b[0m\u001b[0;34m\u001b[0m\u001b[0;34m\u001b[0m\u001b[0m\n\u001b[0;32m---> 39\u001b[0;31m         \u001b[0mself\u001b[0m\u001b[0;34m.\u001b[0m\u001b[0m_tester\u001b[0m\u001b[0;34m.\u001b[0m\u001b[0mrequire_now\u001b[0m\u001b[0;34m(\u001b[0m\u001b[0mself\u001b[0m\u001b[0;34m.\u001b[0m\u001b[0m_feature\u001b[0m\u001b[0;34m)\u001b[0m\u001b[0;34m\u001b[0m\u001b[0;34m\u001b[0m\u001b[0m\n\u001b[0m\u001b[1;32m     40\u001b[0m \u001b[0;34m\u001b[0m\u001b[0m\n\u001b[1;32m     41\u001b[0m \u001b[0;34m\u001b[0m\u001b[0m\n",
      "\u001b[0;32m~/anaconda3/envs/App_q_comp/lib/python3.9/site-packages/qiskit/utils/lazy_tester.py\u001b[0m in \u001b[0;36mrequire_now\u001b[0;34m(self, feature)\u001b[0m\n\u001b[1;32m    221\u001b[0m         \u001b[0;32mif\u001b[0m \u001b[0mself\u001b[0m\u001b[0;34m:\u001b[0m\u001b[0;34m\u001b[0m\u001b[0;34m\u001b[0m\u001b[0m\n\u001b[1;32m    222\u001b[0m             \u001b[0;32mreturn\u001b[0m\u001b[0;34m\u001b[0m\u001b[0;34m\u001b[0m\u001b[0m\n\u001b[0;32m--> 223\u001b[0;31m         raise MissingOptionalLibraryError(\n\u001b[0m\u001b[1;32m    224\u001b[0m             \u001b[0mlibname\u001b[0m\u001b[0;34m=\u001b[0m\u001b[0mself\u001b[0m\u001b[0;34m.\u001b[0m\u001b[0m_name\u001b[0m\u001b[0;34m,\u001b[0m \u001b[0mname\u001b[0m\u001b[0;34m=\u001b[0m\u001b[0mfeature\u001b[0m\u001b[0;34m,\u001b[0m \u001b[0mpip_install\u001b[0m\u001b[0;34m=\u001b[0m\u001b[0mself\u001b[0m\u001b[0;34m.\u001b[0m\u001b[0m_install\u001b[0m\u001b[0;34m,\u001b[0m \u001b[0mmsg\u001b[0m\u001b[0;34m=\u001b[0m\u001b[0mself\u001b[0m\u001b[0;34m.\u001b[0m\u001b[0m_msg\u001b[0m\u001b[0;34m\u001b[0m\u001b[0;34m\u001b[0m\u001b[0m\n\u001b[1;32m    225\u001b[0m         )\n",
      "\u001b[0;31mMissingOptionalLibraryError\u001b[0m: \"The 'CPLEX' library is required to use 'CplexOptimizer'. You can install it with 'pip install 'qiskit-optimization[cplex]''.\""
     ]
    }
   ],
   "source": [
    "# This is the solution of the non-constrained problem\n",
    "result = CplexOptimizer().solve(qubo)\n",
    "print(result.prettyprint())"
   ]
  },
  {
   "cell_type": "code",
   "execution_count": 9,
   "id": "e41e336d-b468-491f-a725-96c0839c9873",
   "metadata": {},
   "outputs": [],
   "source": [
    "# Now we further relax the problem by switching from\n",
    "# binary to continuous variables\n",
    "\n",
    "def relax_problem(problem) -> QuadraticProgram:\n",
    "    \"\"\"Change all variables to continuous.\"\"\"\n",
    "    relaxed_problem = copy.deepcopy(problem)\n",
    "    for variable in relaxed_problem.variables:\n",
    "        variable.vartype = VarType.CONTINUOUS\n",
    "\n",
    "    return relaxed_problem"
   ]
  },
  {
   "cell_type": "code",
   "execution_count": 10,
   "id": "a8a87927-29d7-496e-bdd6-aaac7052aeba",
   "metadata": {},
   "outputs": [
    {
     "name": "stdout",
     "output_type": "stream",
     "text": [
      "Problem name: TSP\n",
      "\n",
      "Minimize\n",
      "  386*x_0_0^2 + 386*x_0_0*x_0_1 + 386*x_0_0*x_0_2 + 386*x_0_0*x_0_3\n",
      "  + 386*x_0_0*x_1_0 + 5*x_0_0*x_1_1 + 5*x_0_0*x_1_3 + 386*x_0_0*x_2_0\n",
      "  + 2*x_0_0*x_2_1 + 2*x_0_0*x_2_3 + 386*x_0_0*x_3_0 + 5*x_0_0*x_3_1\n",
      "  + 5*x_0_0*x_3_3 + 386*x_0_1^2 + 386*x_0_1*x_0_2 + 386*x_0_1*x_0_3\n",
      "  + 5*x_0_1*x_1_0 + 386*x_0_1*x_1_1 + 5*x_0_1*x_1_2 + 2*x_0_1*x_2_0\n",
      "  + 386*x_0_1*x_2_1 + 2*x_0_1*x_2_2 + 5*x_0_1*x_3_0 + 386*x_0_1*x_3_1\n",
      "  + 5*x_0_1*x_3_2 + 386*x_0_2^2 + 386*x_0_2*x_0_3 + 5*x_0_2*x_1_1\n",
      "  + 386*x_0_2*x_1_2 + 5*x_0_2*x_1_3 + 2*x_0_2*x_2_1 + 386*x_0_2*x_2_2\n",
      "  + 2*x_0_2*x_2_3 + 5*x_0_2*x_3_1 + 386*x_0_2*x_3_2 + 5*x_0_2*x_3_3\n",
      "  + 386*x_0_3^2 + 5*x_0_3*x_1_0 + 5*x_0_3*x_1_2 + 386*x_0_3*x_1_3\n",
      "  + 2*x_0_3*x_2_0 + 2*x_0_3*x_2_2 + 386*x_0_3*x_2_3 + 5*x_0_3*x_3_0\n",
      "  + 5*x_0_3*x_3_2 + 386*x_0_3*x_3_3 + 386*x_1_0^2 + 386*x_1_0*x_1_1\n",
      "  + 386*x_1_0*x_1_2 + 386*x_1_0*x_1_3 + 386*x_1_0*x_2_0 + 5*x_1_0*x_2_1\n",
      "  + 5*x_1_0*x_2_3 + 386*x_1_0*x_3_0 + 2*x_1_0*x_3_1 + 2*x_1_0*x_3_3\n",
      "  + 386*x_1_1^2 + 386*x_1_1*x_1_2 + 386*x_1_1*x_1_3 + 5*x_1_1*x_2_0\n",
      "  + 386*x_1_1*x_2_1 + 5*x_1_1*x_2_2 + 2*x_1_1*x_3_0 + 386*x_1_1*x_3_1\n",
      "  + 2*x_1_1*x_3_2 + 386*x_1_2^2 + 386*x_1_2*x_1_3 + 5*x_1_2*x_2_1\n",
      "  + 386*x_1_2*x_2_2 + 5*x_1_2*x_2_3 + 2*x_1_2*x_3_1 + 386*x_1_2*x_3_2\n",
      "  + 2*x_1_2*x_3_3 + 386*x_1_3^2 + 5*x_1_3*x_2_0 + 5*x_1_3*x_2_2\n",
      "  + 386*x_1_3*x_2_3 + 2*x_1_3*x_3_0 + 2*x_1_3*x_3_2 + 386*x_1_3*x_3_3\n",
      "  + 386*x_2_0^2 + 386*x_2_0*x_2_1 + 386*x_2_0*x_2_2 + 386*x_2_0*x_2_3\n",
      "  + 386*x_2_0*x_3_0 + 5*x_2_0*x_3_1 + 5*x_2_0*x_3_3 + 386*x_2_1^2\n",
      "  + 386*x_2_1*x_2_2 + 386*x_2_1*x_2_3 + 5*x_2_1*x_3_0 + 386*x_2_1*x_3_1\n",
      "  + 5*x_2_1*x_3_2 + 386*x_2_2^2 + 386*x_2_2*x_2_3 + 5*x_2_2*x_3_1\n",
      "  + 386*x_2_2*x_3_2 + 5*x_2_2*x_3_3 + 386*x_2_3^2 + 5*x_2_3*x_3_0\n",
      "  + 5*x_2_3*x_3_2 + 386*x_2_3*x_3_3 + 386*x_3_0^2 + 386*x_3_0*x_3_1\n",
      "  + 386*x_3_0*x_3_2 + 386*x_3_0*x_3_3 + 386*x_3_1^2 + 386*x_3_1*x_3_2\n",
      "  + 386*x_3_1*x_3_3 + 386*x_3_2^2 + 386*x_3_2*x_3_3 + 386*x_3_3^2 - 772*x_0_0\n",
      "  - 772*x_0_1 - 772*x_0_2 - 772*x_0_3 - 772*x_1_0 - 772*x_1_1 - 772*x_1_2\n",
      "  - 772*x_1_3 - 772*x_2_0 - 772*x_2_1 - 772*x_2_2 - 772*x_2_3 - 772*x_3_0\n",
      "  - 772*x_3_1 - 772*x_3_2 - 772*x_3_3 + 1544\n",
      "\n",
      "Subject to\n",
      "  No constraints\n",
      "\n",
      "  Continuous variables (16)\n",
      "    0 <= x_0_0 <= 1\n",
      "    0 <= x_0_1 <= 1\n",
      "    0 <= x_0_2 <= 1\n",
      "    0 <= x_0_3 <= 1\n",
      "    0 <= x_1_0 <= 1\n",
      "    0 <= x_1_1 <= 1\n",
      "    0 <= x_1_2 <= 1\n",
      "    0 <= x_1_3 <= 1\n",
      "    0 <= x_2_0 <= 1\n",
      "    0 <= x_2_1 <= 1\n",
      "    0 <= x_2_2 <= 1\n",
      "    0 <= x_2_3 <= 1\n",
      "    0 <= x_3_0 <= 1\n",
      "    0 <= x_3_1 <= 1\n",
      "    0 <= x_3_2 <= 1\n",
      "    0 <= x_3_3 <= 1\n",
      "\n"
     ]
    }
   ],
   "source": [
    "# qp_relaxed now contains the relaxed version of the TSP problem\n",
    "qp_relaxed = relax_problem(QuadraticProgramToQubo().convert(qubo))\n",
    "print(qp_relaxed.prettyprint())"
   ]
  },
  {
   "cell_type": "code",
   "execution_count": 11,
   "id": "a430d55b-fc6e-4ad2-824c-4845e442e8cc",
   "metadata": {},
   "outputs": [
    {
     "ename": "MissingOptionalLibraryError",
     "evalue": "\"The 'CPLEX' library is required to use 'CplexOptimizer'. You can install it with 'pip install 'qiskit-optimization[cplex]''.\"",
     "output_type": "error",
     "traceback": [
      "\u001b[0;31m---------------------------------------------------------------------------\u001b[0m",
      "\u001b[0;31mMissingOptionalLibraryError\u001b[0m               Traceback (most recent call last)",
      "\u001b[0;32m/tmp/ipykernel_4701/355364233.py\u001b[0m in \u001b[0;36m<module>\u001b[0;34m\u001b[0m\n\u001b[1;32m      1\u001b[0m \u001b[0;31m# We solve the rekaxed problem\u001b[0m\u001b[0;34m\u001b[0m\u001b[0;34m\u001b[0m\u001b[0m\n\u001b[1;32m      2\u001b[0m \u001b[0;34m\u001b[0m\u001b[0m\n\u001b[0;32m----> 3\u001b[0;31m \u001b[0msol\u001b[0m \u001b[0;34m=\u001b[0m \u001b[0mCplexOptimizer\u001b[0m\u001b[0;34m(\u001b[0m\u001b[0;34m)\u001b[0m\u001b[0;34m.\u001b[0m\u001b[0msolve\u001b[0m\u001b[0;34m(\u001b[0m\u001b[0mqp_relaxed\u001b[0m\u001b[0;34m)\u001b[0m\u001b[0;34m\u001b[0m\u001b[0;34m\u001b[0m\u001b[0m\n\u001b[0m\u001b[1;32m      4\u001b[0m \u001b[0mprint\u001b[0m\u001b[0;34m(\u001b[0m\u001b[0msol\u001b[0m\u001b[0;34m.\u001b[0m\u001b[0mprettyprint\u001b[0m\u001b[0;34m(\u001b[0m\u001b[0;34m)\u001b[0m\u001b[0;34m)\u001b[0m\u001b[0;34m\u001b[0m\u001b[0;34m\u001b[0m\u001b[0m\n",
      "\u001b[0;32m~/anaconda3/envs/App_q_comp/lib/python3.9/site-packages/qiskit/utils/classtools.py\u001b[0m in \u001b[0;36mout\u001b[0;34m(*args, **kwargs)\u001b[0m\n\u001b[1;32m    114\u001b[0m         \u001b[0;32mdef\u001b[0m \u001b[0mout\u001b[0m\u001b[0;34m(\u001b[0m\u001b[0;34m*\u001b[0m\u001b[0margs\u001b[0m\u001b[0;34m,\u001b[0m \u001b[0;34m**\u001b[0m\u001b[0mkwargs\u001b[0m\u001b[0;34m)\u001b[0m\u001b[0;34m:\u001b[0m\u001b[0;34m\u001b[0m\u001b[0;34m\u001b[0m\u001b[0m\n\u001b[1;32m    115\u001b[0m             \u001b[0;32mfor\u001b[0m \u001b[0mcallback\u001b[0m \u001b[0;32min\u001b[0m \u001b[0mself\u001b[0m\u001b[0;34m.\u001b[0m\u001b[0m_before\u001b[0m\u001b[0;34m:\u001b[0m\u001b[0;34m\u001b[0m\u001b[0;34m\u001b[0m\u001b[0m\n\u001b[0;32m--> 116\u001b[0;31m                 \u001b[0mcallback\u001b[0m\u001b[0;34m.\u001b[0m\u001b[0m__get__\u001b[0m\u001b[0;34m(\u001b[0m\u001b[0mobj\u001b[0m\u001b[0;34m,\u001b[0m \u001b[0mobjtype\u001b[0m\u001b[0;34m)\u001b[0m\u001b[0;34m(\u001b[0m\u001b[0;34m*\u001b[0m\u001b[0margs\u001b[0m\u001b[0;34m,\u001b[0m \u001b[0;34m**\u001b[0m\u001b[0mkwargs\u001b[0m\u001b[0;34m)\u001b[0m\u001b[0;34m\u001b[0m\u001b[0;34m\u001b[0m\u001b[0m\n\u001b[0m\u001b[1;32m    117\u001b[0m             \u001b[0mretval\u001b[0m \u001b[0;34m=\u001b[0m \u001b[0mmethod\u001b[0m\u001b[0;34m(\u001b[0m\u001b[0;34m*\u001b[0m\u001b[0margs\u001b[0m\u001b[0;34m,\u001b[0m \u001b[0;34m**\u001b[0m\u001b[0mkwargs\u001b[0m\u001b[0;34m)\u001b[0m\u001b[0;34m\u001b[0m\u001b[0;34m\u001b[0m\u001b[0m\n\u001b[1;32m    118\u001b[0m             \u001b[0;32mfor\u001b[0m \u001b[0mcallback\u001b[0m \u001b[0;32min\u001b[0m \u001b[0mself\u001b[0m\u001b[0;34m.\u001b[0m\u001b[0m_after\u001b[0m\u001b[0;34m:\u001b[0m\u001b[0;34m\u001b[0m\u001b[0;34m\u001b[0m\u001b[0m\n",
      "\u001b[0;32m~/anaconda3/envs/App_q_comp/lib/python3.9/site-packages/qiskit/utils/lazy_tester.py\u001b[0m in \u001b[0;36m__call__\u001b[0;34m(self, *_args, **_kwargs)\u001b[0m\n\u001b[1;32m     37\u001b[0m \u001b[0;34m\u001b[0m\u001b[0m\n\u001b[1;32m     38\u001b[0m     \u001b[0;32mdef\u001b[0m \u001b[0m__call__\u001b[0m\u001b[0;34m(\u001b[0m\u001b[0mself\u001b[0m\u001b[0;34m,\u001b[0m \u001b[0;34m*\u001b[0m\u001b[0m_args\u001b[0m\u001b[0;34m,\u001b[0m \u001b[0;34m**\u001b[0m\u001b[0m_kwargs\u001b[0m\u001b[0;34m)\u001b[0m\u001b[0;34m:\u001b[0m\u001b[0;34m\u001b[0m\u001b[0;34m\u001b[0m\u001b[0m\n\u001b[0;32m---> 39\u001b[0;31m         \u001b[0mself\u001b[0m\u001b[0;34m.\u001b[0m\u001b[0m_tester\u001b[0m\u001b[0;34m.\u001b[0m\u001b[0mrequire_now\u001b[0m\u001b[0;34m(\u001b[0m\u001b[0mself\u001b[0m\u001b[0;34m.\u001b[0m\u001b[0m_feature\u001b[0m\u001b[0;34m)\u001b[0m\u001b[0;34m\u001b[0m\u001b[0;34m\u001b[0m\u001b[0m\n\u001b[0m\u001b[1;32m     40\u001b[0m \u001b[0;34m\u001b[0m\u001b[0m\n\u001b[1;32m     41\u001b[0m \u001b[0;34m\u001b[0m\u001b[0m\n",
      "\u001b[0;32m~/anaconda3/envs/App_q_comp/lib/python3.9/site-packages/qiskit/utils/lazy_tester.py\u001b[0m in \u001b[0;36mrequire_now\u001b[0;34m(self, feature)\u001b[0m\n\u001b[1;32m    221\u001b[0m         \u001b[0;32mif\u001b[0m \u001b[0mself\u001b[0m\u001b[0;34m:\u001b[0m\u001b[0;34m\u001b[0m\u001b[0;34m\u001b[0m\u001b[0m\n\u001b[1;32m    222\u001b[0m             \u001b[0;32mreturn\u001b[0m\u001b[0;34m\u001b[0m\u001b[0;34m\u001b[0m\u001b[0m\n\u001b[0;32m--> 223\u001b[0;31m         raise MissingOptionalLibraryError(\n\u001b[0m\u001b[1;32m    224\u001b[0m             \u001b[0mlibname\u001b[0m\u001b[0;34m=\u001b[0m\u001b[0mself\u001b[0m\u001b[0;34m.\u001b[0m\u001b[0m_name\u001b[0m\u001b[0;34m,\u001b[0m \u001b[0mname\u001b[0m\u001b[0;34m=\u001b[0m\u001b[0mfeature\u001b[0m\u001b[0;34m,\u001b[0m \u001b[0mpip_install\u001b[0m\u001b[0;34m=\u001b[0m\u001b[0mself\u001b[0m\u001b[0;34m.\u001b[0m\u001b[0m_install\u001b[0m\u001b[0;34m,\u001b[0m \u001b[0mmsg\u001b[0m\u001b[0;34m=\u001b[0m\u001b[0mself\u001b[0m\u001b[0;34m.\u001b[0m\u001b[0m_msg\u001b[0m\u001b[0;34m\u001b[0m\u001b[0;34m\u001b[0m\u001b[0m\n\u001b[1;32m    225\u001b[0m         )\n",
      "\u001b[0;31mMissingOptionalLibraryError\u001b[0m: \"The 'CPLEX' library is required to use 'CplexOptimizer'. You can install it with 'pip install 'qiskit-optimization[cplex]''.\""
     ]
    }
   ],
   "source": [
    "# We solve the rekaxed problem\n",
    "\n",
    "sol = CplexOptimizer().solve(qp_relaxed)\n",
    "print(sol.prettyprint())"
   ]
  },
  {
   "cell_type": "code",
   "execution_count": null,
   "id": "d9facfef-d58d-4d14-80ca-0e5940d5508e",
   "metadata": {},
   "outputs": [],
   "source": [
    "# And we use the optimum of the continuous-valued relaxation\n",
    "# as initialization parameters of the warm-start QAOA\n",
    "# (these will replace the initial superposition that was earlier constructed\n",
    "# through the Hadamard gates)\n",
    "\n",
    "c_stars = sol.samples[0].x\n",
    "print(c_stars)"
   ]
  },
  {
   "cell_type": "code",
   "execution_count": null,
   "id": "d3b60a53-8de7-44dc-b5de-6e8724003354",
   "metadata": {},
   "outputs": [],
   "source": [
    "# And now we build the circuit:\n",
    "# Namely, the intiialization and the problem and mixer Hamiltonians\n",
    "\n",
    "thetas = [2 * np.arcsin(np.sqrt(c_star)) for c_star in c_stars]\n",
    "num_nodes = 4 \n",
    "adj_matrix = nx.adjacency_matrix(G).todense()\n",
    "num_qubits = num_nodes ** 2\n",
    "\n",
    "init_qc = QuantumCircuit(num_qubits)\n",
    "\n",
    "for idx, theta in enumerate(thetas):\n",
    "    init_qc.ry(theta, idx)\n",
    "\n",
    "init_qc.draw(output=\"mpl\")"
   ]
  },
  {
   "cell_type": "code",
   "execution_count": null,
   "id": "01fceffb-e47c-49ce-a7e9-24b1390a1a84",
   "metadata": {},
   "outputs": [],
   "source": [
    "beta = Parameter(\"β\")\n",
    "\n",
    "ws_mixer = QuantumCircuit(num_qubits)\n",
    "for idx, theta in enumerate(thetas):\n",
    "    ws_mixer.ry(-theta, idx)\n",
    "    ws_mixer.rz(-2 * beta, idx)\n",
    "    ws_mixer.ry(theta, idx)\n",
    "\n",
    "ws_mixer.draw(output=\"mpl\")"
   ]
  },
  {
   "cell_type": "code",
   "execution_count": null,
   "id": "f531f541-a32a-46de-b5f2-269a3d66b4a4",
   "metadata": {},
   "outputs": [],
   "source": [
    "# We can now observe that while the vanilla QAOA failed on the same task,\n",
    "# the Warm-start QAOA is successful\n",
    "\n",
    "algorithm_globals.random_seed = 12345\n",
    "quantum_instance = QuantumInstance(\n",
    "    BasicAer.get_backend(\"qasm_simulator\"),\n",
    "    seed_simulator=algorithm_globals.random_seed,\n",
    "    seed_transpiler=algorithm_globals.random_seed,\n",
    ")\n",
    "\n",
    "ws_qaoa_mes = QAOA(\n",
    "    quantum_instance=quantum_instance,\n",
    "    initial_state=init_qc,\n",
    "    mixer=ws_mixer,\n",
    "    initial_point=[0.0, 1.0],\n",
    ")\n",
    "\n",
    "ws_qaoa = MinimumEigenOptimizer(ws_qaoa_mes)\n",
    "\n",
    "ws_qaoa_result = ws_qaoa.solve(qubo)\n",
    "print(ws_qaoa_result.prettyprint())"
   ]
  },
  {
   "cell_type": "markdown",
   "id": "88b12f77-25ad-44ba-8628-db527d1c4122",
   "metadata": {},
   "source": [
    "Inspiration:\n",
    "\n",
    "https://github.com/Qiskit/qiskit-optimization/blob/stable/0.4/docs/tutorials/10_warm_start_qaoa.ipynb\n",
    "\n",
    "https://arxiv.org/pdf/1302.5843.pdf\n",
    "\n",
    "http://arxiv.org/abs/2009.10095\n"
   ]
  }
 ],
 "metadata": {
  "kernelspec": {
   "display_name": "Python 3 (ipykernel)",
   "language": "python",
   "name": "python3"
  },
  "language_info": {
   "codemirror_mode": {
    "name": "ipython",
    "version": 3
   },
   "file_extension": ".py",
   "mimetype": "text/x-python",
   "name": "python",
   "nbconvert_exporter": "python",
   "pygments_lexer": "ipython3",
   "version": "3.9.13"
  },
  "widgets": {
   "application/vnd.jupyter.widget-state+json": {
    "state": {
     "0aed7b6eaf664de2a39f91ba3114d49d": {
      "model_module": "@jupyter-widgets/controls",
      "model_module_version": "1.5.0",
      "model_name": "HBoxModel",
      "state": {
       "children": [
        "IPY_MODEL_25a487ab43e44c5180e43a30865938a4",
        "IPY_MODEL_f3f90ed53f9b48bb90dc63dbc6edb7a2",
        "IPY_MODEL_7a035d5b02554fdcada6465e521593ca",
        "IPY_MODEL_ae33766e6e634912bb926b6d6470e316",
        "IPY_MODEL_2d74dac63e064caca8ba29b2ac08b9f6"
       ],
       "layout": "IPY_MODEL_c2cc70971d8b4fccbb7bdc4d0b26a084"
      }
     },
     "1649d2444ebf4de09d17b782ad64a8a7": {
      "model_module": "@jupyter-widgets/controls",
      "model_module_version": "1.5.0",
      "model_name": "ButtonStyleModel",
      "state": {}
     },
     "178baa563bcf46e08acbca5a5d468bf9": {
      "model_module": "@jupyter-widgets/base",
      "model_module_version": "1.2.0",
      "model_name": "LayoutModel",
      "state": {
       "margin": "0px 0px 10px 0px"
      }
     },
     "2550a685d39b4c46b4ad055d21d52973": {
      "model_module": "@jupyter-widgets/base",
      "model_module_version": "1.2.0",
      "model_name": "LayoutModel",
      "state": {
       "width": "95px"
      }
     },
     "25a487ab43e44c5180e43a30865938a4": {
      "model_module": "@jupyter-widgets/controls",
      "model_module_version": "1.5.0",
      "model_name": "HTMLModel",
      "state": {
       "layout": "IPY_MODEL_d2ee4d3049b44c87b0300f9be19d09d9",
       "style": "IPY_MODEL_a919eb51bf144457885bb60d915e7d68",
       "value": "<h5>Job ID</h5>"
      }
     },
     "2d74dac63e064caca8ba29b2ac08b9f6": {
      "model_module": "@jupyter-widgets/controls",
      "model_module_version": "1.5.0",
      "model_name": "HTMLModel",
      "state": {
       "layout": "IPY_MODEL_a010905646ac4fe5bf4c8c6212f3fde2",
       "style": "IPY_MODEL_83652a048e754010892a6a371a018426",
       "value": "<h5>Message</h5>"
      }
     },
     "3f0693040d34433196c3ff5cf0976b52": {
      "model_module": "@jupyter-widgets/controls",
      "model_module_version": "1.5.0",
      "model_name": "DescriptionStyleModel",
      "state": {
       "description_width": ""
      }
     },
     "4157f5bdf82540efa9c738b562ed8fc7": {
      "model_module": "@jupyter-widgets/base",
      "model_module_version": "1.2.0",
      "model_name": "LayoutModel",
      "state": {
       "grid_template_areas": "\n                                       \". . . . right \"\n                                        ",
       "grid_template_columns": "20% 20% 20% 20% 20%",
       "width": "100%"
      }
     },
     "564539d486394b26b93cdab9c2af962f": {
      "model_module": "@jupyter-widgets/controls",
      "model_module_version": "1.5.0",
      "model_name": "GridBoxModel",
      "state": {
       "children": [
        "IPY_MODEL_bd9e13f934844bb784f8712d3093585f"
       ],
       "layout": "IPY_MODEL_4157f5bdf82540efa9c738b562ed8fc7"
      }
     },
     "56cc758f5f214a258682bf72a147a2c5": {
      "model_module": "@jupyter-widgets/base",
      "model_module_version": "1.2.0",
      "model_name": "LayoutModel",
      "state": {
       "width": "145px"
      }
     },
     "59e63b86a4374165ae8d10099cd75f38": {
      "model_module": "@jupyter-widgets/controls",
      "model_module_version": "1.5.0",
      "model_name": "DescriptionStyleModel",
      "state": {
       "description_width": ""
      }
     },
     "7515942fc2784e3bb1f54773596019c9": {
      "model_module": "@jupyter-widgets/controls",
      "model_module_version": "1.5.0",
      "model_name": "DescriptionStyleModel",
      "state": {
       "description_width": ""
      }
     },
     "7a035d5b02554fdcada6465e521593ca": {
      "model_module": "@jupyter-widgets/controls",
      "model_module_version": "1.5.0",
      "model_name": "HTMLModel",
      "state": {
       "layout": "IPY_MODEL_2550a685d39b4c46b4ad055d21d52973",
       "style": "IPY_MODEL_59e63b86a4374165ae8d10099cd75f38",
       "value": "<h5>Status</h5>"
      }
     },
     "7d239935e8a94db18f628d9f6275ef51": {
      "model_module": "@jupyter-widgets/controls",
      "model_module_version": "1.5.0",
      "model_name": "HTMLModel",
      "state": {
       "layout": "IPY_MODEL_178baa563bcf46e08acbca5a5d468bf9",
       "style": "IPY_MODEL_7515942fc2784e3bb1f54773596019c9",
       "value": "<p style='font-family: IBM Plex Sans, Arial, Helvetica, sans-serif; font-size: 20px; font-weight: medium;'>Circuit Properties</p>"
      }
     },
     "83652a048e754010892a6a371a018426": {
      "model_module": "@jupyter-widgets/controls",
      "model_module_version": "1.5.0",
      "model_name": "DescriptionStyleModel",
      "state": {
       "description_width": ""
      }
     },
     "97f0b8a7c79b4befb57dc60dfbb89c43": {
      "model_module": "@jupyter-widgets/controls",
      "model_module_version": "1.5.0",
      "model_name": "DescriptionStyleModel",
      "state": {
       "description_width": ""
      }
     },
     "a010905646ac4fe5bf4c8c6212f3fde2": {
      "model_module": "@jupyter-widgets/base",
      "model_module_version": "1.2.0",
      "model_name": "LayoutModel",
      "state": {}
     },
     "a67087de36c244699ce464690b517652": {
      "model_module": "@jupyter-widgets/base",
      "model_module_version": "1.2.0",
      "model_name": "LayoutModel",
      "state": {
       "grid_area": "right",
       "padding": "0px 0px 0px 0px",
       "width": "70px"
      }
     },
     "a919eb51bf144457885bb60d915e7d68": {
      "model_module": "@jupyter-widgets/controls",
      "model_module_version": "1.5.0",
      "model_name": "DescriptionStyleModel",
      "state": {
       "description_width": ""
      }
     },
     "ae33766e6e634912bb926b6d6470e316": {
      "model_module": "@jupyter-widgets/controls",
      "model_module_version": "1.5.0",
      "model_name": "HTMLModel",
      "state": {
       "layout": "IPY_MODEL_e217bf3fa4004396849c48ec1e53faef",
       "style": "IPY_MODEL_97f0b8a7c79b4befb57dc60dfbb89c43",
       "value": "<h5>Queue</h5>"
      }
     },
     "bd9e13f934844bb784f8712d3093585f": {
      "model_module": "@jupyter-widgets/controls",
      "model_module_version": "1.5.0",
      "model_name": "ButtonModel",
      "state": {
       "button_style": "primary",
       "description": "Clear",
       "layout": "IPY_MODEL_a67087de36c244699ce464690b517652",
       "style": "IPY_MODEL_1649d2444ebf4de09d17b782ad64a8a7"
      }
     },
     "c2cc70971d8b4fccbb7bdc4d0b26a084": {
      "model_module": "@jupyter-widgets/base",
      "model_module_version": "1.2.0",
      "model_name": "LayoutModel",
      "state": {
       "margin": "0px 0px 0px 37px",
       "width": "600px"
      }
     },
     "d2ee4d3049b44c87b0300f9be19d09d9": {
      "model_module": "@jupyter-widgets/base",
      "model_module_version": "1.2.0",
      "model_name": "LayoutModel",
      "state": {
       "width": "190px"
      }
     },
     "e217bf3fa4004396849c48ec1e53faef": {
      "model_module": "@jupyter-widgets/base",
      "model_module_version": "1.2.0",
      "model_name": "LayoutModel",
      "state": {
       "width": "70px"
      }
     },
     "f3f90ed53f9b48bb90dc63dbc6edb7a2": {
      "model_module": "@jupyter-widgets/controls",
      "model_module_version": "1.5.0",
      "model_name": "HTMLModel",
      "state": {
       "layout": "IPY_MODEL_56cc758f5f214a258682bf72a147a2c5",
       "style": "IPY_MODEL_3f0693040d34433196c3ff5cf0976b52",
       "value": "<h5>Backend</h5>"
      }
     }
    },
    "version_major": 2,
    "version_minor": 0
   }
  }
 },
 "nbformat": 4,
 "nbformat_minor": 5
}
