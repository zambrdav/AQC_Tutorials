{
 "cells": [
  {
   "cell_type": "markdown",
   "id": "f57d34df-1b03-4ee5-87c4-b3e786fd5f06",
   "metadata": {
    "tags": []
   },
   "source": [
    "To start using the quantum hardware, we need a free IBM account.\n",
    "The link to create an IBM account is:\n",
    "https://quantum-computing.ibm.com/\n",
    "\n",
    "Click on \"Create an IBMid account.\" and follow the steps.\n",
    "This can take a few minutes, it is best if you do it before the tutorial.\n",
    "\n",
    "After you get access to the \"IBM Quantum Lab\", you can directly upload these notebooks there."
   ]
  },
  {
   "cell_type": "markdown",
   "id": "f7d84725-d7af-4997-8f8f-080b85b8ddac",
   "metadata": {},
   "source": [
    "In this part of the tutorial, we will use Shor's algorithm to find the factors of a number.\n",
    "In this case, we will choose a relatively small number N=15, otherwise the quantum circuit would become too big."
   ]
  },
  {
   "cell_type": "code",
   "execution_count": null,
   "id": "671b5b10-759e-454f-8b27-5cc4434de0ad",
   "metadata": {},
   "outputs": [],
   "source": [
    "# Importing standard Qiskit libraries\n",
    "from qiskit import QuantumCircuit, transpile, Aer, IBMQ, assemble\n",
    "from qiskit.tools.jupyter import *\n",
    "from qiskit.visualization import *\n",
    "from ibm_quantum_widgets import *\n",
    "from qiskit.providers.aer import QasmSimulator\n",
    "\n",
    "%matplotlib inline\n",
    "import matplotlib.pyplot as plt\n",
    "from math import gcd\n",
    "from numpy.random import randint\n",
    "import pandas as pd\n",
    "from fractions import Fraction\n",
    "import numpy as np"
   ]
  },
  {
   "cell_type": "code",
   "execution_count": null,
   "id": "777843e3-0115-4616-a2d7-d1966bb6487e",
   "metadata": {},
   "outputs": [],
   "source": [
    "# We need the inverse of the Quantum Fourier Transform\n",
    "\n",
    "def qft_dagger(n):\n",
    "    \"\"\"n-qubit QFTdagger the first n qubits in circ\"\"\"\n",
    "    qc = QuantumCircuit(n)\n",
    "    # Don't forget the Swaps!\n",
    "    for qubit in range(n//2):\n",
    "        qc.swap(qubit, n-qubit-1)\n",
    "    for j in range(n):\n",
    "        for m in range(j):\n",
    "            qc.cp(-np.pi/float(2**(j-m)), m, j)\n",
    "        qc.h(j)\n",
    "    qc.name = \"QFT†\"\n",
    "    return qc"
   ]
  },
  {
   "cell_type": "code",
   "execution_count": null,
   "id": "9de27ce2-edcc-4806-b3b3-d6231352ff24",
   "metadata": {},
   "outputs": [],
   "source": [
    "# For period finding (Shor) and for the subsequent prime factors finding\n",
    "# we need a gate that can do :\n",
    "# U|y⟩ = |ay mod 15⟩\n",
    "\n",
    "def c_amod15(a, power):\n",
    "    \"\"\"Controlled multiplication by a mod 15\"\"\"\n",
    "    if a not in [2,4,7,8,11,13]:\n",
    "        raise ValueError(\"'a' must be 2,4,7,8,11 or 13\")\n",
    "    U = QuantumCircuit(4)        \n",
    "    for iteration in range(power):\n",
    "        if a in [2,13]:\n",
    "            U.swap(0,1)\n",
    "            U.swap(1,2)\n",
    "            U.swap(2,3)\n",
    "        if a in [7,8]:\n",
    "            U.swap(2,3)\n",
    "            U.swap(1,2)\n",
    "            U.swap(0,1)\n",
    "        if a in [4, 11]:\n",
    "            U.swap(1,3)\n",
    "            U.swap(0,2)\n",
    "        if a in [7,11,13]:\n",
    "            for q in range(4):\n",
    "                U.x(q)\n",
    "    U = U.to_gate()\n",
    "    U.name = \"%i^%i mod 15\" % (a, power)\n",
    "    c_U = U.control()\n",
    "    return c_U"
   ]
  },
  {
   "cell_type": "code",
   "execution_count": null,
   "id": "5736fb9f-fcb8-4362-9163-809f0ca2f11b",
   "metadata": {},
   "outputs": [],
   "source": [
    "N = 15\n",
    "\n",
    "# To make sure we get reproducible results, we set the seed of the random number generator\n",
    "np.random.seed(1) \n",
    "a = randint(2, 15)\n",
    "\n",
    "# Let's look at a and make sure it is not already a non-trivial factor of 15\n",
    "print(\"The chosen initial a is: \", a)\n",
    "print(\"The gcd of a and 15 is: \",gcd(a, N))\n",
    "\n",
    "# Now we do Shor's order finding algorithm for the initial a value and N = 15\n",
    "# the phase we measure will be s/r, where: (a^r) mod N = 1\n",
    "# and s is a random integer between 0 and r−1.\n",
    "\n",
    "def qpe_amod15(a):\n",
    "    n_count = 8\n",
    "    qc = QuantumCircuit(4+n_count, n_count)\n",
    "    \n",
    "    for q in range(n_count):\n",
    "        qc.h(q)     # Initialize counting qubits in state |+>\n",
    "        # The counting qubits that are used to control unitary operations \n",
    "    qc.x(3+n_count) # And auxiliary register in state |1>\n",
    "    \n",
    "    for q in range(n_count): # Do controlled-U operations\n",
    "        qc.append(c_amod15(a, 2**q), \n",
    "                 [q] + [i+n_count for i in range(4)])\n",
    "    qc.append(qft_dagger(n_count), range(n_count)) # Do inverse-QFT\n",
    "    qc.measure(range(n_count), range(n_count))\n",
    "    \n",
    "    # Simulate Results\n",
    "    aer_sim = Aer.get_backend('aer_simulator')\n",
    "    t_qc = transpile(qc, aer_sim)\n",
    "    qobj = assemble(t_qc, shots=1)\n",
    "    result = aer_sim.run(qobj, memory=True).result() # Setting memory=True below allows us to see a list of each sequential reading\n",
    "    readings = result.get_memory()\n",
    "    \n",
    "    print(\"Register Reading: \" + readings[0])\n",
    "    phase = int(readings[0],2)/(2**n_count)\n",
    "   \n",
    "    print(\"Corresponding Phase: %f\" % phase)\n",
    "    return phase"
   ]
  },
  {
   "cell_type": "code",
   "execution_count": null,
   "id": "3eebfd1e-beb5-4ea7-80cb-93e7d539b991",
   "metadata": {},
   "outputs": [],
   "source": [
    "# Let's combine all functions we defined above and run the Shor algorithm for\n",
    "# multiple attempts, until we find a non-trivial factor\n",
    "\n",
    "factor_found = False\n",
    "attempt = 0\n",
    "while not factor_found:\n",
    "    attempt += 1\n",
    "    print(\"\\nAttempt %i:\" % attempt)\n",
    "    \n",
    "    phase = qpe_amod15(a) # Phase = s/r\n",
    "    frac = Fraction(phase).limit_denominator(N) # Denominator should tell us r (but not always)\n",
    "    r = frac.denominator\n",
    "    \n",
    "    print(\"Result: r = %i\" % r)\n",
    "    if phase != 0:\n",
    "        \n",
    "        # Guesses for factors are gcd(x^{r/2} ±1 , 15)\n",
    "        guesses = [gcd(a**(r//2)-1, N), gcd(a**(r//2)+1, N)]\n",
    "        print(\"Guessed Factors: %i and %i\" % (guesses[0], guesses[1]))\n",
    "        \n",
    "        for guess in guesses:\n",
    "            if guess not in [1,N] and (N % guess) == 0: # Check to see if guess is a factor\n",
    "                print(\"*** Non-trivial factor found: %i ***\" % guess)\n",
    "                factor_found = True"
   ]
  }
 ],
 "metadata": {
  "kernelspec": {
   "display_name": "Python 3 (ipykernel)",
   "language": "python",
   "name": "python3"
  },
  "language_info": {
   "codemirror_mode": {
    "name": "ipython",
    "version": 3
   },
   "file_extension": ".py",
   "mimetype": "text/x-python",
   "name": "python",
   "nbconvert_exporter": "python",
   "pygments_lexer": "ipython3",
   "version": "3.9.13"
  },
  "widgets": {
   "application/vnd.jupyter.widget-state+json": {
    "state": {
     "001ec64d183f492287db2c0815d52aa9": {
      "model_module": "@jupyter-widgets/base",
      "model_module_version": "1.2.0",
      "model_name": "LayoutModel",
      "state": {
       "width": "190px"
      }
     },
     "05752d91d26948a3896240d08723c3ae": {
      "model_module": "@jupyter-widgets/controls",
      "model_module_version": "1.5.0",
      "model_name": "HBoxModel",
      "state": {
       "children": [
        "IPY_MODEL_0e961d2da8004ee8841ef2924e34d21a",
        "IPY_MODEL_685f0a25372a4b70b1258ea4ff698388",
        "IPY_MODEL_30c67b65a1f0466abac82bf1a0a66688",
        "IPY_MODEL_1b24c9fbe0b24d7bb144dde146bf235e",
        "IPY_MODEL_1f6c3b85b61a4f66955749e91bac5373"
       ],
       "layout": "IPY_MODEL_53d9399dd9bd451f904268b64f2692a7"
      }
     },
     "0e961d2da8004ee8841ef2924e34d21a": {
      "model_module": "@jupyter-widgets/controls",
      "model_module_version": "1.5.0",
      "model_name": "HTMLModel",
      "state": {
       "layout": "IPY_MODEL_001ec64d183f492287db2c0815d52aa9",
       "style": "IPY_MODEL_10d572bf48034c02a8c34cfa9d6811fb",
       "value": "<h5>Job ID</h5>"
      }
     },
     "10d572bf48034c02a8c34cfa9d6811fb": {
      "model_module": "@jupyter-widgets/controls",
      "model_module_version": "1.5.0",
      "model_name": "DescriptionStyleModel",
      "state": {
       "description_width": ""
      }
     },
     "1b24c9fbe0b24d7bb144dde146bf235e": {
      "model_module": "@jupyter-widgets/controls",
      "model_module_version": "1.5.0",
      "model_name": "HTMLModel",
      "state": {
       "layout": "IPY_MODEL_e7d4474161314ae3b0a7955a36822414",
       "style": "IPY_MODEL_b36c1153fdef404c8799e490399159b7",
       "value": "<h5>Queue</h5>"
      }
     },
     "1b9f5ce43020419f9b0adbc7c1c6022a": {
      "model_module": "@jupyter-widgets/controls",
      "model_module_version": "1.5.0",
      "model_name": "DescriptionStyleModel",
      "state": {
       "description_width": ""
      }
     },
     "1f6c3b85b61a4f66955749e91bac5373": {
      "model_module": "@jupyter-widgets/controls",
      "model_module_version": "1.5.0",
      "model_name": "HTMLModel",
      "state": {
       "layout": "IPY_MODEL_7e6c758fc728492b96e174411986fbb1",
       "style": "IPY_MODEL_2800a476f7b14cf7a9639370a0b5fbba",
       "value": "<h5>Message</h5>"
      }
     },
     "2800a476f7b14cf7a9639370a0b5fbba": {
      "model_module": "@jupyter-widgets/controls",
      "model_module_version": "1.5.0",
      "model_name": "DescriptionStyleModel",
      "state": {
       "description_width": ""
      }
     },
     "30c67b65a1f0466abac82bf1a0a66688": {
      "model_module": "@jupyter-widgets/controls",
      "model_module_version": "1.5.0",
      "model_name": "HTMLModel",
      "state": {
       "layout": "IPY_MODEL_f38f0df65aab4baca3d0f95919f52169",
       "style": "IPY_MODEL_ef5e71f3b503409da204b9fddab82d65",
       "value": "<h5>Status</h5>"
      }
     },
     "3823d7e026874a9c83f6b544594dbd68": {
      "model_module": "@jupyter-widgets/controls",
      "model_module_version": "1.5.0",
      "model_name": "GridBoxModel",
      "state": {
       "children": [
        "IPY_MODEL_cb7d549e8df0464cabb30d7d9b351bfc"
       ],
       "layout": "IPY_MODEL_cbf7d81bd3b84d18a9cf04fc0eeff4b5"
      }
     },
     "3ec7f266f2c54e96aef9f150e0abacad": {
      "model_module": "@jupyter-widgets/base",
      "model_module_version": "1.2.0",
      "model_name": "LayoutModel",
      "state": {
       "grid_area": "right",
       "padding": "0px 0px 0px 0px",
       "width": "70px"
      }
     },
     "53d9399dd9bd451f904268b64f2692a7": {
      "model_module": "@jupyter-widgets/base",
      "model_module_version": "1.2.0",
      "model_name": "LayoutModel",
      "state": {
       "margin": "0px 0px 0px 37px",
       "width": "600px"
      }
     },
     "597a11644d08420ab8276d60a2846f1c": {
      "model_module": "@jupyter-widgets/base",
      "model_module_version": "1.2.0",
      "model_name": "LayoutModel",
      "state": {
       "width": "145px"
      }
     },
     "685f0a25372a4b70b1258ea4ff698388": {
      "model_module": "@jupyter-widgets/controls",
      "model_module_version": "1.5.0",
      "model_name": "HTMLModel",
      "state": {
       "layout": "IPY_MODEL_597a11644d08420ab8276d60a2846f1c",
       "style": "IPY_MODEL_1b9f5ce43020419f9b0adbc7c1c6022a",
       "value": "<h5>Backend</h5>"
      }
     },
     "7d377ecf77e042f596c3c544e5b14098": {
      "model_module": "@jupyter-widgets/controls",
      "model_module_version": "1.5.0",
      "model_name": "DescriptionStyleModel",
      "state": {
       "description_width": ""
      }
     },
     "7e6c758fc728492b96e174411986fbb1": {
      "model_module": "@jupyter-widgets/base",
      "model_module_version": "1.2.0",
      "model_name": "LayoutModel",
      "state": {}
     },
     "9d014c3e64ab481bbc229d1ae4be9770": {
      "model_module": "@jupyter-widgets/controls",
      "model_module_version": "1.5.0",
      "model_name": "HTMLModel",
      "state": {
       "layout": "IPY_MODEL_b4bab54dd12943ecae027dd95d26c374",
       "style": "IPY_MODEL_7d377ecf77e042f596c3c544e5b14098",
       "value": "<p style='font-family: IBM Plex Sans, Arial, Helvetica, sans-serif; font-size: 20px; font-weight: medium;'>Circuit Properties</p>"
      }
     },
     "b36c1153fdef404c8799e490399159b7": {
      "model_module": "@jupyter-widgets/controls",
      "model_module_version": "1.5.0",
      "model_name": "DescriptionStyleModel",
      "state": {
       "description_width": ""
      }
     },
     "b4bab54dd12943ecae027dd95d26c374": {
      "model_module": "@jupyter-widgets/base",
      "model_module_version": "1.2.0",
      "model_name": "LayoutModel",
      "state": {
       "margin": "0px 0px 10px 0px"
      }
     },
     "c7404865d0824316a2221b38275550f2": {
      "model_module": "@jupyter-widgets/controls",
      "model_module_version": "1.5.0",
      "model_name": "ButtonStyleModel",
      "state": {}
     },
     "cb7d549e8df0464cabb30d7d9b351bfc": {
      "model_module": "@jupyter-widgets/controls",
      "model_module_version": "1.5.0",
      "model_name": "ButtonModel",
      "state": {
       "button_style": "primary",
       "description": "Clear",
       "layout": "IPY_MODEL_3ec7f266f2c54e96aef9f150e0abacad",
       "style": "IPY_MODEL_c7404865d0824316a2221b38275550f2"
      }
     },
     "cbf7d81bd3b84d18a9cf04fc0eeff4b5": {
      "model_module": "@jupyter-widgets/base",
      "model_module_version": "1.2.0",
      "model_name": "LayoutModel",
      "state": {
       "grid_template_areas": "\n                                       \". . . . right \"\n                                        ",
       "grid_template_columns": "20% 20% 20% 20% 20%",
       "width": "100%"
      }
     },
     "e7d4474161314ae3b0a7955a36822414": {
      "model_module": "@jupyter-widgets/base",
      "model_module_version": "1.2.0",
      "model_name": "LayoutModel",
      "state": {
       "width": "70px"
      }
     },
     "ef5e71f3b503409da204b9fddab82d65": {
      "model_module": "@jupyter-widgets/controls",
      "model_module_version": "1.5.0",
      "model_name": "DescriptionStyleModel",
      "state": {
       "description_width": ""
      }
     },
     "f38f0df65aab4baca3d0f95919f52169": {
      "model_module": "@jupyter-widgets/base",
      "model_module_version": "1.2.0",
      "model_name": "LayoutModel",
      "state": {
       "width": "95px"
      }
     }
    },
    "version_major": 2,
    "version_minor": 0
   }
  }
 },
 "nbformat": 4,
 "nbformat_minor": 5
}
