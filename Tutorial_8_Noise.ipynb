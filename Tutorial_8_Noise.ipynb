{
 "cells": [
  {
   "cell_type": "code",
   "execution_count": null,
   "id": "e6024113-70ad-409a-8956-6859d9c5f1aa",
   "metadata": {},
   "outputs": [],
   "source": [
    "!pip install pennylane\n",
    "!pip install noisyopt\n",
    "!pip install ipympl\n",
    "!pip install pennylane-qiskit"
   ]
  },
  {
   "cell_type": "code",
   "execution_count": null,
   "id": "93f84f49-2cd1-4a64-8ffd-f695c7f15964",
   "metadata": {},
   "outputs": [],
   "source": [
    "import numpy as np\n",
    "\n",
    "# Importing standard Qiskit libraries\n",
    "from qiskit import QuantumCircuit, transpile, Aer, IBMQ\n",
    "from qiskit.tools.jupyter import *\n",
    "from qiskit.visualization import *\n",
    "from ibm_quantum_widgets import *\n",
    "from qiskit.providers.aer import QasmSimulator\n",
    "\n",
    "from pennylane import qchem\n",
    "import pennylane as qml\n",
    "from pennylane import numpy as np\n",
    "import matplotlib.pyplot as plt\n",
    "from noisyopt import minimizeSPSA\n",
    "import time\n",
    "\n",
    "# Loading your IBM Quantum account(s)\n",
    "provider = IBMQ.load_account()"
   ]
  },
  {
   "cell_type": "code",
   "execution_count": null,
   "id": "eba733f7-b9fc-44af-9201-247d25c929fc",
   "metadata": {},
   "outputs": [],
   "source": [
    "# VQE parameters\n",
    "# The number of iterations of the optimizer\n",
    "niter_spsa = 200\n",
    "\n",
    "# The true energy of the H2 molecule\n",
    "true_energy = -1.136189454088\n",
    "\n",
    "# Seed number, for reproducibility of random initialization\n",
    "seednum=0\n",
    "\n",
    "# Optimizer hyperparameters\n",
    "c_value=0.3\n",
    "a_value=1.5\n",
    "\n",
    "# Setup the data of the molecule to optimize for\n",
    "symbols = [\"H\", \"H\"]\n",
    "coordinates = np.array([0.0, 0.0, -0.6614, 0.0, 0.0, 0.6614])\n",
    "h2_ham, num_qubits = qchem.molecular_hamiltonian(symbols, coordinates)"
   ]
  },
  {
   "cell_type": "code",
   "execution_count": null,
   "id": "0139bd42-ce2f-4a39-a80e-137df0272d29",
   "metadata": {},
   "outputs": [],
   "source": [
    "# The classical simulation, no noise\n",
    "# Variational ansatz for H2 \n",
    "def circuit(params, wires): \n",
    "    qml.BasisState(np.array([1, 1, 0, 0]), wires=wires)\n",
    "    for i in wires:\n",
    "        qml.Rot(*params[i], wires=i)\n",
    "    qml.CNOT(wires=[2,3])\n",
    "    qml.CNOT(wires=[2,0])\n",
    "    qml.CNOT(wires=[3,1])\n",
    "    \n",
    "num_params=3 \n",
    "devicename= \"default.qubit\"\n",
    "dev = qml.device(devicename, wires=num_qubits)\n",
    "\n",
    "def exp_val_circuit(params):\n",
    "    circuit(params, range(dev.num_wires))\n",
    "    return qml.expval(h2_ham)\n",
    "\n",
    "# Pennylane uses Quantum Nodes (Qnodes)\n",
    "cost_spsa = qml.QNode(exp_val_circuit, dev)\n",
    "\n",
    "# Wrapping the cost function and flattening the parameters to be compatible with noisyopt which assumes a flat array of input parameters\n",
    "def wrapped_cost(params):  \n",
    "    return cost_spsa(params.reshape(num_qubits, num_params))\n",
    "\n",
    "def callback_fn(xk):\n",
    "    cost_val = wrapped_cost(xk)\n",
    "    simulation_energies.append(cost_val)\n",
    "\n",
    "## Set initial rotation parameters\n",
    "np.random.seed(seednum)\n",
    "init_params = np.random.normal(0, np.pi, (num_qubits, 3), requires_grad=True)\n",
    "initial_name='random seed '+str(seednum)\n",
    "params = init_params.copy().reshape(num_qubits * num_params)\n",
    "simulation_energies = [wrapped_cost(params)]\n",
    "\n",
    "res = minimizeSPSA(wrapped_cost,\n",
    "        x0=params,\n",
    "        niter=niter_spsa,\n",
    "        paired=False,\n",
    "        c=c_value,\n",
    "        a=a_value,\n",
    "        disp=True,\n",
    "        callback=callback_fn)\n",
    "\n",
    "print(\"Result:\", res)\n",
    "print()\n",
    "print(f\"Final estimated value of the ground-state energy = {simulation_energies[-1]:.8f} Ha\")\n",
    "print(\n",
    "   f\"Accuracy with respect to the true energy: {np.abs(simulation_energies[-1] - true_energy):.8f} Ha\"\n",
    ")"
   ]
  },
  {
   "cell_type": "code",
   "execution_count": null,
   "id": "3a8f04c0-dfd4-4644-af64-891081aedb83",
   "metadata": {},
   "outputs": [],
   "source": [
    "# Simulating random noise\n",
    "# Variational ansatz for H2 \n",
    "def circuit(params, wires): \n",
    "    qml.BasisState(np.array([1, 1, 0, 0]), wires=wires)\n",
    "    for i in wires:\n",
    "        qml.Rot(*params[i], wires=i)\n",
    "    qml.CNOT(wires=[2,3])\n",
    "    qml.CNOT(wires=[2,0])\n",
    "    qml.CNOT(wires=[3,1])\n",
    "    \n",
    "    # Random Noise\n",
    "    rand_angle = np.pi + np.random.rand()\n",
    "    # np.random.rand() uniformly samples from [0, 1)\n",
    "    for i in wires:\n",
    "        qml.RX(rand_angle, wires=0)\n",
    "\n",
    "devicename= \"default.qubit\"\n",
    "dev = qml.device(devicename, wires=num_qubits)#, noise_model = my_noise_model)\n",
    "\n",
    "def exp_val_circuit(params):\n",
    "    circuit(params, range(dev.num_wires))\n",
    "    return qml.expval(h2_ham)\n",
    "\n",
    "# Pennylane uses Quantum Nodes (Qnodes)\n",
    "cost_spsa = qml.QNode(exp_val_circuit, dev)\n",
    "\n",
    "# Wrapping the cost function and flattening the parameters to be compatible with noisyopt which assumes a flat array of input parameters\n",
    "def wrapped_cost(params):  \n",
    "    return cost_spsa(params.reshape(num_qubits, num_params))\n",
    "\n",
    "def callback_fn(xk):\n",
    "    cost_val = wrapped_cost(xk)\n",
    "    random_noise_results.append(cost_val)\n",
    "\n",
    "## Set initial rotation parameters\n",
    "np.random.seed(seednum)\n",
    "init_params = np.random.normal(0, np.pi, (num_qubits, 3), requires_grad=True)\n",
    "initial_name='random seed '+str(seednum)\n",
    "params = init_params.copy().reshape(num_qubits * num_params)\n",
    "random_noise_results = [wrapped_cost(params)]\n",
    "\n",
    "res = minimizeSPSA(wrapped_cost,\n",
    "        x0=params,\n",
    "        niter=niter_spsa,\n",
    "        paired=False,\n",
    "        c=c_value,\n",
    "        a=a_value,\n",
    "        disp=True,\n",
    "        callback=callback_fn)\n",
    "\n",
    "print(\"Result:\", res)\n",
    "print()\n",
    "print(f\"Final estimated value of the ground-state energy = {random_noise_results[-1]:.8f} Ha\")\n",
    "print(\n",
    "   f\"Accuracy with respect to the true energy: {np.abs(random_noise_results[-1] - true_energy):.8f} Ha\"\n",
    ")"
   ]
  },
  {
   "cell_type": "code",
   "execution_count": null,
   "id": "a02cb9cc-e1fd-4029-96ee-26ed289ef924",
   "metadata": {},
   "outputs": [],
   "source": [
    "from qiskit.providers.aer.noise import NoiseModel\n",
    "from qiskit.providers.aer.noise import depolarizing_error\n",
    "import qiskit\n",
    "import qiskit.providers.aer.noise as noise\n",
    "\n",
    "my_noise_model = NoiseModel()\n",
    "error = depolarizing_error(0.05, 2)\n",
    "my_noise_model.add_all_qubit_quantum_error(error, ['cx'])\n",
    "\n",
    "dev = qml.device('qiskit.aer', wires=num_qubits, noise_model = my_noise_model)\n",
    "\n",
    "def exp_val_circuit(params):\n",
    "    circuit(params, range(dev.num_wires))\n",
    "    return qml.expval(h2_ham)\n",
    "\n",
    "# Pennylane uses Quantum Nodes (Qnodes)\n",
    "cost_spsa = qml.QNode(exp_val_circuit, dev)\n",
    "\n",
    "# Wrapping the cost function and flattening the parameters to be compatible with noisyopt which assumes a flat array of input parameters\n",
    "def wrapped_cost(params):  \n",
    "    return cost_spsa(params.reshape(num_qubits, num_params))\n",
    "\n",
    "def callback_fn(xk):\n",
    "    cost_val = wrapped_cost(xk)\n",
    "    cx_noise.append(cost_val)\n",
    "    \n",
    "## Set initial rotation parameters\n",
    "np.random.seed(seednum)\n",
    "init_params = np.random.normal(0, np.pi, (num_qubits, 3), requires_grad=True)\n",
    "initial_name='random seed '+str(seednum)\n",
    "params = init_params.copy().reshape(num_qubits * num_params) #flatten\n",
    "cx_noise = [wrapped_cost(params)]\n",
    "\n",
    "res = minimizeSPSA(wrapped_cost,\n",
    "        x0=params,\n",
    "        niter=niter_spsa,\n",
    "        paired=False,\n",
    "        c=c_value,\n",
    "        a=a_value,\n",
    "        disp=True,\n",
    "        callback=callback_fn)\n",
    "\n",
    "print(\"Result:\", res)\n",
    "print()\n",
    "print(f\"Final estimated value of the ground-state energy = {cx_noise[-1]:.8f} Ha\")\n",
    "print(\n",
    "   f\"Accuracy with respect to the true energy: {np.abs(cx_noise[-1] - true_energy):.8f} Ha\"\n",
    ")"
   ]
  },
  {
   "cell_type": "code",
   "execution_count": null,
   "id": "512f6849-dfb6-4f42-b0fa-ab6f96ad3c53",
   "metadata": {},
   "outputs": [],
   "source": [
    "## Energy vs. iteration plot\n",
    "%matplotlib ipympl \n",
    "plt.figure(figsize=(10, 6))\n",
    "plt.plot(range(niter_spsa + 1), simulation_energies, label = \"Energy level of the current VQE using SPSA, NO noise\")\n",
    "plt.plot(range(niter_spsa + 1), random_noise_results, label = \"Energy level of the current VQE using SPSA, RANDOM noise\")\n",
    "plt.plot(range(niter_spsa + 1), cx_noise, label = \"Energy level of the current VQE using SPSA, CX depolarizing noise\")\n",
    "plt.title(\"H2 energy from the VQE using SPSA\")\n",
    "plt.xlabel(\"Number of optimization iterations\", fontsize=14)\n",
    "plt.ylabel(\"Energy (Ha)\", fontsize=14)\n",
    "plt.grid()\n",
    "plt.hlines(true_energy, 0, niter_spsa+2, label=\"True energy level of H2\", color = \"red\")\n",
    "plt.legend(fontsize=14)\n",
    "plt.show()"
   ]
  },
  {
   "cell_type": "markdown",
   "id": "1841dba8-3d6e-4637-b070-ed7c4ba9e762",
   "metadata": {},
   "source": [
    "Homework: using the pennylane-qiskit plugin and a suitable backend, adapt the code above to be run on real hardware."
   ]
  }
 ],
 "metadata": {
  "kernelspec": {
   "display_name": "Python 3 (ipykernel)",
   "language": "python",
   "name": "python3"
  },
  "language_info": {
   "codemirror_mode": {
    "name": "ipython",
    "version": 3
   },
   "file_extension": ".py",
   "mimetype": "text/x-python",
   "name": "python",
   "nbconvert_exporter": "python",
   "pygments_lexer": "ipython3",
   "version": "3.8.13"
  },
  "widgets": {
   "application/vnd.jupyter.widget-state+json": {
    "state": {
     "0fdc609549cd4ae183c766dfb94d367d": {
      "model_module": "@jupyter-widgets/base",
      "model_module_version": "1.2.0",
      "model_name": "LayoutModel",
      "state": {}
     },
     "1498add0e0c4493fa267538e1eadd4b7": {
      "model_module": "@jupyter-widgets/base",
      "model_module_version": "1.2.0",
      "model_name": "LayoutModel",
      "state": {}
     },
     "2bce83dfce904b29a09515a8250e5c9a": {
      "model_module": "jupyter-matplotlib",
      "model_module_version": "^0.8.3",
      "model_name": "MPLCanvasModel",
      "state": {
       "_figure_label": "Figure 1",
       "_height": 600,
       "_image_mode": "diff",
       "_width": 1000,
       "layout": "IPY_MODEL_8721c1e349b34ee79be2f3f8623f2cd5",
       "toolbar": "IPY_MODEL_59e4206a10294ae296690ec092031bdf",
       "toolbar_position": "left"
      }
     },
     "2d69b67f4d844ad9aaf442ebd6024994": {
      "model_module": "@jupyter-widgets/controls",
      "model_module_version": "1.5.0",
      "model_name": "HTMLModel",
      "state": {
       "layout": "IPY_MODEL_3b8e90974bb04cbfafadee253229b2a8",
       "style": "IPY_MODEL_54ec510794394ec5ae10a9e10f974d7e",
       "value": "<h5>Backend</h5>"
      }
     },
     "2fe87461c72748adba41b9a7a791c455": {
      "model_module": "@jupyter-widgets/base",
      "model_module_version": "1.2.0",
      "model_name": "LayoutModel",
      "state": {
       "grid_template_areas": "\n                                       \". . . . right \"\n                                        ",
       "grid_template_columns": "20% 20% 20% 20% 20%",
       "width": "100%"
      }
     },
     "3b8e90974bb04cbfafadee253229b2a8": {
      "model_module": "@jupyter-widgets/base",
      "model_module_version": "1.2.0",
      "model_name": "LayoutModel",
      "state": {
       "width": "145px"
      }
     },
     "3c3283c240ab42508e1fc8c6c4024470": {
      "model_module": "@jupyter-widgets/controls",
      "model_module_version": "1.5.0",
      "model_name": "HTMLModel",
      "state": {
       "layout": "IPY_MODEL_1498add0e0c4493fa267538e1eadd4b7",
       "style": "IPY_MODEL_839fc2a97ae64cdcada1782f608844c5",
       "value": "<h5>Message</h5>"
      }
     },
     "41e08ad928a243fa8a983e0149cd316d": {
      "model_module": "@jupyter-widgets/controls",
      "model_module_version": "1.5.0",
      "model_name": "HTMLModel",
      "state": {
       "layout": "IPY_MODEL_9511f308abcf4b949586df912911d817",
       "style": "IPY_MODEL_b89286544d384810a63408464edd9184",
       "value": "<p style='font-family: IBM Plex Sans, Arial, Helvetica, sans-serif; font-size: 20px; font-weight: medium;'>Circuit Properties</p>"
      }
     },
     "4a6972a64ff5425a89fb30fdf6f19d1b": {
      "model_module": "@jupyter-widgets/controls",
      "model_module_version": "1.5.0",
      "model_name": "ButtonStyleModel",
      "state": {}
     },
     "54ec510794394ec5ae10a9e10f974d7e": {
      "model_module": "@jupyter-widgets/controls",
      "model_module_version": "1.5.0",
      "model_name": "DescriptionStyleModel",
      "state": {
       "description_width": ""
      }
     },
     "59e4206a10294ae296690ec092031bdf": {
      "model_module": "jupyter-matplotlib",
      "model_module_version": "^0.8.3",
      "model_name": "ToolbarModel",
      "state": {
       "layout": "IPY_MODEL_0fdc609549cd4ae183c766dfb94d367d",
       "toolitems": [
        [
         "Home",
         "Reset original view",
         "home",
         "home"
        ],
        [
         "Back",
         "Back to previous view",
         "arrow-left",
         "back"
        ],
        [
         "Forward",
         "Forward to next view",
         "arrow-right",
         "forward"
        ],
        [
         "Pan",
         "Left button pans, Right button zooms\nx/y fixes axis, CTRL fixes aspect",
         "arrows",
         "pan"
        ],
        [
         "Zoom",
         "Zoom to rectangle\nx/y fixes axis",
         "square-o",
         "zoom"
        ],
        [
         "Download",
         "Download plot",
         "floppy-o",
         "save_figure"
        ]
       ]
      }
     },
     "5cbc524a8dc646c39947382c875bd0a9": {
      "model_module": "@jupyter-widgets/controls",
      "model_module_version": "1.5.0",
      "model_name": "DescriptionStyleModel",
      "state": {
       "description_width": ""
      }
     },
     "839fc2a97ae64cdcada1782f608844c5": {
      "model_module": "@jupyter-widgets/controls",
      "model_module_version": "1.5.0",
      "model_name": "DescriptionStyleModel",
      "state": {
       "description_width": ""
      }
     },
     "85d97832bc8d4a6d916590ce6a991471": {
      "model_module": "@jupyter-widgets/controls",
      "model_module_version": "1.5.0",
      "model_name": "HTMLModel",
      "state": {
       "layout": "IPY_MODEL_8dd74ee1441b423f8c47964712874abc",
       "style": "IPY_MODEL_bf293c0745254577b46d7adc4a4b8f96",
       "value": "<h5>Status</h5>"
      }
     },
     "8721c1e349b34ee79be2f3f8623f2cd5": {
      "model_module": "@jupyter-widgets/base",
      "model_module_version": "1.2.0",
      "model_name": "LayoutModel",
      "state": {}
     },
     "87b5d3ae3b684408ba28315feac48d55": {
      "model_module": "@jupyter-widgets/base",
      "model_module_version": "1.2.0",
      "model_name": "LayoutModel",
      "state": {
       "grid_area": "right",
       "padding": "0px 0px 0px 0px",
       "width": "70px"
      }
     },
     "89ae58e132bc4cca97e09034698997a2": {
      "model_module": "@jupyter-widgets/controls",
      "model_module_version": "1.5.0",
      "model_name": "ButtonModel",
      "state": {
       "button_style": "primary",
       "description": "Clear",
       "layout": "IPY_MODEL_87b5d3ae3b684408ba28315feac48d55",
       "style": "IPY_MODEL_4a6972a64ff5425a89fb30fdf6f19d1b"
      }
     },
     "8dd74ee1441b423f8c47964712874abc": {
      "model_module": "@jupyter-widgets/base",
      "model_module_version": "1.2.0",
      "model_name": "LayoutModel",
      "state": {
       "width": "95px"
      }
     },
     "9511f308abcf4b949586df912911d817": {
      "model_module": "@jupyter-widgets/base",
      "model_module_version": "1.2.0",
      "model_name": "LayoutModel",
      "state": {
       "margin": "0px 0px 10px 0px"
      }
     },
     "991407ca5a94473da57fad0d5c05a360": {
      "model_module": "@jupyter-widgets/controls",
      "model_module_version": "1.5.0",
      "model_name": "HTMLModel",
      "state": {
       "layout": "IPY_MODEL_9d87cf437af74ca693b3c92d0f54ecad",
       "style": "IPY_MODEL_5cbc524a8dc646c39947382c875bd0a9",
       "value": "<h5>Job ID</h5>"
      }
     },
     "9b1f2fcf6c8043ed8270b3c7194b8dac": {
      "model_module": "@jupyter-widgets/controls",
      "model_module_version": "1.5.0",
      "model_name": "HBoxModel",
      "state": {
       "children": [
        "IPY_MODEL_991407ca5a94473da57fad0d5c05a360",
        "IPY_MODEL_2d69b67f4d844ad9aaf442ebd6024994",
        "IPY_MODEL_85d97832bc8d4a6d916590ce6a991471",
        "IPY_MODEL_aa56531f854a491183a88b31e536a3c2",
        "IPY_MODEL_3c3283c240ab42508e1fc8c6c4024470"
       ],
       "layout": "IPY_MODEL_e5dd14af7e6944bda5a1ddfa5765b206"
      }
     },
     "9d87cf437af74ca693b3c92d0f54ecad": {
      "model_module": "@jupyter-widgets/base",
      "model_module_version": "1.2.0",
      "model_name": "LayoutModel",
      "state": {
       "width": "190px"
      }
     },
     "aa56531f854a491183a88b31e536a3c2": {
      "model_module": "@jupyter-widgets/controls",
      "model_module_version": "1.5.0",
      "model_name": "HTMLModel",
      "state": {
       "layout": "IPY_MODEL_b8bfdd5dd88d430faaca7749751b7823",
       "style": "IPY_MODEL_de60da45558b4225b1c9ff1c6d624954",
       "value": "<h5>Queue</h5>"
      }
     },
     "b408609f2bbb4b1b93cd7cd233cbdb3c": {
      "model_module": "@jupyter-widgets/controls",
      "model_module_version": "1.5.0",
      "model_name": "GridBoxModel",
      "state": {
       "children": [
        "IPY_MODEL_89ae58e132bc4cca97e09034698997a2"
       ],
       "layout": "IPY_MODEL_2fe87461c72748adba41b9a7a791c455"
      }
     },
     "b89286544d384810a63408464edd9184": {
      "model_module": "@jupyter-widgets/controls",
      "model_module_version": "1.5.0",
      "model_name": "DescriptionStyleModel",
      "state": {
       "description_width": ""
      }
     },
     "b8bfdd5dd88d430faaca7749751b7823": {
      "model_module": "@jupyter-widgets/base",
      "model_module_version": "1.2.0",
      "model_name": "LayoutModel",
      "state": {
       "width": "70px"
      }
     },
     "bf293c0745254577b46d7adc4a4b8f96": {
      "model_module": "@jupyter-widgets/controls",
      "model_module_version": "1.5.0",
      "model_name": "DescriptionStyleModel",
      "state": {
       "description_width": ""
      }
     },
     "de60da45558b4225b1c9ff1c6d624954": {
      "model_module": "@jupyter-widgets/controls",
      "model_module_version": "1.5.0",
      "model_name": "DescriptionStyleModel",
      "state": {
       "description_width": ""
      }
     },
     "e5dd14af7e6944bda5a1ddfa5765b206": {
      "model_module": "@jupyter-widgets/base",
      "model_module_version": "1.2.0",
      "model_name": "LayoutModel",
      "state": {
       "margin": "0px 0px 0px 37px",
       "width": "600px"
      }
     }
    },
    "version_major": 2,
    "version_minor": 0
   }
  }
 },
 "nbformat": 4,
 "nbformat_minor": 5
}
