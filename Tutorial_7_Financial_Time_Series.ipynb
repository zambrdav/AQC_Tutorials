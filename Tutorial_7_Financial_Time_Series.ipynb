{
 "cells": [
  {
   "cell_type": "markdown",
   "id": "8JZGG9Wlqjmr",
   "metadata": {
    "id": "8JZGG9Wlqjmr"
   },
   "source": [
    "# Tutorial 7: Financial Time Series Data\n",
    "\n",
    "In this tutorial, we will look at financial time series - namely, the evolution of stock prices at the stock market. There is a naturally high interest in the analysis of this kind of data, and an even higher interest in predicting the evolution of these prices. If one correctly predicts the evolution of prices for several stocks, one can buy and sell at the right times and obtain "
   ]
  },
  {
   "cell_type": "code",
   "execution_count": 1,
   "id": "-GRzenLbTDJM",
   "metadata": {
    "id": "-GRzenLbTDJM"
   },
   "outputs": [
    {
     "name": "stdout",
     "output_type": "stream",
     "text": [
      "Requirement already satisfied: matplotlib in /home/david/anaconda3/envs/App_q_comp/lib/python3.9/site-packages (3.5.2)\n",
      "Requirement already satisfied: cycler>=0.10 in /home/david/anaconda3/envs/App_q_comp/lib/python3.9/site-packages (from matplotlib) (0.11.0)\n",
      "Requirement already satisfied: kiwisolver>=1.0.1 in /home/david/anaconda3/envs/App_q_comp/lib/python3.9/site-packages (from matplotlib) (1.4.2)\n",
      "Requirement already satisfied: python-dateutil>=2.7 in /home/david/anaconda3/envs/App_q_comp/lib/python3.9/site-packages (from matplotlib) (2.8.2)\n",
      "Requirement already satisfied: packaging>=20.0 in /home/david/anaconda3/envs/App_q_comp/lib/python3.9/site-packages (from matplotlib) (21.3)\n",
      "Requirement already satisfied: pyparsing>=2.2.1 in /home/david/anaconda3/envs/App_q_comp/lib/python3.9/site-packages (from matplotlib) (3.0.9)\n",
      "Requirement already satisfied: fonttools>=4.22.0 in /home/david/anaconda3/envs/App_q_comp/lib/python3.9/site-packages (from matplotlib) (4.25.0)\n",
      "Requirement already satisfied: pillow>=6.2.0 in /home/david/anaconda3/envs/App_q_comp/lib/python3.9/site-packages (from matplotlib) (9.2.0)\n",
      "Requirement already satisfied: numpy>=1.17 in /home/david/anaconda3/envs/App_q_comp/lib/python3.9/site-packages (from matplotlib) (1.23.1)\n",
      "Requirement already satisfied: six>=1.5 in /home/david/anaconda3/envs/App_q_comp/lib/python3.9/site-packages (from python-dateutil>=2.7->matplotlib) (1.16.0)\n",
      "Requirement already satisfied: qiskit in /home/david/anaconda3/envs/App_q_comp/lib/python3.9/site-packages (0.39.0)\n",
      "Requirement already satisfied: qiskit-terra==0.22.0 in /home/david/anaconda3/envs/App_q_comp/lib/python3.9/site-packages (from qiskit) (0.22.0)\n",
      "Requirement already satisfied: qiskit-ibmq-provider==0.19.2 in /home/david/anaconda3/envs/App_q_comp/lib/python3.9/site-packages (from qiskit) (0.19.2)\n",
      "Requirement already satisfied: qiskit-aer==0.11.0 in /home/david/anaconda3/envs/App_q_comp/lib/python3.9/site-packages (from qiskit) (0.11.0)\n",
      "Requirement already satisfied: numpy>=1.16.3 in /home/david/anaconda3/envs/App_q_comp/lib/python3.9/site-packages (from qiskit-aer==0.11.0->qiskit) (1.23.1)\n",
      "Requirement already satisfied: scipy>=1.0 in /home/david/anaconda3/envs/App_q_comp/lib/python3.9/site-packages (from qiskit-aer==0.11.0->qiskit) (1.9.2)\n",
      "Requirement already satisfied: python-dateutil>=2.8.0 in /home/david/anaconda3/envs/App_q_comp/lib/python3.9/site-packages (from qiskit-ibmq-provider==0.19.2->qiskit) (2.8.2)\n",
      "Requirement already satisfied: websockets>=10.0 in /home/david/anaconda3/envs/App_q_comp/lib/python3.9/site-packages (from qiskit-ibmq-provider==0.19.2->qiskit) (10.3)\n",
      "Requirement already satisfied: requests>=2.19 in /home/david/anaconda3/envs/App_q_comp/lib/python3.9/site-packages (from qiskit-ibmq-provider==0.19.2->qiskit) (2.28.1)\n",
      "Requirement already satisfied: urllib3>=1.21.1 in /home/david/anaconda3/envs/App_q_comp/lib/python3.9/site-packages (from qiskit-ibmq-provider==0.19.2->qiskit) (1.26.12)\n",
      "Requirement already satisfied: requests-ntlm>=1.1.0 in /home/david/anaconda3/envs/App_q_comp/lib/python3.9/site-packages (from qiskit-ibmq-provider==0.19.2->qiskit) (1.1.0)\n",
      "Requirement already satisfied: websocket-client>=1.0.1 in /home/david/anaconda3/envs/App_q_comp/lib/python3.9/site-packages (from qiskit-ibmq-provider==0.19.2->qiskit) (1.4.1)\n",
      "Requirement already satisfied: sympy>=1.3 in /home/david/anaconda3/envs/App_q_comp/lib/python3.9/site-packages (from qiskit-terra==0.22.0->qiskit) (1.11.1)\n",
      "Requirement already satisfied: ply>=3.10 in /home/david/anaconda3/envs/App_q_comp/lib/python3.9/site-packages (from qiskit-terra==0.22.0->qiskit) (3.11)\n",
      "Requirement already satisfied: symengine>=0.9 in /home/david/anaconda3/envs/App_q_comp/lib/python3.9/site-packages (from qiskit-terra==0.22.0->qiskit) (0.9.2)\n",
      "Requirement already satisfied: retworkx>=0.11.0 in /home/david/anaconda3/envs/App_q_comp/lib/python3.9/site-packages (from qiskit-terra==0.22.0->qiskit) (0.12.0)\n",
      "Requirement already satisfied: stevedore>=3.0.0 in /home/david/anaconda3/envs/App_q_comp/lib/python3.9/site-packages (from qiskit-terra==0.22.0->qiskit) (4.0.1)\n",
      "Requirement already satisfied: psutil>=5 in /home/david/anaconda3/envs/App_q_comp/lib/python3.9/site-packages (from qiskit-terra==0.22.0->qiskit) (5.9.2)\n",
      "Requirement already satisfied: tweedledum<2.0,>=1.1 in /home/david/anaconda3/envs/App_q_comp/lib/python3.9/site-packages (from qiskit-terra==0.22.0->qiskit) (1.1.1)\n",
      "Requirement already satisfied: dill>=0.3 in /home/david/anaconda3/envs/App_q_comp/lib/python3.9/site-packages (from qiskit-terra==0.22.0->qiskit) (0.3.5.1)\n",
      "Requirement already satisfied: six>=1.5 in /home/david/anaconda3/envs/App_q_comp/lib/python3.9/site-packages (from python-dateutil>=2.8.0->qiskit-ibmq-provider==0.19.2->qiskit) (1.16.0)\n",
      "Requirement already satisfied: charset-normalizer<3,>=2 in /home/david/anaconda3/envs/App_q_comp/lib/python3.9/site-packages (from requests>=2.19->qiskit-ibmq-provider==0.19.2->qiskit) (2.1.1)\n",
      "Requirement already satisfied: idna<4,>=2.5 in /home/david/anaconda3/envs/App_q_comp/lib/python3.9/site-packages (from requests>=2.19->qiskit-ibmq-provider==0.19.2->qiskit) (3.4)\n",
      "Requirement already satisfied: certifi>=2017.4.17 in /home/david/anaconda3/envs/App_q_comp/lib/python3.9/site-packages (from requests>=2.19->qiskit-ibmq-provider==0.19.2->qiskit) (2022.9.24)\n",
      "Requirement already satisfied: ntlm-auth>=1.0.2 in /home/david/anaconda3/envs/App_q_comp/lib/python3.9/site-packages (from requests-ntlm>=1.1.0->qiskit-ibmq-provider==0.19.2->qiskit) (1.5.0)\n",
      "Requirement already satisfied: cryptography>=1.3 in /home/david/anaconda3/envs/App_q_comp/lib/python3.9/site-packages (from requests-ntlm>=1.1.0->qiskit-ibmq-provider==0.19.2->qiskit) (38.0.1)\n",
      "Requirement already satisfied: rustworkx==0.12.0 in /home/david/anaconda3/envs/App_q_comp/lib/python3.9/site-packages (from retworkx>=0.11.0->qiskit-terra==0.22.0->qiskit) (0.12.0)\n",
      "Requirement already satisfied: pbr!=2.1.0,>=2.0.0 in /home/david/anaconda3/envs/App_q_comp/lib/python3.9/site-packages (from stevedore>=3.0.0->qiskit-terra==0.22.0->qiskit) (5.10.0)\n",
      "Requirement already satisfied: mpmath>=0.19 in /home/david/anaconda3/envs/App_q_comp/lib/python3.9/site-packages (from sympy>=1.3->qiskit-terra==0.22.0->qiskit) (1.2.1)\n",
      "Requirement already satisfied: cffi>=1.12 in /home/david/anaconda3/envs/App_q_comp/lib/python3.9/site-packages (from cryptography>=1.3->requests-ntlm>=1.1.0->qiskit-ibmq-provider==0.19.2->qiskit) (1.15.1)\n",
      "Requirement already satisfied: pycparser in /home/david/anaconda3/envs/App_q_comp/lib/python3.9/site-packages (from cffi>=1.12->cryptography>=1.3->requests-ntlm>=1.1.0->qiskit-ibmq-provider==0.19.2->qiskit) (2.21)\n",
      "Collecting qiskit-finance\n",
      "  Downloading qiskit_finance-0.3.4-py3-none-any.whl (50 kB)\n",
      "\u001b[2K     \u001b[38;2;114;156;31m━━━━━━━━━━━━━━━━━━━━━━━━━━━━━━━━━━━━━━━━\u001b[0m \u001b[32m50.6/50.6 kB\u001b[0m \u001b[31m2.8 MB/s\u001b[0m eta \u001b[36m0:00:00\u001b[0m\n",
      "\u001b[?25hCollecting nasdaq-data-link\n",
      "  Downloading Nasdaq_Data_Link-1.0.4-py2.py3-none-any.whl (28 kB)\n",
      "Collecting fastdtw\n",
      "  Using cached fastdtw-0.3.4.tar.gz (133 kB)\n",
      "  Preparing metadata (setup.py) ... \u001b[?25ldone\n",
      "\u001b[?25hCollecting pandas\n",
      "  Downloading pandas-1.5.2-cp39-cp39-manylinux_2_17_x86_64.manylinux2014_x86_64.whl (12.2 MB)\n",
      "\u001b[2K     \u001b[38;2;114;156;31m━━━━━━━━━━━━━━━━━━━━━━━━━━━━━━━━━━━━━━━━\u001b[0m \u001b[32m12.2/12.2 MB\u001b[0m \u001b[31m22.4 MB/s\u001b[0m eta \u001b[36m0:00:00\u001b[0mm eta \u001b[36m0:00:01\u001b[0m0:01\u001b[0m01\u001b[0m\n",
      "\u001b[?25hRequirement already satisfied: setuptools>=40.1.0 in /home/david/anaconda3/envs/App_q_comp/lib/python3.9/site-packages (from qiskit-finance) (63.4.1)\n",
      "Collecting yfinance>=0.1.70\n",
      "  Downloading yfinance-0.1.87-py2.py3-none-any.whl (29 kB)\n",
      "Requirement already satisfied: scipy>=1.4 in /home/david/anaconda3/envs/App_q_comp/lib/python3.9/site-packages (from qiskit-finance) (1.9.2)\n",
      "Requirement already satisfied: certifi in /home/david/anaconda3/envs/App_q_comp/lib/python3.9/site-packages (from qiskit-finance) (2022.9.24)\n",
      "Requirement already satisfied: urllib3 in /home/david/anaconda3/envs/App_q_comp/lib/python3.9/site-packages (from qiskit-finance) (1.26.12)\n",
      "Requirement already satisfied: qiskit-terra>=0.20.0 in /home/david/anaconda3/envs/App_q_comp/lib/python3.9/site-packages (from qiskit-finance) (0.22.0)\n",
      "Requirement already satisfied: numpy>=1.17 in /home/david/anaconda3/envs/App_q_comp/lib/python3.9/site-packages (from qiskit-finance) (1.23.1)\n",
      "Requirement already satisfied: psutil>=5 in /home/david/anaconda3/envs/App_q_comp/lib/python3.9/site-packages (from qiskit-finance) (5.9.2)\n",
      "Collecting qiskit-optimization>=0.2.0\n"
     ]
    },
    {
     "name": "stdout",
     "output_type": "stream",
     "text": [
      "  Downloading qiskit_optimization-0.4.0-py3-none-any.whl (159 kB)\n",
      "\u001b[2K     \u001b[38;2;114;156;31m━━━━━━━━━━━━━━━━━━━━━━━━━━━━━━━━━━━━━━\u001b[0m \u001b[32m159.2/159.2 kB\u001b[0m \u001b[31m15.3 MB/s\u001b[0m eta \u001b[36m0:00:00\u001b[0m\n",
      "\u001b[?25hRequirement already satisfied: networkx>=2.2 in /home/david/anaconda3/envs/App_q_comp/lib/python3.9/site-packages (from qiskit-optimization>=0.2.0->qiskit-finance) (2.8.8)\n",
      "Collecting docplex>=2.21.207\n",
      "  Downloading docplex-2.24.232.tar.gz (640 kB)\n",
      "\u001b[2K     \u001b[38;2;114;156;31m━━━━━━━━━━━━━━━━━━━━━━━━━━━━━━━━━━━━━━\u001b[0m \u001b[32m640.2/640.2 kB\u001b[0m \u001b[31m15.1 MB/s\u001b[0m eta \u001b[36m0:00:00\u001b[0m MB/s\u001b[0m eta \u001b[36m0:00:01\u001b[0m\n",
      "\u001b[?25h  Preparing metadata (setup.py) ... \u001b[?25ldone\n",
      "\u001b[?25hRequirement already satisfied: stevedore>=3.0.0 in /home/david/anaconda3/envs/App_q_comp/lib/python3.9/site-packages (from qiskit-terra>=0.20.0->qiskit-finance) (4.0.1)\n",
      "Requirement already satisfied: retworkx>=0.11.0 in /home/david/anaconda3/envs/App_q_comp/lib/python3.9/site-packages (from qiskit-terra>=0.20.0->qiskit-finance) (0.12.0)\n",
      "Requirement already satisfied: python-dateutil>=2.8.0 in /home/david/anaconda3/envs/App_q_comp/lib/python3.9/site-packages (from qiskit-terra>=0.20.0->qiskit-finance) (2.8.2)\n",
      "Requirement already satisfied: symengine>=0.9 in /home/david/anaconda3/envs/App_q_comp/lib/python3.9/site-packages (from qiskit-terra>=0.20.0->qiskit-finance) (0.9.2)\n",
      "Requirement already satisfied: dill>=0.3 in /home/david/anaconda3/envs/App_q_comp/lib/python3.9/site-packages (from qiskit-terra>=0.20.0->qiskit-finance) (0.3.5.1)\n",
      "Requirement already satisfied: ply>=3.10 in /home/david/anaconda3/envs/App_q_comp/lib/python3.9/site-packages (from qiskit-terra>=0.20.0->qiskit-finance) (3.11)\n",
      "Requirement already satisfied: sympy>=1.3 in /home/david/anaconda3/envs/App_q_comp/lib/python3.9/site-packages (from qiskit-terra>=0.20.0->qiskit-finance) (1.11.1)\n",
      "Requirement already satisfied: tweedledum<2.0,>=1.1 in /home/david/anaconda3/envs/App_q_comp/lib/python3.9/site-packages (from qiskit-terra>=0.20.0->qiskit-finance) (1.1.1)\n",
      "Collecting lxml>=4.5.1\n",
      "  Downloading lxml-4.9.1-cp39-cp39-manylinux_2_17_x86_64.manylinux2014_x86_64.manylinux_2_24_x86_64.whl (7.0 MB)\n",
      "\u001b[2K     \u001b[38;2;114;156;31m━━━━━━━━━━━━━━━━━━━━━━━━━━━━━━━━━━━━━━━━\u001b[0m \u001b[32m7.0/7.0 MB\u001b[0m \u001b[31m20.8 MB/s\u001b[0m eta \u001b[36m0:00:00\u001b[0mm eta \u001b[36m0:00:01\u001b[0m[36m0:00:01\u001b[0m\n",
      "\u001b[?25hRequirement already satisfied: appdirs>=1.4.4 in /home/david/anaconda3/envs/App_q_comp/lib/python3.9/site-packages (from yfinance>=0.1.70->qiskit-finance) (1.4.4)\n",
      "Collecting multitasking>=0.0.7\n",
      "  Downloading multitasking-0.0.11-py3-none-any.whl (8.5 kB)\n",
      "Requirement already satisfied: requests>=2.26 in /home/david/anaconda3/envs/App_q_comp/lib/python3.9/site-packages (from yfinance>=0.1.70->qiskit-finance) (2.28.1)\n",
      "Requirement already satisfied: pytz>=2020.1 in /home/david/anaconda3/envs/App_q_comp/lib/python3.9/site-packages (from pandas->qiskit-finance) (2022.1)\n",
      "Requirement already satisfied: six in /home/david/anaconda3/envs/App_q_comp/lib/python3.9/site-packages (from nasdaq-data-link->qiskit-finance) (1.16.0)\n",
      "Collecting more-itertools\n",
      "  Downloading more_itertools-9.0.0-py3-none-any.whl (52 kB)\n",
      "\u001b[2K     \u001b[38;2;114;156;31m━━━━━━━━━━━━━━━━━━━━━━━━━━━━━━━━━━━━━━━━\u001b[0m \u001b[32m52.8/52.8 kB\u001b[0m \u001b[31m11.6 MB/s\u001b[0m eta \u001b[36m0:00:00\u001b[0m\n",
      "\u001b[?25hRequirement already satisfied: inflection>=0.3.1 in /home/david/anaconda3/envs/App_q_comp/lib/python3.9/site-packages (from nasdaq-data-link->qiskit-finance) (0.5.1)\n",
      "Requirement already satisfied: charset-normalizer<3,>=2 in /home/david/anaconda3/envs/App_q_comp/lib/python3.9/site-packages (from requests>=2.26->yfinance>=0.1.70->qiskit-finance) (2.1.1)\n",
      "Requirement already satisfied: idna<4,>=2.5 in /home/david/anaconda3/envs/App_q_comp/lib/python3.9/site-packages (from requests>=2.26->yfinance>=0.1.70->qiskit-finance) (3.4)\n",
      "Requirement already satisfied: rustworkx==0.12.0 in /home/david/anaconda3/envs/App_q_comp/lib/python3.9/site-packages (from retworkx>=0.11.0->qiskit-terra>=0.20.0->qiskit-finance) (0.12.0)\n",
      "Requirement already satisfied: pbr!=2.1.0,>=2.0.0 in /home/david/anaconda3/envs/App_q_comp/lib/python3.9/site-packages (from stevedore>=3.0.0->qiskit-terra>=0.20.0->qiskit-finance) (5.10.0)\n",
      "Requirement already satisfied: mpmath>=0.19 in /home/david/anaconda3/envs/App_q_comp/lib/python3.9/site-packages (from sympy>=1.3->qiskit-terra>=0.20.0->qiskit-finance) (1.2.1)\n",
      "Building wheels for collected packages: fastdtw, docplex\n",
      "  Building wheel for fastdtw (setup.py) ... \u001b[?25ldone\n",
      "\u001b[?25h  Created wheel for fastdtw: filename=fastdtw-0.3.4-py3-none-any.whl size=3566 sha256=2932a5cdc07e97457a6c7962ed752378e1bc1eab606f1a0e4addf88999210889\n",
      "  Stored in directory: /home/david/.cache/pip/wheels/1f/a1/63/bfd0fddb5bf0b59f564872e29272cee8a2de0cd745d88fede5\n",
      "  Building wheel for docplex (setup.py) ... \u001b[?25ldone\n",
      "\u001b[?25h  Created wheel for docplex: filename=docplex-2.24.232-py3-none-any.whl size=682291 sha256=e365434f3cb64a15af8c5b53dfb90c494de15f7bc26e8708e564d2e16d5b765e\n",
      "  Stored in directory: /home/david/.cache/pip/wheels/1c/d7/73/d979a358f33bc382783ca0443e0ec2df1a1cdae1eab6ff4c83\n",
      "Successfully built fastdtw docplex\n",
      "Installing collected packages: multitasking, more-itertools, lxml, fastdtw, docplex, pandas, yfinance, nasdaq-data-link, qiskit-optimization, qiskit-finance\n",
      "Successfully installed docplex-2.24.232 fastdtw-0.3.4 lxml-4.9.1 more-itertools-9.0.0 multitasking-0.0.11 nasdaq-data-link-1.0.4 pandas-1.5.2 qiskit-finance-0.3.4 qiskit-optimization-0.4.0 yfinance-0.1.87\n"
     ]
    }
   ],
   "source": [
    "!pip install matplotlib\n",
    "!pip install qiskit\n",
    "!pip install qiskit-finance"
   ]
  },
  {
   "cell_type": "code",
   "execution_count": 11,
   "id": "61c27b89-a9f9-486f-90e7-40a8a69a6cce",
   "metadata": {
    "id": "61c27b89-a9f9-486f-90e7-40a8a69a6cce"
   },
   "outputs": [],
   "source": [
    "%matplotlib inline\n",
    "from qiskit_finance import QiskitFinanceError\n",
    "from qiskit_finance.data_providers import *\n",
    "import datetime\n",
    "import matplotlib.pyplot as plt\n",
    "from pandas.plotting import register_matplotlib_converters\n",
    "\n",
    "register_matplotlib_converters()\n",
    "\n",
    "# TODO: Let us first work with randomly generated fake stock market data\n",
    "# generated for 2 stocks (tickers) between 01.01.2022 and 30.01.2022\n",
    "data = RandomDataProvider(\n",
    "    tickers=[\"one\", \"two\"],\n",
    "    start=datetime.datetime(2022, 1, 1),\n",
    "    end=datetime.datetime(2022, 1, 30),\n",
    ")\n",
    "\n",
    "# TODO: find the function that loads the data into a RandomDataProvider,\n",
    "data.run()"
   ]
  },
  {
   "cell_type": "code",
   "execution_count": 14,
   "id": "a1560679-c602-4876-a326-473a98a8db26",
   "metadata": {
    "id": "a1560679-c602-4876-a326-473a98a8db26"
   },
   "outputs": [
    {
     "name": "stdout",
     "output_type": "stream",
     "text": [
      "<qiskit_finance.data_providers.random_data_provider.RandomDataProvider object at 0x7f92be7c6610>\n"
     ]
    }
   ],
   "source": [
    "# TODO: \n",
    "# Use simple printing and then matplotlib to visualize\n",
    "# the evolution of the underlying data inside the \"data\" RandomDataProvider\n"
   ]
  },
  {
   "cell_type": "code",
   "execution_count": 24,
   "id": "6e024c7c-499a-4cdc-8792-99e95ace22e2",
   "metadata": {
    "id": "6e024c7c-499a-4cdc-8792-99e95ace22e2"
   },
   "outputs": [
    {
     "name": "stdout",
     "output_type": "stream",
     "text": [
      "Means:\n",
      "[98.23810813 53.32580434]\n",
      "A time-series similarity measure:\n",
      "[[1.00000000e+00 7.67779778e-04]\n",
      " [7.67779778e-04 1.00000000e+00]]\n",
      "A covariance matrix:\n",
      "[[ 2.79210145 -1.54723551]\n",
      " [-1.54723551  2.74697153]]\n"
     ]
    },
    {
     "data": {
      "image/png": "[encoded data removed]",
      "text/plain": [
       "<Figure size 640x480 with 2 Axes>"
      ]
     },
     "metadata": {},
     "output_type": "display_data"
    }
   ],
   "source": [
    "# TODO: Let's get some statistical metrics on the data\n",
    "# Namely: the mean of each stock, the similarity matrix between the stocks\n",
    "# And the covariance matrix\n",
    "# Hint: no need to create new code for that, they are already defined for\n",
    "# any qiskit-finance (Random)DataProvider\n",
    "\n",
    "means = data.get_mean_vector()\n",
    "print(\"Means:\")\n",
    "print(means)\n",
    "\n",
    "rho = data.get_similarity_matrix()\n",
    "print(\"A time-series similarity measure:\")\n",
    "print(rho)\n",
    "# TODO : display the similarity matrix using matplotlib\n",
    "fig = plt.figure()\n",
    "ax = plt.subplot(211)\n",
    "ax.set_title(\"Similarity Matrix\")\n",
    "ax.imshow(rho)\n",
    "\n",
    "cov = data.get_covariance_matrix()\n",
    "print(\"A covariance matrix:\")\n",
    "print(cov)\n",
    "# TODO : display the covariance matrix using matplotlib\n",
    "ax = plt.subplot(212)\n",
    "ax.set_title(\"Covariance Matrix\")\n",
    "ax.imshow(cov)\n",
    "plt.show()"
   ]
  },
  {
   "cell_type": "code",
   "execution_count": 27,
   "id": "2f2151e7-31fd-45b7-89be-dfbe39246305",
   "metadata": {
    "id": "2f2151e7-31fd-45b7-89be-dfbe39246305"
   },
   "outputs": [],
   "source": [
    "stocks = [\"GOOG\", \"AAPL\", \"MSFT\", \"TWTR\"]\n",
    "\n",
    "# TODO: To get this access token, go to\n",
    "# https://data.nasdaq.com/sign-up\n",
    "# and create a free student account\n",
    "\n",
    "token = \"xMMEe2yxywBAU15LyuUH\"\n",
    "\n",
    "try:\n",
    "    wiki = WikipediaDataProvider(\n",
    "        token=token,\n",
    "        tickers=stocks,\n",
    "        start=datetime.datetime(2018,1,1),\n",
    "        end=datetime.datetime(2018,1,30)\n",
    "        # To extract data between 01.01.2018 and 30.01.2018\n",
    "    )\n",
    "    # TODO : call the necessary function to actually load the data\n",
    "    wiki.run()\n",
    "except QiskitFinanceError as ex:\n",
    "    print(ex)\n",
    "    print(\"Error retrieving data.\")"
   ]
  },
  {
   "cell_type": "code",
   "execution_count": 30,
   "id": "fVZIs3hYkvnG",
   "metadata": {
    "id": "fVZIs3hYkvnG"
   },
   "outputs": [
    {
     "name": "stdout",
     "output_type": "stream",
     "text": [
      "A time-series similarity measure:\n",
      "[[1.00000000e+00 5.23846542e-05 4.81239133e-05 4.52619558e-05]\n",
      " [5.23846542e-05 1.00000000e+00 5.91670463e-04 3.32883940e-04]\n",
      " [4.81239133e-05 5.91670463e-04 1.00000000e+00 7.61081344e-04]\n",
      " [4.52619558e-05 3.32883940e-04 7.61081344e-04 1.00000000e+00]]\n",
      "A covariance matrix:\n",
      "[[ 1.16525208e+03 -1.95511505e+01  8.13459421e+01 -9.87304000e+00]\n",
      " [-1.95511505e+01  1.12885411e+01 -2.16174211e+00 -7.45595789e-01]\n",
      " [ 8.13459421e+01 -2.16174211e+00  5.92385132e+00 -4.47411842e-01]\n",
      " [-9.87304000e+00 -7.45595789e-01 -4.47411842e-01  8.31202895e-01]]\n"
     ]
    },
    {
     "data": {
      "image/png": "[encoded data removed]",
      "text/plain": [
       "<Figure size 640x480 with 2 Axes>"
      ]
     },
     "metadata": {},
     "output_type": "display_data"
    }
   ],
   "source": [
    "if wiki._data:\n",
    "  # TODO: same exercise as above, compute the \n",
    "  # statistical metrics to get some insight on your data\n",
    "  # and then display them using matplotlib\n",
    "\n",
    "  rho = wiki.get_similarity_matrix()\n",
    "  print(\"A time-series similarity measure:\")\n",
    "  print(rho)\n",
    "  # TODO : display the similarity matrix using matplotlib\n",
    "  fig = plt.figure()\n",
    "  ax = plt.subplot(211)\n",
    "  ax.set_title(\"Similarity Matrix\")\n",
    "  ax.imshow(rho)\n",
    "\n",
    "  cov = wiki.get_covariance_matrix()\n",
    "  print(\"A covariance matrix:\") \n",
    "  print(cov)\n",
    "  # TODO : display the covariance matrix using matplotlib\n",
    "  ax = plt.subplot(212)\n",
    "  ax.set_title(\"Covariance Matrix\")\n",
    "  ax.imshow(cov)\n",
    "  plt.show()\n",
    "\n",
    "\n",
    "else:\n",
    "    print(\"Wiki data provider is empty.\")"
   ]
  },
  {
   "cell_type": "code",
   "execution_count": 20,
   "id": "w8P57A8Mk1-R",
   "metadata": {
    "id": "w8P57A8Mk1-R"
   },
   "outputs": [],
   "source": [
    "if wiki._data:\n",
    "    print(\"The underlying evolution of stock prices:\")\n",
    "    # TODO: identically as before, plot the evolution\n",
    "    # of the stocks in the wiki dataloader\n",
    "else:\n",
    "    print(\"No wiki data loaded.\")"
   ]
  },
  {
   "cell_type": "markdown",
   "id": "p7VXKhI0tn69",
   "metadata": {
    "id": "p7VXKhI0tn69"
   },
   "source": [
    "Homework: \n",
    "\n",
    "Could you use quantum to predict how these prices fluctuate?\n",
    "If so, how?"
   ]
  }
 ],
 "metadata": {
  "colab": {
   "provenance": []
  },
  "kernelspec": {
   "display_name": "Python 3 (ipykernel)",
   "language": "python",
   "name": "python3"
  },
  "language_info": {
   "codemirror_mode": {
    "name": "ipython",
    "version": 3
   },
   "file_extension": ".py",
   "mimetype": "text/x-python",
   "name": "python",
   "nbconvert_exporter": "python",
   "pygments_lexer": "ipython3",
   "version": "3.9.13"
  }
 },
 "nbformat": 4,
 "nbformat_minor": 5
}
