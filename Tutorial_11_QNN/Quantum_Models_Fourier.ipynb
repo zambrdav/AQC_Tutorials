{
 "cells": [
  {
   "cell_type": "markdown",
   "id": "6fb18ba8-7cb3-452e-a5c4-5de11d65b847",
   "metadata": {},
   "source": [
    "In this tutorial we will model quantum models as Fourier functions.\n",
    "\n",
    "A paper from Maria Schuld et al. [1] shows how a quantum model as such:\n",
    "\n",
    "![./Fourier_Circuit_MS.png](Fourier_Circuit_MS.png)\n",
    "\n",
    "\n",
    "can be written as a Fourier-type sum of the form:\n",
    "\n",
    "$f_θ(x)=\\sum_{ω∈Ω}c_ω(θ)e^{iωx}$\n",
    "\n",
    "The data encoding circuit blocks (denoted S(x)) determine the set Ω of available “frequencies”, and the remainder of the circuit, including the trainable parameters (denoted W(theta)), determines the coefficients $c_ω$."
   ]
  },
  {
   "cell_type": "code",
   "execution_count": 1,
   "id": "c154e977-a202-410e-b2f0-71f9502bb545",
   "metadata": {},
   "outputs": [
    {
     "name": "stdout",
     "output_type": "stream",
     "text": [
      "Requirement already satisfied: pennylane in /home/david/anaconda3/envs/App_q_comp/lib/python3.9/site-packages (0.27.0)\r\n",
      "Requirement already satisfied: scipy in /home/david/anaconda3/envs/App_q_comp/lib/python3.9/site-packages (from pennylane) (1.9.2)\r\n",
      "Requirement already satisfied: toml in /home/david/anaconda3/envs/App_q_comp/lib/python3.9/site-packages (from pennylane) (0.10.2)\r\n",
      "Requirement already satisfied: appdirs in /home/david/anaconda3/envs/App_q_comp/lib/python3.9/site-packages (from pennylane) (1.4.4)\r\n",
      "Requirement already satisfied: autoray>=0.3.1 in /home/david/anaconda3/envs/App_q_comp/lib/python3.9/site-packages (from pennylane) (0.5.2)\r\n",
      "Requirement already satisfied: autograd in /home/david/anaconda3/envs/App_q_comp/lib/python3.9/site-packages (from pennylane) (1.5)\r\n",
      "Requirement already satisfied: requests in /home/david/anaconda3/envs/App_q_comp/lib/python3.9/site-packages (from pennylane) (2.28.1)\r\n",
      "Requirement already satisfied: cachetools in /home/david/anaconda3/envs/App_q_comp/lib/python3.9/site-packages (from pennylane) (5.2.0)\r\n",
      "Requirement already satisfied: semantic-version>=2.7 in /home/david/anaconda3/envs/App_q_comp/lib/python3.9/site-packages (from pennylane) (2.10.0)\r\n",
      "Requirement already satisfied: networkx in /home/david/anaconda3/envs/App_q_comp/lib/python3.9/site-packages (from pennylane) (2.8.8)\r\n",
      "Requirement already satisfied: pennylane-lightning>=0.27 in /home/david/anaconda3/envs/App_q_comp/lib/python3.9/site-packages (from pennylane) (0.27.0)\r\n",
      "Requirement already satisfied: retworkx in /home/david/anaconda3/envs/App_q_comp/lib/python3.9/site-packages (from pennylane) (0.12.0)\r\n",
      "Requirement already satisfied: numpy in /home/david/anaconda3/envs/App_q_comp/lib/python3.9/site-packages (from pennylane) (1.23.1)\r\n",
      "Requirement already satisfied: ninja in /home/david/anaconda3/envs/App_q_comp/lib/python3.9/site-packages (from pennylane-lightning>=0.27->pennylane) (1.11.1)\r\n",
      "Requirement already satisfied: future>=0.15.2 in /home/david/anaconda3/envs/App_q_comp/lib/python3.9/site-packages (from autograd->pennylane) (0.18.2)\r\n",
      "Requirement already satisfied: urllib3<1.27,>=1.21.1 in /home/david/anaconda3/envs/App_q_comp/lib/python3.9/site-packages (from requests->pennylane) (1.26.12)\r\n",
      "Requirement already satisfied: certifi>=2017.4.17 in /home/david/anaconda3/envs/App_q_comp/lib/python3.9/site-packages (from requests->pennylane) (2022.9.24)\r\n",
      "Requirement already satisfied: charset-normalizer<3,>=2 in /home/david/anaconda3/envs/App_q_comp/lib/python3.9/site-packages (from requests->pennylane) (2.1.1)\r\n",
      "Requirement already satisfied: idna<4,>=2.5 in /home/david/anaconda3/envs/App_q_comp/lib/python3.9/site-packages (from requests->pennylane) (3.4)\r\n",
      "Requirement already satisfied: rustworkx==0.12.0 in /home/david/anaconda3/envs/App_q_comp/lib/python3.9/site-packages (from retworkx->pennylane) (0.12.0)\r\n"
     ]
    }
   ],
   "source": [
    "!pip install pennylane # comment if pennylane is already installed\n",
    "import matplotlib.pyplot as plt\n",
    "%matplotlib inline \n",
    "plt.rcParams['figure.facecolor'] = 'white'\n",
    "plt.rcParams['axes.facecolor'] = 'white'\n",
    "\n",
    "import pennylane as qml\n",
    "from pennylane import numpy as np\n",
    "from pennylane.templates import StronglyEntanglingLayers\n",
    "\n",
    "np.random.seed(0)"
   ]
  },
  {
   "cell_type": "code",
   "execution_count": 2,
   "id": "9d8c75d9-7304-4157-8725-1b89f670a6bc",
   "metadata": {},
   "outputs": [
    {
     "data": {
      "image/png": "[encoded data removed]",
      "text/plain": [
       "<Figure size 640x480 with 1 Axes>"
      ]
     },
     "metadata": {},
     "output_type": "display_data"
    }
   ],
   "source": [
    "# Creating the function the quantum model has to learn\n",
    "\n",
    "# degree of the target Fourier function\n",
    "degree = 1\n",
    "\n",
    "# coefficients of non-zero frequencies\n",
    "coeffs = [0.15 + 0.15j] * degree\n",
    "\n",
    "# coefficient of zero frequency\n",
    "coeff0 = 0.1  \n",
    "\n",
    "def target_function(x):\n",
    "    # This is a helper to create a function that the quantum\n",
    "    # model has to fit using the Fourier series (the ground truth)\n",
    "    res = coeff0\n",
    "    for idx, coeff in enumerate(coeffs):\n",
    "        exponent = np.complex128((idx+1) * x * 1j)\n",
    "        conj_coeff = np.conjugate(coeff)\n",
    "        res += coeff * np.exp(exponent) + conj_coeff * np.exp(-exponent)\n",
    "    return np.real(res)\n",
    "\n",
    "# And now to plot the target function\n",
    "x = np.linspace(-5, 5, 50, requires_grad=False)\n",
    "target_y = np.array([target_function(x_) for x_ in x], requires_grad=False)\n",
    "\n",
    "plt.plot(x, target_y)\n",
    "plt.scatter(x, target_y)\n",
    "plt.ylim(-1, 1)\n",
    "plt.show()"
   ]
  },
  {
   "cell_type": "markdown",
   "id": "27f09325-1e45-4e73-b926-b528ede952bb",
   "metadata": {},
   "source": [
    "We will have two quantum models.\n",
    "The first and simpler quantum model is the following circuit:\n",
    "\n",
    "![./simple_circuit_fourier.png](simple_circuit_fourier.png)\n",
    "\n",
    "You can see the concept of data reuploading present in the circuit, considering the repetition of a data encoding layer after all trainable layers (apart from the last one)."
   ]
  },
  {
   "cell_type": "code",
   "execution_count": 3,
   "id": "1146387d-b898-4809-b286-f07565a5d861",
   "metadata": {},
   "outputs": [
    {
     "ename": "SyntaxError",
     "evalue": "invalid syntax (3509638121.py, line 3)",
     "output_type": "error",
     "traceback": [
      "\u001b[0;36m  File \u001b[0;32m\"/tmp/ipykernel_6438/3509638121.py\"\u001b[0;36m, line \u001b[0;32m3\u001b[0m\n\u001b[0;31m    dev = # TODO: Instantiate the default qiskit device\u001b[0m\n\u001b[0m          ^\u001b[0m\n\u001b[0;31mSyntaxError\u001b[0m\u001b[0;31m:\u001b[0m invalid syntax\n"
     ]
    }
   ],
   "source": [
    "# Now we define the quantum model that will learn the function we defined above\n",
    "\n",
    "dev = # TODO: Instantiate the default qiskit device\n",
    "\n",
    "def data_encoding_layer(x):\n",
    "    # TODO: Define the data encoding as a parametrized RX gate\n",
    "\n",
    "def trainable_layer(theta):\n",
    "    # TODO: Define the trainable layer as a general 3-parameters rotational gate\n",
    "\n",
    "@qml.qnode(dev)\n",
    "def quantum_model(weights, x):\n",
    "    # TODO: create the quantum model \n",
    "\n",
    "    # TODO: return the expectation value\n",
    "    # with respect to the Z observable\n",
    "    pass"
   ]
  },
  {
   "cell_type": "code",
   "execution_count": null,
   "id": "c0a604b5-f735-4504-8fbe-81dc56bb6436",
   "metadata": {},
   "outputs": [],
   "source": [
    "layers = 1\n",
    "weights = 2 * np.pi * np.random.random(size=(layers+1, 3), requires_grad=True)\n",
    "\n",
    "x = np.linspace(-5, 5, 50, requires_grad=False)\n",
    "random_quantum_model_y = [quantum_model(weights, x_) for x_ in x]\n",
    "\n",
    "plt.plot(x, random_quantum_model_y, c='blue')\n",
    "plt.ylim(-1,1)\n",
    "plt.show()"
   ]
  },
  {
   "cell_type": "code",
   "execution_count": null,
   "id": "2988d679-a7bd-42e0-80f9-c22898abb70f",
   "metadata": {},
   "outputs": [],
   "source": [
    "# TODO: print the circuit to check it is well defined"
   ]
  },
  {
   "cell_type": "code",
   "execution_count": null,
   "id": "377d82fa-6b29-4336-b791-b104026ab6d9",
   "metadata": {},
   "outputs": [],
   "source": [
    "def square_loss(targets, preds):\n",
    "    loss = 0\n",
    "    # TODO: compute the square loss between the ground\n",
    "    # truth values (targets) and what our model obtained (predictions)   \n",
    "    return loss\n",
    "\n",
    "def cost(weights, x, y):\n",
    "    preds = [quantum_model(weights, x_) for x_ in x]\n",
    "    return square_loss(y, preds)\n",
    "\n",
    "max_steps = 50\n",
    "opt = qml.AdamOptimizer(0.3)\n",
    "batch_size = 20\n",
    "cst = [cost(weights, x, target_y)]  # initial cost\n",
    "for step in range(max_steps):\n",
    "\n",
    "    # Select batch of data\n",
    "    batch_index = np.random.randint(0, len(x), (batch_size,))\n",
    "    x_batch = x[batch_index]\n",
    "    y_batch = target_y[batch_index]\n",
    "\n",
    "    # Update the weights by one optimizer step\n",
    "    weights, _, _ = opt.step(cost, weights, x_batch, y_batch)\n",
    "    \n",
    "    # Save, and possibly print, the current cost\n",
    "    c = cost(weights, x, target_y)\n",
    "    cst.append(c)\n",
    "    if (step + 1) % 10 == 0:\n",
    "        print(\"Cost at step {0:3}: {1}\".format(step + 1, c))"
   ]
  },
  {
   "cell_type": "code",
   "execution_count": null,
   "id": "92935e99-41f3-477a-9640-ba4f2773aadc",
   "metadata": {},
   "outputs": [],
   "source": [
    "predictions = [quantum_model(weights, x_) for x_ in x]\n",
    "\n",
    "plt.plot(x, target_y, c='black')\n",
    "plt.scatter(x, target_y, facecolor='white', edgecolor='black')\n",
    "plt.plot(x, predictions, c='blue')\n",
    "plt.ylim(-1,1)\n",
    "plt.show()"
   ]
  },
  {
   "cell_type": "code",
   "execution_count": null,
   "id": "dd6476f0-a02b-4acf-bdba-4d97b220529a",
   "metadata": {},
   "outputs": [],
   "source": [
    "plt.plot(range(len(cst)), cst)\n",
    "plt.ylabel(\"Cost\")\n",
    "plt.xlabel(\"Step\")\n",
    "plt.show()"
   ]
  },
  {
   "cell_type": "markdown",
   "id": "599dcb2d-3a22-468e-ac55-f09351ff587b",
   "metadata": {},
   "source": [
    "Now we will work on the same task using a more complex and parallel model.\n",
    "\n",
    "![./parallel_circuit.png](parallel_circuit.png)"
   ]
  },
  {
   "cell_type": "code",
   "execution_count": null,
   "id": "cd763311-ef44-475d-bc86-51f326f0b1dd",
   "metadata": {},
   "outputs": [],
   "source": [
    "n_ansatz_layers = 2\n",
    "n_qubits = 3\n",
    "\n",
    "def data_encoding_layer(x):\n",
    "    # TODO: apply an RX gate on each qubit\n",
    "\n",
    "def trainable_layer(theta):\n",
    "    # TODO: apply pennylane's strongly entangling layer\n",
    "\n",
    "# TODO: Instantiate the qiskit default device\n",
    "dev = None\n",
    "@qml.qnode(dev)\n",
    "def parallel_quantum_model(weights, x):\n",
    "\n",
    "    trainable_layer(weights[0])\n",
    "    data_encoding_layer(x)\n",
    "    trainable_layer(weights[1])\n",
    "\n",
    "    # TODO: measure the expectation value of the \n",
    "    # Z measurement of the first qubit\n",
    "    pass "
   ]
  },
  {
   "cell_type": "code",
   "execution_count": null,
   "id": "304ce07f-208d-43e5-a888-212eb5424036",
   "metadata": {},
   "outputs": [],
   "source": [
    "trainable_block_layers = 2\n",
    "weights = 2 * np.pi * np.random.random(size=(2, trainable_block_layers, n_qubits, 3), requires_grad=True)\n",
    "\n",
    "x = np.linspace(-5, 5, 50, requires_grad=False)\n",
    "random_quantum_model_y = [parallel_quantum_model(weights, x_) for x_ in x]\n",
    "\n",
    "# We can plot to see how the function currently looks like\n",
    "plt.plot(x, random_quantum_model_y, c='blue')\n",
    "plt.ylim(-1,1)\n",
    "plt.show();"
   ]
  },
  {
   "cell_type": "code",
   "execution_count": null,
   "id": "a2e32742-3db3-4a40-8e7e-05dd2d92527b",
   "metadata": {},
   "outputs": [],
   "source": [
    "# We need to reach the same target function as before\n",
    "def cost(weights, x, y):\n",
    "    predictions = [parallel_quantum_model(weights, x_) for x_ in x]\n",
    "    return square_loss(y, predictions)\n",
    "\n",
    "max_steps = 50\n",
    "opt = qml.AdamOptimizer(0.3)\n",
    "batch_size = 20\n",
    "cst = [cost(weights, x, target_y)]  # initial cost\n",
    "\n",
    "for step in range(max_steps):\n",
    "\n",
    "    # select batch of data\n",
    "    batch_index = np.random.randint(0, len(x), (batch_size,))\n",
    "    x_batch = x[batch_index]\n",
    "    y_batch = target_y[batch_index]\n",
    "\n",
    "    # update the weights by one optimizer step\n",
    "    weights, _, _ = opt.step(cost, weights, x_batch, y_batch)\n",
    "\n",
    "    # save, and possibly print, the current cost\n",
    "    c = cost(weights, x, target_y)\n",
    "    cst.append(c)\n",
    "    if (step + 1) % 10 == 0:\n",
    "        print(\"Cost at step {0:3}: {1}\".format(step + 1, c))\n",
    "\n",
    "predictions = [parallel_quantum_model(weights, x_) for x_ in x]\n",
    "\n",
    "plt.plot(x, target_y, c='black')\n",
    "plt.scatter(x, target_y, facecolor='white', edgecolor='black')\n",
    "plt.plot(x, predictions, c='blue')\n",
    "plt.ylim(-1,1)\n",
    "plt.show()"
   ]
  },
  {
   "cell_type": "code",
   "execution_count": null,
   "id": "a9544911-076f-4658-a213-76dbe53a196f",
   "metadata": {},
   "outputs": [],
   "source": [
    "plt.plot(range(len(cst)), cst)\n",
    "plt.ylabel(\"Cost\")\n",
    "plt.xlabel(\"Step\")\n",
    "plt.show()"
   ]
  },
  {
   "cell_type": "markdown",
   "id": "18a7620d-86b6-4e68-9c06-582fa0ca703e",
   "metadata": {},
   "source": [
    "Tutorial based on:\n",
    "\n",
    "[1] \"The effect of data encoding on the expressive power of variational quantum machine learning models\" by Schuld, Sweke, and Meyer https://arxiv.org/abs/2008.08605\n",
    "\n"
   ]
  }
 ],
 "metadata": {
  "kernelspec": {
   "display_name": "Python 3 (ipykernel)",
   "language": "python",
   "name": "python3"
  },
  "language_info": {
   "codemirror_mode": {
    "name": "ipython",
    "version": 3
   },
   "file_extension": ".py",
   "mimetype": "text/x-python",
   "name": "python",
   "nbconvert_exporter": "python",
   "pygments_lexer": "ipython3",
   "version": "3.9.13"
  },
  "widgets": {
   "application/vnd.jupyter.widget-state+json": {
    "state": {
     "11ef15d7291a4ccf9657880a3655b142": {
      "model_module": "jupyter-matplotlib",
      "model_module_version": "^0.8.3",
      "model_name": "ToolbarModel",
      "state": {
       "layout": "IPY_MODEL_f1b36d8c72524093a003953277088e8e",
       "toolitems": [
        [
         "Home",
         "Reset original view",
         "home",
         "home"
        ],
        [
         "Back",
         "Back to previous view",
         "arrow-left",
         "back"
        ],
        [
         "Forward",
         "Forward to next view",
         "arrow-right",
         "forward"
        ],
        [
         "Pan",
         "Left button pans, Right button zooms\nx/y fixes axis, CTRL fixes aspect",
         "arrows",
         "pan"
        ],
        [
         "Zoom",
         "Zoom to rectangle\nx/y fixes axis",
         "square-o",
         "zoom"
        ],
        [
         "Download",
         "Download plot",
         "floppy-o",
         "save_figure"
        ]
       ]
      }
     },
     "3e9451e0487942fb97eb7615f62eaf37": {
      "model_module": "@jupyter-widgets/base",
      "model_module_version": "1.2.0",
      "model_name": "LayoutModel",
      "state": {}
     },
     "59d0d5a6513a42b0aa81fc4fee0362de": {
      "model_module": "jupyter-matplotlib",
      "model_module_version": "^0.8.3",
      "model_name": "ToolbarModel",
      "state": {
       "layout": "IPY_MODEL_f125423266844a82828075efef8f9cb6",
       "toolitems": [
        [
         "Home",
         "Reset original view",
         "home",
         "home"
        ],
        [
         "Back",
         "Back to previous view",
         "arrow-left",
         "back"
        ],
        [
         "Forward",
         "Forward to next view",
         "arrow-right",
         "forward"
        ],
        [
         "Pan",
         "Left button pans, Right button zooms\nx/y fixes axis, CTRL fixes aspect",
         "arrows",
         "pan"
        ],
        [
         "Zoom",
         "Zoom to rectangle\nx/y fixes axis",
         "square-o",
         "zoom"
        ],
        [
         "Download",
         "Download plot",
         "floppy-o",
         "save_figure"
        ]
       ]
      }
     },
     "de17c7bb06db482dadc40828ef6e05dc": {
      "model_module": "@jupyter-widgets/base",
      "model_module_version": "1.2.0",
      "model_name": "LayoutModel",
      "state": {}
     },
     "f125423266844a82828075efef8f9cb6": {
      "model_module": "@jupyter-widgets/base",
      "model_module_version": "1.2.0",
      "model_name": "LayoutModel",
      "state": {}
     },
     "f1b36d8c72524093a003953277088e8e": {
      "model_module": "@jupyter-widgets/base",
      "model_module_version": "1.2.0",
      "model_name": "LayoutModel",
      "state": {}
     }
    },
    "version_major": 2,
    "version_minor": 0
   }
  }
 },
 "nbformat": 4,
 "nbformat_minor": 5
}
