{
 "cells": [
  {
   "cell_type": "code",
   "execution_count": 1,
   "id": "e6024113-70ad-409a-8956-6859d9c5f1aa",
   "metadata": {},
   "outputs": [
    {
     "name": "stdout",
     "output_type": "stream",
     "text": [
      "Collecting pennylane\n",
      "  Using cached PennyLane-0.28.0-py3-none-any.whl (1.3 MB)\n",
      "Collecting autoray>=0.3.1\n",
      "  Downloading autoray-0.6.0-py3-none-any.whl (46 kB)\n",
      "\u001b[K     |████████████████████████████████| 46 kB 79 kB/s s eta 0:00:01\n",
      "\u001b[?25hCollecting toml\n",
      "  Using cached toml-0.10.2-py2.py3-none-any.whl (16 kB)\n",
      "Requirement already satisfied: retworkx in /opt/conda/lib/python3.8/site-packages (from pennylane) (0.11.0)\n",
      "Requirement already satisfied: appdirs in /opt/conda/lib/python3.8/site-packages (from pennylane) (1.4.4)\n",
      "Collecting cachetools\n",
      "  Downloading cachetools-5.3.0-py3-none-any.whl (9.3 kB)\n",
      "Requirement already satisfied: requests in /opt/conda/lib/python3.8/site-packages (from pennylane) (2.27.1)\n",
      "Collecting semantic-version>=2.7\n",
      "  Using cached semantic_version-2.10.0-py2.py3-none-any.whl (15 kB)\n",
      "Requirement already satisfied: scipy in /opt/conda/lib/python3.8/site-packages (from pennylane) (1.8.0)\n",
      "Collecting pennylane-lightning>=0.28\n",
      "  Using cached PennyLane_Lightning-0.28.1-cp38-cp38-manylinux_2_17_x86_64.manylinux2014_x86_64.whl (15.3 MB)\n",
      "Collecting autograd\n",
      "  Using cached autograd-1.5-py3-none-any.whl (48 kB)\n",
      "Requirement already satisfied: networkx in /opt/conda/lib/python3.8/site-packages (from pennylane) (2.7.1)\n",
      "Requirement already satisfied: numpy<1.24 in /opt/conda/lib/python3.8/site-packages (from pennylane) (1.22.4)\n",
      "Collecting ninja\n",
      "  Using cached ninja-1.11.1-py2.py3-none-manylinux_2_12_x86_64.manylinux2010_x86_64.whl (145 kB)\n",
      "Requirement already satisfied: future>=0.15.2 in /opt/conda/lib/python3.8/site-packages (from autograd->pennylane) (0.18.2)\n",
      "Requirement already satisfied: idna<4,>=2.5 in /opt/conda/lib/python3.8/site-packages (from requests->pennylane) (3.3)\n",
      "Requirement already satisfied: certifi>=2017.4.17 in /opt/conda/lib/python3.8/site-packages (from requests->pennylane) (2021.10.8)\n",
      "Requirement already satisfied: charset-normalizer~=2.0.0 in /opt/conda/lib/python3.8/site-packages (from requests->pennylane) (2.0.12)\n",
      "Requirement already satisfied: urllib3<1.27,>=1.21.1 in /opt/conda/lib/python3.8/site-packages (from requests->pennylane) (1.26.9)\n",
      "Installing collected packages: ninja, toml, semantic-version, pennylane-lightning, cachetools, autoray, autograd, pennylane\n",
      "Successfully installed autograd-1.5 autoray-0.6.0 cachetools-5.3.0 ninja-1.11.1 pennylane-0.28.0 pennylane-lightning-0.28.1 semantic-version-2.10.0 toml-0.10.2\n",
      "Collecting noisyopt\n",
      "  Using cached noisyopt-0.2.2-py2.py3-none-any.whl (13 kB)\n",
      "Requirement already satisfied: numpy in /opt/conda/lib/python3.8/site-packages (from noisyopt) (1.22.4)\n",
      "Requirement already satisfied: scipy in /opt/conda/lib/python3.8/site-packages (from noisyopt) (1.8.0)\n",
      "Installing collected packages: noisyopt\n",
      "Successfully installed noisyopt-0.2.2\n",
      "Requirement already satisfied: ipympl in /opt/conda/lib/python3.8/site-packages (0.6.3)\n",
      "Requirement already satisfied: ipywidgets>=7.6.0 in /opt/conda/lib/python3.8/site-packages (from ipympl) (7.7.0)\n",
      "Requirement already satisfied: matplotlib>=2.0.0 in /opt/conda/lib/python3.8/site-packages (from ipympl) (3.5.1)\n",
      "Requirement already satisfied: ipykernel>=4.7 in /opt/conda/lib/python3.8/site-packages (from ipympl) (6.13.0)\n",
      "Requirement already satisfied: traitlets>=5.1.0 in /opt/conda/lib/python3.8/site-packages (from ipykernel>=4.7->ipympl) (5.1.1)\n",
      "Requirement already satisfied: ipython>=7.23.1 in /opt/conda/lib/python3.8/site-packages (from ipykernel>=4.7->ipympl) (8.2.0)\n",
      "Requirement already satisfied: tornado>=6.1 in /opt/conda/lib/python3.8/site-packages (from ipykernel>=4.7->ipympl) (6.1)\n",
      "Requirement already satisfied: matplotlib-inline>=0.1 in /opt/conda/lib/python3.8/site-packages (from ipykernel>=4.7->ipympl) (0.1.3)\n",
      "Requirement already satisfied: jupyter-client>=6.1.12 in /opt/conda/lib/python3.8/site-packages (from ipykernel>=4.7->ipympl) (7.3.4)\n",
      "Requirement already satisfied: psutil in /opt/conda/lib/python3.8/site-packages (from ipykernel>=4.7->ipympl) (5.9.0)\n",
      "Requirement already satisfied: debugpy>=1.0 in /opt/conda/lib/python3.8/site-packages (from ipykernel>=4.7->ipympl) (1.6.0)\n",
      "Requirement already satisfied: packaging in /opt/conda/lib/python3.8/site-packages (from ipykernel>=4.7->ipympl) (21.3)\n",
      "Requirement already satisfied: nest-asyncio in /opt/conda/lib/python3.8/site-packages (from ipykernel>=4.7->ipympl) (1.5.4)\n",
      "Requirement already satisfied: setuptools>=18.5 in /opt/conda/lib/python3.8/site-packages (from ipython>=7.23.1->ipykernel>=4.7->ipympl) (61.2.0)\n",
      "Requirement already satisfied: stack-data in /opt/conda/lib/python3.8/site-packages (from ipython>=7.23.1->ipykernel>=4.7->ipympl) (0.2.0)\n",
      "Requirement already satisfied: backcall in /opt/conda/lib/python3.8/site-packages (from ipython>=7.23.1->ipykernel>=4.7->ipympl) (0.2.0)\n",
      "Requirement already satisfied: jedi>=0.16 in /opt/conda/lib/python3.8/site-packages (from ipython>=7.23.1->ipykernel>=4.7->ipympl) (0.18.1)\n",
      "Requirement already satisfied: pexpect>4.3 in /opt/conda/lib/python3.8/site-packages (from ipython>=7.23.1->ipykernel>=4.7->ipympl) (4.8.0)\n",
      "Requirement already satisfied: pickleshare in /opt/conda/lib/python3.8/site-packages (from ipython>=7.23.1->ipykernel>=4.7->ipympl) (0.7.5)\n",
      "Requirement already satisfied: prompt-toolkit!=3.0.0,!=3.0.1,<3.1.0,>=2.0.0 in /opt/conda/lib/python3.8/site-packages (from ipython>=7.23.1->ipykernel>=4.7->ipympl) (3.0.28)\n",
      "Requirement already satisfied: pygments>=2.4.0 in /opt/conda/lib/python3.8/site-packages (from ipython>=7.23.1->ipykernel>=4.7->ipympl) (2.11.2)\n",
      "Requirement already satisfied: decorator in /opt/conda/lib/python3.8/site-packages (from ipython>=7.23.1->ipykernel>=4.7->ipympl) (5.1.1)\n",
      "Requirement already satisfied: widgetsnbextension~=3.6.0 in /opt/conda/lib/python3.8/site-packages (from ipywidgets>=7.6.0->ipympl) (3.6.0)\n",
      "Requirement already satisfied: jupyterlab-widgets>=1.0.0 in /opt/conda/lib/python3.8/site-packages (from ipywidgets>=7.6.0->ipympl) (1.1.0)\n",
      "Requirement already satisfied: ipython-genutils~=0.2.0 in /opt/conda/lib/python3.8/site-packages (from ipywidgets>=7.6.0->ipympl) (0.2.0)\n",
      "Requirement already satisfied: nbformat>=4.2.0 in /opt/conda/lib/python3.8/site-packages (from ipywidgets>=7.6.0->ipympl) (5.2.0)\n",
      "Requirement already satisfied: parso<0.9.0,>=0.8.0 in /opt/conda/lib/python3.8/site-packages (from jedi>=0.16->ipython>=7.23.1->ipykernel>=4.7->ipympl) (0.8.3)\n",
      "Requirement already satisfied: pyzmq>=23.0 in /opt/conda/lib/python3.8/site-packages (from jupyter-client>=6.1.12->ipykernel>=4.7->ipympl) (23.2.0)\n",
      "Requirement already satisfied: entrypoints in /opt/conda/lib/python3.8/site-packages (from jupyter-client>=6.1.12->ipykernel>=4.7->ipympl) (0.4)\n",
      "Requirement already satisfied: jupyter-core>=4.9.2 in /opt/conda/lib/python3.8/site-packages (from jupyter-client>=6.1.12->ipykernel>=4.7->ipympl) (4.9.2)\n",
      "Requirement already satisfied: python-dateutil>=2.8.2 in /opt/conda/lib/python3.8/site-packages (from jupyter-client>=6.1.12->ipykernel>=4.7->ipympl) (2.8.2)\n",
      "Requirement already satisfied: cycler>=0.10 in /opt/conda/lib/python3.8/site-packages (from matplotlib>=2.0.0->ipympl) (0.11.0)\n",
      "Requirement already satisfied: fonttools>=4.22.0 in /opt/conda/lib/python3.8/site-packages (from matplotlib>=2.0.0->ipympl) (4.31.2)\n",
      "Requirement already satisfied: pillow>=6.2.0 in /opt/conda/lib/python3.8/site-packages (from matplotlib>=2.0.0->ipympl) (9.0.1)\n",
      "Requirement already satisfied: numpy>=1.17 in /opt/conda/lib/python3.8/site-packages (from matplotlib>=2.0.0->ipympl) (1.22.4)\n",
      "Requirement already satisfied: kiwisolver>=1.0.1 in /opt/conda/lib/python3.8/site-packages (from matplotlib>=2.0.0->ipympl) (1.4.2)\n",
      "Requirement already satisfied: pyparsing>=2.2.1 in /opt/conda/lib/python3.8/site-packages (from matplotlib>=2.0.0->ipympl) (3.0.7)\n",
      "Requirement already satisfied: jsonschema!=2.5.0,>=2.4 in /opt/conda/lib/python3.8/site-packages (from nbformat>=4.2.0->ipywidgets>=7.6.0->ipympl) (4.4.0)\n",
      "Requirement already satisfied: pyrsistent!=0.17.0,!=0.17.1,!=0.17.2,>=0.14.0 in /opt/conda/lib/python3.8/site-packages (from jsonschema!=2.5.0,>=2.4->nbformat>=4.2.0->ipywidgets>=7.6.0->ipympl) (0.18.1)\n",
      "Requirement already satisfied: importlib-resources>=1.4.0 in /opt/conda/lib/python3.8/site-packages (from jsonschema!=2.5.0,>=2.4->nbformat>=4.2.0->ipywidgets>=7.6.0->ipympl) (5.6.0)\n",
      "Requirement already satisfied: attrs>=17.4.0 in /opt/conda/lib/python3.8/site-packages (from jsonschema!=2.5.0,>=2.4->nbformat>=4.2.0->ipywidgets>=7.6.0->ipympl) (21.4.0)\n",
      "Requirement already satisfied: zipp>=3.1.0 in /opt/conda/lib/python3.8/site-packages (from importlib-resources>=1.4.0->jsonschema!=2.5.0,>=2.4->nbformat>=4.2.0->ipywidgets>=7.6.0->ipympl) (3.7.0)\n",
      "Requirement already satisfied: ptyprocess>=0.5 in /opt/conda/lib/python3.8/site-packages (from pexpect>4.3->ipython>=7.23.1->ipykernel>=4.7->ipympl) (0.7.0)\n",
      "Requirement already satisfied: wcwidth in /opt/conda/lib/python3.8/site-packages (from prompt-toolkit!=3.0.0,!=3.0.1,<3.1.0,>=2.0.0->ipython>=7.23.1->ipykernel>=4.7->ipympl) (0.2.5)\n",
      "Requirement already satisfied: six>=1.5 in /opt/conda/lib/python3.8/site-packages (from python-dateutil>=2.8.2->jupyter-client>=6.1.12->ipykernel>=4.7->ipympl) (1.16.0)\n",
      "Requirement already satisfied: notebook>=4.4.1 in /opt/conda/lib/python3.8/site-packages (from widgetsnbextension~=3.6.0->ipywidgets>=7.6.0->ipympl) (6.4.12)\n",
      "Requirement already satisfied: jinja2 in /opt/conda/lib/python3.8/site-packages (from notebook>=4.4.1->widgetsnbextension~=3.6.0->ipywidgets>=7.6.0->ipympl) (3.1.2)\n",
      "Requirement already satisfied: terminado>=0.8.3 in /opt/conda/lib/python3.8/site-packages (from notebook>=4.4.1->widgetsnbextension~=3.6.0->ipywidgets>=7.6.0->ipympl) (0.13.3)\n",
      "Requirement already satisfied: argon2-cffi in /opt/conda/lib/python3.8/site-packages (from notebook>=4.4.1->widgetsnbextension~=3.6.0->ipywidgets>=7.6.0->ipympl) (21.3.0)\n",
      "Requirement already satisfied: nbconvert>=5 in /opt/conda/lib/python3.8/site-packages (from notebook>=4.4.1->widgetsnbextension~=3.6.0->ipywidgets>=7.6.0->ipympl) (6.5.0)\n",
      "Requirement already satisfied: Send2Trash>=1.8.0 in /opt/conda/lib/python3.8/site-packages (from notebook>=4.4.1->widgetsnbextension~=3.6.0->ipywidgets>=7.6.0->ipympl) (1.8.0)\n",
      "Requirement already satisfied: prometheus-client in /opt/conda/lib/python3.8/site-packages (from notebook>=4.4.1->widgetsnbextension~=3.6.0->ipywidgets>=7.6.0->ipympl) (0.13.1)\n",
      "Requirement already satisfied: MarkupSafe>=2.0 in /opt/conda/lib/python3.8/site-packages (from nbconvert>=5->notebook>=4.4.1->widgetsnbextension~=3.6.0->ipywidgets>=7.6.0->ipympl) (2.1.1)\n",
      "Requirement already satisfied: nbclient>=0.5.0 in /opt/conda/lib/python3.8/site-packages (from nbconvert>=5->notebook>=4.4.1->widgetsnbextension~=3.6.0->ipywidgets>=7.6.0->ipympl) (0.5.13)\n",
      "Requirement already satisfied: beautifulsoup4 in /opt/conda/lib/python3.8/site-packages (from nbconvert>=5->notebook>=4.4.1->widgetsnbextension~=3.6.0->ipywidgets>=7.6.0->ipympl) (4.9.3)\n",
      "Requirement already satisfied: mistune<2,>=0.8.1 in /opt/conda/lib/python3.8/site-packages (from nbconvert>=5->notebook>=4.4.1->widgetsnbextension~=3.6.0->ipywidgets>=7.6.0->ipympl) (0.8.4)\n",
      "Requirement already satisfied: jupyterlab-pygments in /opt/conda/lib/python3.8/site-packages (from nbconvert>=5->notebook>=4.4.1->widgetsnbextension~=3.6.0->ipywidgets>=7.6.0->ipympl) (0.2.2)\n",
      "Requirement already satisfied: defusedxml in /opt/conda/lib/python3.8/site-packages (from nbconvert>=5->notebook>=4.4.1->widgetsnbextension~=3.6.0->ipywidgets>=7.6.0->ipympl) (0.7.1)\n",
      "Requirement already satisfied: tinycss2 in /opt/conda/lib/python3.8/site-packages (from nbconvert>=5->notebook>=4.4.1->widgetsnbextension~=3.6.0->ipywidgets>=7.6.0->ipympl) (1.1.1)\n",
      "Requirement already satisfied: bleach in /opt/conda/lib/python3.8/site-packages (from nbconvert>=5->notebook>=4.4.1->widgetsnbextension~=3.6.0->ipywidgets>=7.6.0->ipympl) (4.1.0)\n",
      "Requirement already satisfied: pandocfilters>=1.4.1 in /opt/conda/lib/python3.8/site-packages (from nbconvert>=5->notebook>=4.4.1->widgetsnbextension~=3.6.0->ipywidgets>=7.6.0->ipympl) (1.5.0)\n",
      "Requirement already satisfied: argon2-cffi-bindings in /opt/conda/lib/python3.8/site-packages (from argon2-cffi->notebook>=4.4.1->widgetsnbextension~=3.6.0->ipywidgets>=7.6.0->ipympl) (21.2.0)\n",
      "Requirement already satisfied: cffi>=1.0.1 in /opt/conda/lib/python3.8/site-packages (from argon2-cffi-bindings->argon2-cffi->notebook>=4.4.1->widgetsnbextension~=3.6.0->ipywidgets>=7.6.0->ipympl) (1.15.0)\n",
      "Requirement already satisfied: pycparser in /opt/conda/lib/python3.8/site-packages (from cffi>=1.0.1->argon2-cffi-bindings->argon2-cffi->notebook>=4.4.1->widgetsnbextension~=3.6.0->ipywidgets>=7.6.0->ipympl) (2.21)\n",
      "Requirement already satisfied: soupsieve>1.2 in /opt/conda/lib/python3.8/site-packages (from beautifulsoup4->nbconvert>=5->notebook>=4.4.1->widgetsnbextension~=3.6.0->ipywidgets>=7.6.0->ipympl) (2.3.1)\n",
      "Requirement already satisfied: webencodings in /opt/conda/lib/python3.8/site-packages (from bleach->nbconvert>=5->notebook>=4.4.1->widgetsnbextension~=3.6.0->ipywidgets>=7.6.0->ipympl) (0.5.1)\n",
      "Requirement already satisfied: asttokens in /opt/conda/lib/python3.8/site-packages (from stack-data->ipython>=7.23.1->ipykernel>=4.7->ipympl) (2.0.5)\n",
      "Requirement already satisfied: pure-eval in /opt/conda/lib/python3.8/site-packages (from stack-data->ipython>=7.23.1->ipykernel>=4.7->ipympl) (0.2.2)\n",
      "Requirement already satisfied: executing in /opt/conda/lib/python3.8/site-packages (from stack-data->ipython>=7.23.1->ipykernel>=4.7->ipympl) (0.8.3)\n"
     ]
    }
   ],
   "source": [
    "!pip install pennylane\n",
    "!pip install noisyopt\n",
    "!pip install ipympl"
   ]
  },
  {
   "cell_type": "code",
   "execution_count": 2,
   "id": "93f84f49-2cd1-4a64-8ffd-f695c7f15964",
   "metadata": {},
   "outputs": [
    {
     "name": "stderr",
     "output_type": "stream",
     "text": [
      "<frozen importlib._bootstrap>:219: RuntimeWarning: scipy._lib.messagestream.MessageStream size changed, may indicate binary incompatibility. Expected 56 from C header, got 64 from PyObject\n"
     ]
    }
   ],
   "source": [
    "import numpy as np\n",
    "\n",
    "# Importing standard Qiskit libraries\n",
    "from qiskit import QuantumCircuit, transpile, Aer, IBMQ\n",
    "from qiskit.tools.jupyter import *\n",
    "from qiskit.visualization import *\n",
    "from ibm_quantum_widgets import *\n",
    "from qiskit.providers.aer import QasmSimulator\n",
    "\n",
    "from pennylane import qchem\n",
    "import pennylane as qml\n",
    "from pennylane import numpy as np\n",
    "import matplotlib.pyplot as plt\n",
    "from noisyopt import minimizeSPSA\n",
    "import time\n",
    "\n",
    "# Loading your IBM Quantum account(s)\n",
    "provider = IBMQ.load_account()"
   ]
  },
  {
   "cell_type": "code",
   "execution_count": 4,
   "id": "0139bd42-ce2f-4a39-a80e-137df0272d29",
   "metadata": {},
   "outputs": [
    {
     "name": "stdout",
     "output_type": "stream",
     "text": [
      "Traceback \u001b[1;36m(most recent call last)\u001b[0m:\n",
      "\u001b[1;36m  Input \u001b[1;32mIn [4]\u001b[1;36m in \u001b[1;35m<cell line: 86>\u001b[1;36m\u001b[0m\n",
      "\u001b[1;33m    res = minimizeSPSA()\u001b[0m\n",
      "\u001b[1;31mTypeError\u001b[0m\u001b[1;31m:\u001b[0m minimizeSPSA() missing 2 required positional arguments: 'func' and 'x0'\n",
      "\n",
      "Use %tb to get the full traceback.\n"
     ]
    },
    {
     "data": {
      "text/html": [
       "\n",
       "<style>\n",
       ".button {\n",
       "  border: none;\n",
       "  color: white;\n",
       "  padding: 4px 8px;\n",
       "  text-align: center;\n",
       "  text-decoration: none;\n",
       "  display: inline-block;\n",
       "  font-size: 12px;\n",
       "  margin: 4px 2px;\n",
       "  transition-duration: 0.2s;\n",
       "  cursor: pointer;\n",
       "}\n",
       ".iqx-button {\n",
       "  background-color: #0f62fe; \n",
       "  color: white; \n",
       "}\n",
       ".iqx-button:hover {\n",
       "  background-color: #0043ce;\n",
       "  color: white;\n",
       "}\n",
       "</style>\n",
       "<a href=\"https://stackoverflow.com/search?q=TypeError: minimizeSPSA() missing 2 required positional arguments: 'func' and 'x0'\" target='_blank'><button class='button iqx-button'>Search for solution online</button></a>\n"
      ],
      "text/plain": [
       "<IPython.core.display.HTML object>"
      ]
     },
     "metadata": {},
     "output_type": "display_data"
    }
   ],
   "source": [
    "# The number of iterations of the optimizer\n",
    "niter_spsa = 200\n",
    "\n",
    "# The true energy of the H2 molecule\n",
    "true_energy = -1.136189454088\n",
    "\n",
    "# Seed number, for reproducibility of random initialization\n",
    "seednum=0\n",
    "\n",
    "# Optimizer hyperparameters\n",
    "# TODO : search the documentation of minimizeSPSA to see\n",
    "# what they mean and are used for.\n",
    "c_value=0.3\n",
    "a_value=1.5\n",
    "\n",
    "# Setup the data of the molecule to optimize for\n",
    "symbols = [\"H\", \"H\"]\n",
    "coordinates = np.array([0.0, 0.0, -0.6614, 0.0, 0.0, 0.6614])\n",
    "\n",
    "# TODO: You need a function from quantum chemistry (qchem) that,\n",
    "# using the symbols and chemistry coordinates of the H2 molecule,\n",
    "# gives you the corresponding hamiltonian\n",
    "h2_ham, num_qubits = qchem.molecular_hamiltonian(symbols, coordinates)\n",
    "\n",
    "# Variational ansatz for H2 \n",
    "def circuit(params, wires): \n",
    "    qml.BasisState(np.array([1, 1, 0, 0]), wires=wires)\n",
    "    for i in wires:\n",
    "        qml.Rot(*params[i], wires=i)\n",
    "        \n",
    "    # TODO: add 3 controlled-NOT gates for entanglement, \n",
    "    # where the control - target pairs are [(2, 3), (2, 0), (3, 1)]\n",
    "    qml.CNOT(wires=[2, 3])\n",
    "    qml.CNOT(wires=[2, 0])\n",
    "    qml.CNOT(wires=[3, 1])\n",
    "\n",
    "num_params=3 \n",
    "\n",
    "# TODO : find the name of the pennylane qubit device (the default one)\n",
    "devicename= \"default.qubit\"\n",
    "\n",
    "# TODO: how do you instantiate a quantum device on pennylane?\n",
    "# You should find a function that uses the devicename and number of \n",
    "# qubits, also known as wires\n",
    "dev = qml.device(devicename, wires=num_qubits)\n",
    "\n",
    "def exp_val_circuit(params):\n",
    "    circuit(params, range(dev.num_wires))\n",
    "    # TODO: measure and return the expectation value of the circuit\n",
    "    # with respect to the Hamiltonian of the H2 circuit measured above\n",
    "    return qml.expval(h2_ham)\n",
    "\n",
    "# Pennylane uses Quantum Nodes (Qnodes)\n",
    "# TODO: create a QNode corresponding to the\n",
    "# last circuit defined above and that acts on the device we created\n",
    "cost_spsa = qml.QNode(exp_val_circuit, dev)\n",
    "\n",
    "# Wrapping the cost function and flattening the parameters to be compatible with noisyopt which assumes a flat array of input parameters\n",
    "def wrapped_cost(params):  \n",
    "    return cost_spsa(params.reshape(num_qubits, num_params))\n",
    "\n",
    "\n",
    "## Here we define the callback function that is used by the SPSA optimizer\n",
    "def callback_fn(xk):\n",
    "    cost_val = wrapped_cost(xk)\n",
    "    h2_spsa_energies.append(cost_val)\n",
    "    \n",
    "    # We have evaluated every term twice, so we need to make up for this\n",
    "    num_executions = int(dev.num_executions / 2) \n",
    "    h2_spsa_device_executions.append(num_executions)\n",
    "    h2_spsa_params.append(xk)\n",
    "\n",
    "results=[]\n",
    "\n",
    "## Set initial rotation parameters\n",
    "np.random.seed(seednum)\n",
    "init_params = np.random.normal(0, np.pi, (num_qubits, 3), requires_grad=True)\n",
    "initial_name='random seed '+str(seednum)\n",
    "params = init_params.copy().reshape(num_qubits * num_params) #flatten\n",
    "\n",
    "h2_spsa_device_executions = [0]\n",
    "h2_spsa_energies = [wrapped_cost(params)]\n",
    "h2_spsa_params = []\n",
    "\n",
    "## TO DO : add the parameters to the minimizeSPSA function\n",
    "res = minimizeSPSA(wrapped_cost,\n",
    "        x0=params,\n",
    "        niter=niter_spsa,\n",
    "        paired=False,\n",
    "        c=c_value,\n",
    "        a=a_value,\n",
    "        disp=True,\n",
    "        callback=callback_fn)\n",
    "\n",
    "print(\"Result:\", res)\n",
    "results.append(h2_spsa_device_executions)\n",
    "results.append(h2_spsa_energies)\n",
    "results.append(h2_spsa_params)\n",
    "print()\n",
    "print(f\"Final estimated value of the ground-state energy = {h2_spsa_energies [-1]:.8f} Ha\")\n",
    "print(\n",
    "   f\"Accuracy with respect to the true energy: {np.abs(h2_spsa_energies [-1] - true_energy):.8f} Ha\"\n",
    ")"
   ]
  },
  {
   "cell_type": "code",
   "execution_count": null,
   "id": "b355a00d-d7a4-48ed-bc85-feb56d1afbf0",
   "metadata": {},
   "outputs": [],
   "source": [
    "## Energy vs. iteration plot\n",
    "%matplotlib ipympl \n",
    "plt.figure(figsize=(10, 6))\n",
    "plt.plot(range(niter_spsa + 1), results[1], label = \"Energy level of the current VQE using SPSA\")\n",
    "plt.title(\"H2 energy from the VQE using SPSA using \"+ devicename, fontsize=16)\n",
    "plt.xlabel(\"Number of optimization iterations\", fontsize=14)\n",
    "plt.ylabel(\"Energy (Ha)\", fontsize=14)\n",
    "plt.grid()\n",
    "plt.hlines(true_energy, 0, niter_spsa+2, label=\"True energy level of H2\", color = \"red\")\n",
    "plt.legend(fontsize=14)\n",
    "plt.show()"
   ]
  }
 ],
 "metadata": {
  "kernelspec": {
   "display_name": "Python 3 (ipykernel)",
   "language": "python",
   "name": "python3"
  },
  "language_info": {
   "codemirror_mode": {
    "name": "ipython",
    "version": 3
   },
   "file_extension": ".py",
   "mimetype": "text/x-python",
   "name": "python",
   "nbconvert_exporter": "python",
   "pygments_lexer": "ipython3",
   "version": "3.8.13"
  },
  "widgets": {
   "application/vnd.jupyter.widget-state+json": {
    "state": {
     "0201f82468b440df93ae18861d2d33a0": {
      "model_module": "@jupyter-widgets/controls",
      "model_module_version": "1.5.0",
      "model_name": "DescriptionStyleModel",
      "state": {
       "description_width": ""
      }
     },
     "09a85a5b889c4fe8a74fe640cbe27491": {
      "model_module": "@jupyter-widgets/controls",
      "model_module_version": "1.5.0",
      "model_name": "HTMLModel",
      "state": {
       "layout": "IPY_MODEL_22048d430d974fafae6f2ce63763320b",
       "style": "IPY_MODEL_7265168f506f45b18e116b2120481ceb",
       "value": "<h5>Queue</h5>"
      }
     },
     "0bb1761d62794340b704ea3158c51741": {
      "model_module": "@jupyter-widgets/controls",
      "model_module_version": "1.5.0",
      "model_name": "HTMLModel",
      "state": {
       "layout": "IPY_MODEL_328cde52a1c5402884cf0fa1afcb922c",
       "style": "IPY_MODEL_3bbd357138334034b3bd888fa3ea026f",
       "value": "<h5>Message</h5>"
      }
     },
     "15401dd11d6b4ecc973caec72474554d": {
      "model_module": "@jupyter-widgets/base",
      "model_module_version": "1.2.0",
      "model_name": "LayoutModel",
      "state": {
       "margin": "0px 0px 0px 37px",
       "width": "600px"
      }
     },
     "1e124600c58f4dd19c6d02cbddc302ce": {
      "model_module": "@jupyter-widgets/base",
      "model_module_version": "1.2.0",
      "model_name": "LayoutModel",
      "state": {
       "margin": "0px 0px 10px 0px"
      }
     },
     "22048d430d974fafae6f2ce63763320b": {
      "model_module": "@jupyter-widgets/base",
      "model_module_version": "1.2.0",
      "model_name": "LayoutModel",
      "state": {
       "width": "70px"
      }
     },
     "28b8ac87b5414543a1e49fbff336522d": {
      "model_module": "@jupyter-widgets/controls",
      "model_module_version": "1.5.0",
      "model_name": "HBoxModel",
      "state": {
       "children": [
        "IPY_MODEL_cd8ad31efd4049fda0167093ac468524",
        "IPY_MODEL_67a712bc78c5432f9ddc4550a538d382",
        "IPY_MODEL_adc717e5a7ed4b62a16fbc20c0bdb1b0",
        "IPY_MODEL_09a85a5b889c4fe8a74fe640cbe27491",
        "IPY_MODEL_0bb1761d62794340b704ea3158c51741"
       ],
       "layout": "IPY_MODEL_15401dd11d6b4ecc973caec72474554d"
      }
     },
     "328cde52a1c5402884cf0fa1afcb922c": {
      "model_module": "@jupyter-widgets/base",
      "model_module_version": "1.2.0",
      "model_name": "LayoutModel",
      "state": {}
     },
     "32f3d77799704b74b2ee3046040e55a5": {
      "model_module": "@jupyter-widgets/base",
      "model_module_version": "1.2.0",
      "model_name": "LayoutModel",
      "state": {
       "width": "145px"
      }
     },
     "397c217b35b345e6b53963f8428bd76b": {
      "model_module": "@jupyter-widgets/controls",
      "model_module_version": "1.5.0",
      "model_name": "DescriptionStyleModel",
      "state": {
       "description_width": ""
      }
     },
     "3bbd357138334034b3bd888fa3ea026f": {
      "model_module": "@jupyter-widgets/controls",
      "model_module_version": "1.5.0",
      "model_name": "DescriptionStyleModel",
      "state": {
       "description_width": ""
      }
     },
     "4b4675bd250f463d82345907141cb688": {
      "model_module": "@jupyter-widgets/base",
      "model_module_version": "1.2.0",
      "model_name": "LayoutModel",
      "state": {
       "width": "95px"
      }
     },
     "509d6961ce3f4dbf996766087b8f348c": {
      "model_module": "@jupyter-widgets/controls",
      "model_module_version": "1.5.0",
      "model_name": "ButtonStyleModel",
      "state": {}
     },
     "535f536d67c64148b248e35612d2d023": {
      "model_module": "@jupyter-widgets/controls",
      "model_module_version": "1.5.0",
      "model_name": "DescriptionStyleModel",
      "state": {
       "description_width": ""
      }
     },
     "591523384c134e26928c274985ba379a": {
      "model_module": "@jupyter-widgets/controls",
      "model_module_version": "1.5.0",
      "model_name": "ButtonModel",
      "state": {
       "button_style": "primary",
       "description": "Clear",
       "layout": "IPY_MODEL_d299000c545546cea5de2f0bf50542ac",
       "style": "IPY_MODEL_509d6961ce3f4dbf996766087b8f348c"
      }
     },
     "67a712bc78c5432f9ddc4550a538d382": {
      "model_module": "@jupyter-widgets/controls",
      "model_module_version": "1.5.0",
      "model_name": "HTMLModel",
      "state": {
       "layout": "IPY_MODEL_32f3d77799704b74b2ee3046040e55a5",
       "style": "IPY_MODEL_397c217b35b345e6b53963f8428bd76b",
       "value": "<h5>Backend</h5>"
      }
     },
     "7265168f506f45b18e116b2120481ceb": {
      "model_module": "@jupyter-widgets/controls",
      "model_module_version": "1.5.0",
      "model_name": "DescriptionStyleModel",
      "state": {
       "description_width": ""
      }
     },
     "a39c64378785423abab2b60e3d9bc9b1": {
      "model_module": "@jupyter-widgets/controls",
      "model_module_version": "1.5.0",
      "model_name": "DescriptionStyleModel",
      "state": {
       "description_width": ""
      }
     },
     "a6f822ba4aa44222855ab0e1d1e587c7": {
      "model_module": "@jupyter-widgets/base",
      "model_module_version": "1.2.0",
      "model_name": "LayoutModel",
      "state": {
       "width": "190px"
      }
     },
     "a75fa4aee8aa4a1a88bcbaeca417dd92": {
      "model_module": "@jupyter-widgets/controls",
      "model_module_version": "1.5.0",
      "model_name": "HTMLModel",
      "state": {
       "layout": "IPY_MODEL_1e124600c58f4dd19c6d02cbddc302ce",
       "style": "IPY_MODEL_a39c64378785423abab2b60e3d9bc9b1",
       "value": "<p style='font-family: IBM Plex Sans, Arial, Helvetica, sans-serif; font-size: 20px; font-weight: medium;'>Circuit Properties</p>"
      }
     },
     "adc717e5a7ed4b62a16fbc20c0bdb1b0": {
      "model_module": "@jupyter-widgets/controls",
      "model_module_version": "1.5.0",
      "model_name": "HTMLModel",
      "state": {
       "layout": "IPY_MODEL_4b4675bd250f463d82345907141cb688",
       "style": "IPY_MODEL_535f536d67c64148b248e35612d2d023",
       "value": "<h5>Status</h5>"
      }
     },
     "b7b202be19ef4031b428583b94025df5": {
      "model_module": "@jupyter-widgets/controls",
      "model_module_version": "1.5.0",
      "model_name": "GridBoxModel",
      "state": {
       "children": [
        "IPY_MODEL_591523384c134e26928c274985ba379a"
       ],
       "layout": "IPY_MODEL_b7bf179ffd004c1f9dc73d28558582ae"
      }
     },
     "b7bf179ffd004c1f9dc73d28558582ae": {
      "model_module": "@jupyter-widgets/base",
      "model_module_version": "1.2.0",
      "model_name": "LayoutModel",
      "state": {
       "grid_template_areas": "\n                                       \". . . . right \"\n                                        ",
       "grid_template_columns": "20% 20% 20% 20% 20%",
       "width": "100%"
      }
     },
     "cd8ad31efd4049fda0167093ac468524": {
      "model_module": "@jupyter-widgets/controls",
      "model_module_version": "1.5.0",
      "model_name": "HTMLModel",
      "state": {
       "layout": "IPY_MODEL_a6f822ba4aa44222855ab0e1d1e587c7",
       "style": "IPY_MODEL_0201f82468b440df93ae18861d2d33a0",
       "value": "<h5>Job ID</h5>"
      }
     },
     "d299000c545546cea5de2f0bf50542ac": {
      "model_module": "@jupyter-widgets/base",
      "model_module_version": "1.2.0",
      "model_name": "LayoutModel",
      "state": {
       "grid_area": "right",
       "padding": "0px 0px 0px 0px",
       "width": "70px"
      }
     }
    },
    "version_major": 2,
    "version_minor": 0
   }
  }
 },
 "nbformat": 4,
 "nbformat_minor": 5
}
